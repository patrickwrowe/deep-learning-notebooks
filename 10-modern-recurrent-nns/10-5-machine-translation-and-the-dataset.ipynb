{
 "cells": [
  {
   "cell_type": "markdown",
   "id": "be4e9db0",
   "metadata": {},
   "source": [
    "# Machine Translation and the Dataset\n",
    "\n",
    "One of the major advances achieved with RNNs was machine translation, a complex task where sentences may have different lengths, with worfs in different orders (i.e. unaligned sequence-to-sequence learning).\n",
    "\n",
    "Need a dataset with two different languages, source and target language."
   ]
  },
  {
   "cell_type": "code",
   "execution_count": null,
   "id": "54268ee8",
   "metadata": {},
   "outputs": [],
   "source": [
    "import os\n",
    "import torch\n",
    "from d2l import torch as d2l"
   ]
  },
  {
   "cell_type": "markdown",
   "id": "a28d6d7c",
   "metadata": {},
   "source": []
  }
 ],
 "metadata": {
  "kernelspec": {
   "display_name": "d2l",
   "language": "python",
   "name": "python3"
  },
  "language_info": {
   "name": "python",
   "version": "3.9.21"
  }
 },
 "nbformat": 4,
 "nbformat_minor": 5
}
