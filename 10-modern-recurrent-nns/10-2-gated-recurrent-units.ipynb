{
 "cells": [
  {
   "cell_type": "markdown",
   "id": "2ae64cf3",
   "metadata": {},
   "source": [
    "# Gated Recurrent Units\n",
    "\n",
    "- LSTMs are pretty slow/expensive to compute. Gated recurrent units arose from a desire by researchers to keep the idea of an internal state, while speeding up the computation. GRUs often achieve similar/comparable performance, but with improved computational efficiency.\n",
    "\n"
   ]
  },
  {
   "cell_type": "code",
   "execution_count": null,
   "id": "7a3401ed",
   "metadata": {},
   "outputs": [],
   "source": [
    "import torch\n",
    "from torch import nn\n",
    "from d2l import torch as d2l"
   ]
  },
  {
   "cell_type": "markdown",
   "id": "52a44588",
   "metadata": {},
   "source": []
  }
 ],
 "metadata": {
  "kernelspec": {
   "display_name": "d2l",
   "language": "python",
   "name": "python3"
  },
  "language_info": {
   "name": "python",
   "version": "3.9.21"
  }
 },
 "nbformat": 4,
 "nbformat_minor": 5
}
