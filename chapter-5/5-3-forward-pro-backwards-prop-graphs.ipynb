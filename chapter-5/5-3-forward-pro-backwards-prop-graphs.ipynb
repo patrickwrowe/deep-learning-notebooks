{
 "cells": [
  {
   "cell_type": "markdown",
   "id": "c2c1ef98-35be-4090-910c-a2550cecb7c2",
   "metadata": {},
   "source": [
    "# Forward Propagation, Backward Propagation and Computational Graphs"
   ]
  },
  {
   "cell_type": "markdown",
   "id": "3e6ac5cf-08ba-4f50-9db8-3bfb3ffe70eb",
   "metadata": {},
   "source": [
    "Until now, when it has been time to compute gradients, we have just let autograd do its thing without really worrying. \n",
    "\n",
    "The ability to automatically differentiate complex functions is so powerful that we will pretty much continue to use it without question, and is a big part of the reason machine learning is where it is today, but we should at least learn a little about how it works under the hood.\n",
    "\n",
    "In this section, dive in more detail into backpropagation. "
   ]
  },
  {
   "cell_type": "markdown",
   "id": "3695783a-5f44-43b9-891d-9ba298b1a0dc",
   "metadata": {},
   "source": [
    "## Forward Propagation\n",
    "\n",
    "_Forward Propagation_ or (_forward pass_) refers to the calculation running from input layer to output layer. \n",
    "\n",
    "## Backpropagation\n",
    "\n",
    "Backpropagation steps backwards through each step of the calculation, calculating the derivatives at each step\n",
    "\n",
    "## Trainign\n",
    "\n",
    "in traingin a neural network, the backpropagationa and forward propagation steps rely on each other, and so we store the intermediate values. This is why trainign requires so much more memory than simply evaluating. Furthermore, the larger the model and the larger the batch, the more likely we are to encounter _out of memory_ errors during training.\n"
   ]
  },
  {
   "cell_type": "code",
   "execution_count": null,
   "id": "38394701-3159-4299-ad98-f40bb58c7735",
   "metadata": {},
   "outputs": [],
   "source": []
  }
 ],
 "metadata": {
  "kernelspec": {
   "display_name": "Python 3 (ipykernel)",
   "language": "python",
   "name": "python3"
  },
  "language_info": {
   "codemirror_mode": {
    "name": "ipython",
    "version": 3
   },
   "file_extension": ".py",
   "mimetype": "text/x-python",
   "name": "python",
   "nbconvert_exporter": "python",
   "pygments_lexer": "ipython3",
   "version": "3.9.21"
  }
 },
 "nbformat": 4,
 "nbformat_minor": 5
}
