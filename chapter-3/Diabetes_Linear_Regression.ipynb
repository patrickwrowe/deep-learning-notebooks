{
 "cells": [
  {
   "cell_type": "markdown",
   "id": "192f3233-db14-4977-8e4a-40fe0b437a1b",
   "metadata": {},
   "source": [
    "# Diabetes Linear Regression Neural Network"
   ]
  },
  {
   "cell_type": "code",
   "execution_count": 1,
   "id": "f6959d2e-cb47-470a-bed4-49cc4d445ce8",
   "metadata": {},
   "outputs": [],
   "source": [
    "from sklearn.datasets import load_diabetes\n",
    "from torch.utils.data import Dataset\n",
    "from torch.utils.data import DataLoader\n",
    "from torch.utils.data import random_split\n",
    "\n",
    "from torch import nn\n",
    "from torch import tensor\n",
    "import torch\n",
    "\n",
    "import matplotlib.pyplot as plt"
   ]
  },
  {
   "cell_type": "code",
   "execution_count": 2,
   "id": "60e059e8-b812-4160-8540-54572490cf76",
   "metadata": {},
   "outputs": [],
   "source": [
    "device = \"cpu\""
   ]
  },
  {
   "cell_type": "markdown",
   "id": "8afb2295-470c-4b24-9954-405194f97f19",
   "metadata": {},
   "source": [
    "## Loading the Data"
   ]
  },
  {
   "cell_type": "code",
   "execution_count": 3,
   "id": "5b4e3af6-97ee-4fd5-82ec-959c80b18f21",
   "metadata": {},
   "outputs": [],
   "source": [
    "class DiabetesDataset(Dataset):\n",
    "    \"\"\"PyTorch Dataset wrapped around the sklearn diabetes dataset\"\"\"\n",
    "\n",
    "    def __init__(self):\n",
    "        self.diabetes_dataset = load_diabetes()\n",
    "        self.features = self.diabetes_dataset[\"data\"]  # X\n",
    "        self.labels = self.diabetes_dataset[\"target\"]  # y\n",
    "        self.feature_names = self.diabetes_dataset[\"feature_names\"]\n",
    "\n",
    "    def __len__(self):\n",
    "        return len(self.features)\n",
    "\n",
    "    def __getitem__(self, idx: int):\n",
    "        return torch.tensor(self.features[idx], dtype=torch.float), torch.tensor(self.labels[idx], dtype=torch.float)"
   ]
  },
  {
   "cell_type": "code",
   "execution_count": 4,
   "id": "e282160b-5b7c-4c15-b80f-dbced9fe5240",
   "metadata": {},
   "outputs": [],
   "source": [
    "# Create an instance of the dataset\n",
    "diabetes_dataset = DiabetesDataset()"
   ]
  },
  {
   "cell_type": "code",
   "execution_count": 5,
   "id": "02b92e90-34c7-4e06-a645-a0316048d28d",
   "metadata": {},
   "outputs": [],
   "source": [
    "desired_split = [0.7, 0.3]\n",
    "train_dataset, val_dataset = random_split(diabetes_dataset, desired_split)"
   ]
  },
  {
   "cell_type": "code",
   "execution_count": 6,
   "id": "470be681-b5ad-46cd-9227-599fb5169502",
   "metadata": {},
   "outputs": [
    {
     "name": "stdout",
     "output_type": "stream",
     "text": [
      "Aiming for a split of [0.7, 0.3].\n",
      "Length of total dataset: 442\n",
      "Length of train dataset: 310 (70.14%)\n",
      "Length of test dataset: 132 (29.86%)\n"
     ]
    }
   ],
   "source": [
    "print(f\"Aiming for a split of {desired_split}.\")\n",
    "print(f\"Length of total dataset: {len(diabetes_dataset)}\")\n",
    "print(f\"Length of train dataset: {len(train_dataset)} ({100 * len(train_dataset)/len(diabetes_dataset):.2f}%)\")\n",
    "print(f\"Length of test dataset: {len(val_dataset)} ({100 * len(val_dataset)/len(diabetes_dataset):.2f}%)\")"
   ]
  },
  {
   "cell_type": "markdown",
   "id": "f59c58b8-456a-4418-9e88-97e4cd190668",
   "metadata": {},
   "source": [
    "## Defining the Model"
   ]
  },
  {
   "cell_type": "markdown",
   "id": "24137feb-a86a-47e3-b181-27074af94e98",
   "metadata": {},
   "source": [
    "### Super simple linear regression"
   ]
  },
  {
   "cell_type": "code",
   "execution_count": 7,
   "id": "07ad6284-2942-4d62-b6e9-f33460046c79",
   "metadata": {},
   "outputs": [],
   "source": [
    "class LinearDiabetesRegressor(nn.Module):\n",
    "    def __init__(self, num_features: int):\n",
    "        super().__init__()\n",
    "\n",
    "        # Initalise some weights for a linear model drawn from normal distribution\n",
    "        self.weight = torch.normal(0, 0.01, (num_features,), requires_grad=True)\n",
    "\n",
    "        # Initialise bias to 0.\n",
    "        self.bias = torch.zeros(1, requires_grad=True)\n",
    "\n",
    "    def forward(self, X: torch.Tensor):\n",
    "        \"\"\"Simple forward pass, not even using the torch constructors for NNs\"\"\"\n",
    "        return torch.matmul(self.weight, X) + self.bias\n",
    "\n",
    "    def loss(self, y_hat: torch.Tensor, y: torch.Tensor):\n",
    "        \"\"\"Mean squared error losss\"\"\"\n",
    "        return torch.mean((y - y_hat)**2/2)\n",
    "\n",
    "    def configure_optimizer(self, lr: float):\n",
    "        # Because we haven't specified a neural network normally, we configure the optimiser this way.\n",
    "        self.optimizer = torch.optim.SGD([\n",
    "            {'params': self.weight},\n",
    "            {'params': self.bias}], lr=learning_rate)"
   ]
  },
  {
   "cell_type": "code",
   "execution_count": 8,
   "id": "988e337e-f6d3-48c2-9a20-8adc32d59afc",
   "metadata": {},
   "outputs": [],
   "source": [
    "model = LinearDiabetesRegressor(len(diabetes_dataset.feature_names)).to(device)"
   ]
  },
  {
   "cell_type": "code",
   "execution_count": 9,
   "id": "4d07eaa1-3869-47c1-bec0-65d6bc69d538",
   "metadata": {},
   "outputs": [
    {
     "name": "stdout",
     "output_type": "stream",
     "text": [
      "tensor([-0.0005], grad_fn=<AddBackward0>)\n"
     ]
    }
   ],
   "source": [
    "# Before training the model, we can use the forward method, nothing to change here except the weights and the biases!\n",
    "random_prediction = model(val_dataset[0][0])\n",
    "print(random_prediction)"
   ]
  },
  {
   "cell_type": "markdown",
   "id": "02ad1771-f86b-4a23-b2e9-0b5c5715d95e",
   "metadata": {},
   "source": [
    "## Training the model"
   ]
  },
  {
   "cell_type": "markdown",
   "id": "94ac8089-d784-4657-9a03-5b14b91e904e",
   "metadata": {},
   "source": [
    "### Training Loop (three steps)\n",
    "1. Zero all gradients so that they don't add up\n",
    "2. Backpropagate the gradients with loss.backward()\n",
    "3. Call optimizer.step() to update the parameters in the direction of the computed gradients."
   ]
  },
  {
   "cell_type": "code",
   "execution_count": 10,
   "id": "524498d0-e280-42ae-9e87-b19fefc7f291",
   "metadata": {},
   "outputs": [],
   "source": [
    "def train_loop(dataloader, model):\n",
    "    size = len(dataloader.dataset)\n",
    "    \n",
    "    # best practise\n",
    "    model.train()\n",
    "\n",
    "    for batch, (X, y) in enumerate(dataloader):\n",
    "\n",
    "        # make a prediction\n",
    "        pred = model(X)\n",
    "        loss = model.loss(pred, y)\n",
    "\n",
    "        # Backpropagation\n",
    "        loss.backward()\n",
    "        model.optimizer.step()\n",
    "        model.optimizer.zero_grad()\n",
    "\n",
    "    return float(loss)"
   ]
  },
  {
   "cell_type": "code",
   "execution_count": 11,
   "id": "28dcaf4f-5e64-4666-84c2-e22c50e94db9",
   "metadata": {},
   "outputs": [],
   "source": [
    "def test_loop(dataloader, model):\n",
    "    # best practise\n",
    "    model.eval()\n",
    "\n",
    "    num_batches = len(dataloader)\n",
    "    test_loss = 0\n",
    "    \n",
    "    # Don't want to waste time computing gradients on validation check\n",
    "    with torch.no_grad():\n",
    "        for X, y in dataloader:\n",
    "            pred = model(X)\n",
    "            loss = model.loss(pred, y)\n",
    "            test_loss += loss\n",
    "\n",
    "    \n",
    "    test_loss /= num_batches\n",
    "    return float(test_loss)"
   ]
  },
  {
   "cell_type": "code",
   "execution_count": 15,
   "id": "2c22396b-42b7-45a2-a0cf-b45151ea455c",
   "metadata": {},
   "outputs": [
    {
     "name": "stdout",
     "output_type": "stream",
     "text": [
      "Epoch: 1 \n",
      " ##########\n",
      "Train loss: 143.66619873046875, Test Loss: 9517.4677734375\n",
      "Epoch: 2 \n",
      " ##########\n",
      "Train loss: 77.03998565673828, Test Loss: 6523.796875\n",
      "Epoch: 3 \n",
      " ##########\n",
      "Train loss: 574.490478515625, Test Loss: 4881.025390625\n",
      "Epoch: 4 \n",
      " ##########\n",
      "Train loss: 1230.173828125, Test Loss: 3972.8740234375\n",
      "Epoch: 5 \n",
      " ##########\n",
      "Train loss: 1864.747314453125, Test Loss: 3465.76611328125\n",
      "Epoch: 6 \n",
      " ##########\n",
      "Train loss: 2410.261962890625, Test Loss: 3178.70068359375\n",
      "Epoch: 7 \n",
      " ##########\n",
      "Train loss: 2851.01904296875, Test Loss: 3013.18017578125\n",
      "Epoch: 8 \n",
      " ##########\n",
      "Train loss: 3193.837158203125, Test Loss: 2915.376220703125\n",
      "Epoch: 9 \n",
      " ##########\n",
      "Train loss: 3453.5322265625, Test Loss: 2855.720947265625\n",
      "Epoch: 10 \n",
      " ##########\n",
      "Train loss: 3646.270751953125, Test Loss: 2817.84423828125\n"
     ]
    }
   ],
   "source": [
    "# Full/fresh loading and training loop.\n",
    "\n",
    "# Hyperparameters\n",
    "learning_rate = 1e-3\n",
    "batch_size = 64\n",
    "epochs = 10\n",
    "\n",
    "# Prep Data\n",
    "diabetes_dataset = DiabetesDataset()\n",
    "desired_split = [0.7, 0.3]\n",
    "train_dataset, val_dataset = random_split(diabetes_dataset, desired_split)\n",
    "\n",
    "# Prep model\n",
    "model = LinearDiabetesRegressor(num_features = len(diabetes_dataset.feature_names))\n",
    "model.configure_optimizer(lr=learning_rate)\n",
    "\n",
    "# Train the model\n",
    "losses = {\n",
    "    \"train_loss\": [],\n",
    "    \"test_loss\": []\n",
    "}\n",
    "for epoch in range(epochs):\n",
    "    print(f\"Epoch: {epoch+1} \\n {10*'#'}\")\n",
    "    losses[\"train_loss\"].append(train_loop(train_dataset, model))\n",
    "    losses[\"test_loss\"].append(test_loop(val_dataset, model))\n",
    "\n",
    "    print(f\"Train loss: {losses['train_loss'][-1]}, Test Loss: {losses['test_loss'][-1]}\")"
   ]
  },
  {
   "cell_type": "markdown",
   "id": "21bbedec-a8a1-453f-a5df-a9539f562e47",
   "metadata": {},
   "source": [
    "## Plot a figure to make sure it's actually training...\n",
    "\n",
    "(It's pretty awful, but then we are trying to do linear regression on a 10 dimensional dataset). Clearly this model is too simple to capture the complexity of the given dataset, even if we do something ridiculous like allowing 50 epochs for training, we still don't manage to overfit our model. "
   ]
  },
  {
   "cell_type": "code",
   "execution_count": 16,
   "id": "bd4b153b-35f4-46a2-a8af-9d95446e9a38",
   "metadata": {},
   "outputs": [
    {
     "data": {
      "image/png": "[encoded data removed]",
      "text/plain": [
       "<Figure size 500x500 with 1 Axes>"
      ]
     },
     "metadata": {},
     "output_type": "display_data"
    }
   ],
   "source": [
    "fig, ax = plt.subplots(ncols=1, nrows=1, figsize=(5, 5))\n",
    "\n",
    "ax.plot(range(epochs), losses[\"train_loss\"], label=\"Train Loss\")\n",
    "ax.plot(range(epochs), losses[\"test_loss\"], label=\"Test Loss\")\n",
    "\n",
    "ax.set_ylabel(\"Loss\")\n",
    "ax.set_xlabel(\"Epoch\")\n",
    "ax.legend(frameon=False)\n",
    "\n",
    "plt.show()"
   ]
  },
  {
   "cell_type": "code",
   "execution_count": null,
   "id": "6ad5cd3d-2c9f-496a-b1e3-d48b12b3cb80",
   "metadata": {},
   "outputs": [],
   "source": []
  }
 ],
 "metadata": {
  "kernelspec": {
   "display_name": "Python 3 (ipykernel)",
   "language": "python",
   "name": "python3"
  },
  "language_info": {
   "codemirror_mode": {
    "name": "ipython",
    "version": 3
   },
   "file_extension": ".py",
   "mimetype": "text/x-python",
   "name": "python",
   "nbconvert_exporter": "python",
   "pygments_lexer": "ipython3",
   "version": "3.9.21"
  }
 },
 "nbformat": 4,
 "nbformat_minor": 5
}
