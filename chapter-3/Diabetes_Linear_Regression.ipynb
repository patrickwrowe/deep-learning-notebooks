{
 "cells": [
  {
   "cell_type": "code",
   "execution_count": 13,
   "id": "f6959d2e-cb47-470a-bed4-49cc4d445ce8",
   "metadata": {},
   "outputs": [],
   "source": [
    "from sklearn.datasets import load_diabetes\n",
    "from torch.utils.data import Dataset\n",
    "from torch.utils.data import DataLoader\n",
    "from torch.utils.data import random_split"
   ]
  },
  {
   "cell_type": "code",
   "execution_count": 20,
   "id": "5b4e3af6-97ee-4fd5-82ec-959c80b18f21",
   "metadata": {},
   "outputs": [],
   "source": [
    "class DiabetesDataset(Dataset):\n",
    "    \"\"\"PyTorch Dataset wrapped around the sklearn diabetes dataset\"\"\"\n",
    "\n",
    "    def __init__(self):\n",
    "        self.diabetes_dataset = load_diabetes()\n",
    "        self.features = self.diabetes_dataset[\"data\"]  # X\n",
    "        self.labels = self.diabetes_dataset[\"target\"]  # y\n",
    "        self.feature_names = self.diabetes_dataset[\"feature_names\"]\n",
    "\n",
    "    def __len__(self):\n",
    "        return len(self.features)\n",
    "\n",
    "    def __getitem__(self, idx):\n",
    "        return self.features[idx], self.labels[idx]"
   ]
  },
  {
   "cell_type": "code",
   "execution_count": 24,
   "id": "e282160b-5b7c-4c15-b80f-dbced9fe5240",
   "metadata": {},
   "outputs": [],
   "source": [
    "# Create an instance of the dataset\n",
    "diabetes_dataset = DiabetesDataset()"
   ]
  },
  {
   "cell_type": "code",
   "execution_count": 34,
   "id": "02b92e90-34c7-4e06-a645-a0316048d28d",
   "metadata": {},
   "outputs": [],
   "source": [
    "desired_split = [0.7, 0.3]\n",
    "train_dataset, val_dataset = random_split(diabetes_dataset, desired_split)"
   ]
  },
  {
   "cell_type": "code",
   "execution_count": 37,
   "id": "470be681-b5ad-46cd-9227-599fb5169502",
   "metadata": {},
   "outputs": [
    {
     "name": "stdout",
     "output_type": "stream",
     "text": [
      "Aiming for a split of [0.7, 0.3].\n",
      "Length of total dataset: 442\n",
      "Length of train dataset: 310 (70.14%)\n",
      "Length of test dataset: 132 (29.86%)\n"
     ]
    }
   ],
   "source": [
    "print(f\"Aiming for a split of {desired_split}.\")\n",
    "print(f\"Length of total dataset: {len(diabetes_dataset)}\")\n",
    "print(f\"Length of train dataset: {len(train_dataset)} ({100 * len(train_dataset)/len(diabetes_dataset):.2f}%)\")\n",
    "print(f\"Length of test dataset: {len(val_dataset)} ({100 * len(val_dataset)/len(diabetes_dataset):.2f}%)\")"
   ]
  },
  {
   "cell_type": "code",
   "execution_count": null,
   "id": "07ad6284-2942-4d62-b6e9-f33460046c79",
   "metadata": {},
   "outputs": [],
   "source": []
  }
 ],
 "metadata": {
  "kernelspec": {
   "display_name": "Python 3 (ipykernel)",
   "language": "python",
   "name": "python3"
  },
  "language_info": {
   "codemirror_mode": {
    "name": "ipython",
    "version": 3
   },
   "file_extension": ".py",
   "mimetype": "text/x-python",
   "name": "python",
   "nbconvert_exporter": "python",
   "pygments_lexer": "ipython3",
   "version": "3.9.21"
  }
 },
 "nbformat": 4,
 "nbformat_minor": 5
}
