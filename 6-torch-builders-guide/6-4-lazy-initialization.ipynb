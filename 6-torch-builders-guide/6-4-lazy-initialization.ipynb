{
 "cells": [
  {
   "cell_type": "markdown",
   "id": "7aaf06e9-c93f-4ea8-a28b-4369201f509f",
   "metadata": {},
   "source": [
    "# Lazy Initialization\n",
    "\n",
    "In the previous sections, we have done a few things which appear sloppy.\n",
    "\n",
    "- We defined network architectures without specifying the input dimensionality\n",
    "- We added layers without specifying the output dimension of the previous layer\n",
    "- We initialized these parameters without giving enough information to initialize them\n",
    "\n",
    "We were able to do this because the framework defers initialization to the first time a tensor is run through the network; the dimensionality required for initalization is provided at runtime. This is particularly convenient when working with convolutional neural networks, where the dimensionality of the input (i.e. the resolution of an image) will affect the dimensionality of each subsequent layer. "
   ]
  },
  {
   "cell_type": "code",
   "execution_count": 1,
   "id": "9b807341-5294-4893-90b2-b5c4ae5758b8",
   "metadata": {},
   "outputs": [],
   "source": [
    "import torch\n",
    "from torch import nn\n",
    "from d2l import torch as d2l"
   ]
  },
  {
   "cell_type": "code",
   "execution_count": 2,
   "id": "cbf1e6c1-6e11-4dca-bb25-82f67f4e25a9",
   "metadata": {},
   "outputs": [
    {
     "name": "stderr",
     "output_type": "stream",
     "text": [
      "/Users/patrickrowe/miniconda3/envs/d2l/lib/python3.9/site-packages/torch/nn/modules/lazy.py:180: UserWarning: Lazy modules are a new feature under heavy development so changes to the API or functionality can happen at any moment.\n",
      "  warnings.warn('Lazy modules are a new feature under heavy development '\n"
     ]
    }
   ],
   "source": [
    "# Begin by instantiating an MLP\n",
    "\n",
    "net = nn.Sequential(nn.LazyLinear(256), nn.ReLU(), nn.LazyLinear(10))"
   ]
  },
  {
   "cell_type": "code",
   "execution_count": 3,
   "id": "8532e0b8-842c-4675-85bc-cad330c7e7e6",
   "metadata": {},
   "outputs": [
    {
     "data": {
      "text/plain": [
       "<UninitializedParameter>"
      ]
     },
     "execution_count": 3,
     "metadata": {},
     "output_type": "execute_result"
    }
   ],
   "source": [
    "# Because we have only specified the output dimension of the first layer (256) the network cannot possibly know the input dimensionality, so there can't be any weights. \n",
    "\n",
    "# Confirm this..\n",
    "net[0].weight"
   ]
  },
  {
   "cell_type": "code",
   "execution_count": 6,
   "id": "7bebfeb1-18da-4aae-88c0-2f8a42de95cb",
   "metadata": {},
   "outputs": [
    {
     "data": {
      "text/plain": [
       "(Parameter containing:\n",
       " tensor([[ 0.0730, -0.1219,  0.0104,  ..., -0.1055,  0.2209, -0.0531],\n",
       "         [ 0.0086, -0.0976, -0.0732,  ...,  0.0623, -0.1105,  0.1594],\n",
       "         [ 0.0951, -0.1505, -0.1371,  ..., -0.1153, -0.0783, -0.1681],\n",
       "         ...,\n",
       "         [ 0.0842, -0.2100,  0.0313,  ...,  0.1497, -0.0366,  0.0430],\n",
       "         [ 0.1479, -0.1569, -0.0685,  ..., -0.1573, -0.0784, -0.1526],\n",
       "         [-0.1824,  0.1225, -0.0379,  ..., -0.1767,  0.1990,  0.0970]],\n",
       "        requires_grad=True),\n",
       " torch.Size([256, 20]))"
      ]
     },
     "execution_count": 6,
     "metadata": {},
     "output_type": "execute_result"
    }
   ],
   "source": [
    "# We can finish the initialization by passing data throught he parameters\n",
    "X = torch.rand(2, 20)\n",
    "net(X)\n",
    "\n",
    "net[0].weight, net[0].weight.shape"
   ]
  },
  {
   "cell_type": "code",
   "execution_count": null,
   "id": "cedc7b9e-9060-42b6-952d-6e04dccce783",
   "metadata": {},
   "outputs": [],
   "source": []
  }
 ],
 "metadata": {
  "kernelspec": {
   "display_name": "Python 3 (ipykernel)",
   "language": "python",
   "name": "python3"
  },
  "language_info": {
   "codemirror_mode": {
    "name": "ipython",
    "version": 3
   },
   "file_extension": ".py",
   "mimetype": "text/x-python",
   "name": "python",
   "nbconvert_exporter": "python",
   "pygments_lexer": "ipython3",
   "version": "3.9.21"
  }
 },
 "nbformat": 4,
 "nbformat_minor": 5
}
