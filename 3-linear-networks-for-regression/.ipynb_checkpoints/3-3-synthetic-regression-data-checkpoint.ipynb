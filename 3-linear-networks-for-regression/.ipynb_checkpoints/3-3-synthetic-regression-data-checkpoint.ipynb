{
 "cells": [
  {
   "cell_type": "markdown",
   "id": "1a6532f8-7bff-4283-82b4-fe0ab54e2dd6",
   "metadata": {},
   "source": [
    "# 3.3 Synthetic Regression Data"
   ]
  },
  {
   "cell_type": "markdown",
   "id": "0123b1a9-a6bf-4238-aad1-1cec14ddae31",
   "metadata": {},
   "source": [
    "## Generating the synthetic training data"
   ]
  },
  {
   "cell_type": "code",
   "execution_count": 2,
   "id": "56684387-fa01-42ed-8e12-f918779f2be1",
   "metadata": {},
   "outputs": [],
   "source": [
    "%matplotlib inline\n",
    "import random\n",
    "import torch\n",
    "from d2l import torch as d2l"
   ]
  },
  {
   "cell_type": "code",
   "execution_count": 4,
   "id": "952865d3-f99c-4a29-9789-9aae7d721e87",
   "metadata": {},
   "outputs": [],
   "source": [
    "class SyntheticRegressionData(d2l.DataModule):\n",
    "\n",
    "    def __init__(self, w, b, noise=0.01, num_train=1000, num_val=1000, batch_size=32):\n",
    "        super().__init__()\n",
    "        self.save_hyperparameters()\n",
    "        n = num_train + num_val\n",
    "        self.X = torch.randn(n, len(w))\n",
    "        noise = torch.randn(n, 1) * noise\n",
    "        self.y = torch.matmul(self.X, w.reshape((-1, 1))) + b + noise\n"
   ]
  },
  {
   "cell_type": "markdown",
   "id": "f851aabd-c249-469e-954a-7f90fcbf911d",
   "metadata": {},
   "source": [
    "Below, we set the true parameters to $\\mathbf{w} = [-2, 3.4]^{\\intercal}$ and $b=4.2$, later we can see how our estimated parameters compare to these ground truth parameters."
   ]
  },
  {
   "cell_type": "code",
   "execution_count": 6,
   "id": "8250c003-39b8-4e8a-9bbf-1336ee6763d6",
   "metadata": {},
   "outputs": [
    {
     "name": "stdout",
     "output_type": "stream",
     "text": [
      "torch.Size([2000, 2])\n"
     ]
    }
   ],
   "source": [
    "data = SyntheticRegressionData(w=torch.tensor([2, -3.4]), b=4.2)"
   ]
  },
  {
   "cell_type": "code",
   "execution_count": 7,
   "id": "282984c0-b6cb-43e8-ab9a-47d9f2955018",
   "metadata": {},
   "outputs": [
    {
     "name": "stdout",
     "output_type": "stream",
     "text": [
      "features: tensor([1.3148, 0.5488]) \n",
      "label: tensor([4.9695])\n"
     ]
    }
   ],
   "source": [
    "print('features:', data.X[0],'\\nlabel:', data.y[0])"
   ]
  },
  {
   "cell_type": "code",
   "execution_count": 8,
   "id": "5fef3d58-6ece-4fbb-a9de-fb4166908543",
   "metadata": {},
   "outputs": [
    {
     "name": "stdout",
     "output_type": "stream",
     "text": [
      "torch.Size([2000, 2]) torch.Size([2000, 1])\n"
     ]
    }
   ],
   "source": [
    "print(data.X.shape, data.y.shape)"
   ]
  },
  {
   "cell_type": "markdown",
   "id": "06e6b3df-0896-4808-ae85-24f6a0dc417a",
   "metadata": {},
   "source": [
    "## Reading the Dataset (with a dataloader)\n",
    "\n",
    "Aim is to design concise, memory efficient dataloaders to iterate over a large dataset, providing us with batches of data.\n",
    "\n",
    "For training, we want to get the data in an entirely random order, while for validation we want to always get the data in the same order, which we expect will be helpful for debugging."
   ]
  },
  {
   "cell_type": "code",
   "execution_count": 9,
   "id": "ff1ecf71-2ec2-4c1d-acab-c223fc933072",
   "metadata": {},
   "outputs": [],
   "source": [
    "@d2l.add_to_class(SyntheticRegressionData)\n",
    "def get_dataloader(self, train):\n",
    "    if train:\n",
    "        indices = list(range(0, self.num_train))\n",
    "        random.shuffle(indices)\n",
    "    else:\n",
    "        indices = list(range(self.num_train, self.num_train + self.num_val))\n",
    "    for i in range(0, len(indices), self.batch_size):\n",
    "        batch_indices = torch.tensor(indices[i: i + self.batch_size])\n",
    "        yield self.X[batch_indices], self.y[batch_indices]"
   ]
  },
  {
   "cell_type": "code",
   "execution_count": 11,
   "id": "876e7660-6e0b-47b1-8e83-196094cae0cb",
   "metadata": {},
   "outputs": [],
   "source": [
    "X, y = next(iter(data.train_dataloader()))"
   ]
  },
  {
   "cell_type": "code",
   "execution_count": 12,
   "id": "65e3cca6-e7b4-4c1a-b8e7-ac2ceee23be7",
   "metadata": {},
   "outputs": [
    {
     "name": "stdout",
     "output_type": "stream",
     "text": [
      "X shape: torch.Size([32, 2]) \n",
      "y shape: torch.Size([32, 1])\n"
     ]
    }
   ],
   "source": [
    "print('X shape:', X.shape, '\\ny shape:', y.shape)"
   ]
  },
  {
   "cell_type": "markdown",
   "id": "7129268c-9201-49a3-b4e0-1d3085bb81e2",
   "metadata": {},
   "source": [
    "## Consise implementation\n",
    "\n",
    "While the above implementation works, it requires loading the whole daqtaset into memory which is inefficient and may result in problems for real world problems.\n",
    "\n",
    "PyTorch has highly optimised and capable dataloaders, so we should rely on this API>"
   ]
  },
  {
   "cell_type": "code",
   "execution_count": 15,
   "id": "8c232928-a883-4064-a44d-51906bec95a5",
   "metadata": {},
   "outputs": [
    {
     "name": "stdout",
     "output_type": "stream",
     "text": [
      "X shape: torch.Size([32, 2]) \n",
      "y shape: torch.Size([32, 1])\n"
     ]
    }
   ],
   "source": [
    "@d2l.add_to_class(d2l.DataModule)\n",
    "def get_tensorloader(self, tensors, train, indices=slice(0, None)):\n",
    "    tensors = tuple(a[indices] for a in tensors)\n",
    "    dataset = torch.utils.data.TensorDataset(*tensors)\n",
    "    return torch.utils.data.DataLoader(dataset, self.batch_size, shuffle=train)\n",
    "\n",
    "@d2l.add_to_class(SyntheticRegressionData)\n",
    "def get_dataloader(self, train):\n",
    "    i = slice(0, self.num_train) if train else slice(self.num_train, None)\n",
    "    return self.get_tensorloader((self.X, self.y), train, i)\n",
    "\n",
    "X, y = next(iter(data.train_dataloader()))\n",
    "print('X shape:', X.shape, '\\ny shape:', y.shape)"
   ]
  },
  {
   "cell_type": "code",
   "execution_count": null,
   "id": "cd078269-9c93-4fe3-b7eb-bb35d026654e",
   "metadata": {},
   "outputs": [],
   "source": []
  }
 ],
 "metadata": {
  "kernelspec": {
   "display_name": "Python 3 (ipykernel)",
   "language": "python",
   "name": "python3"
  },
  "language_info": {
   "codemirror_mode": {
    "name": "ipython",
    "version": 3
   },
   "file_extension": ".py",
   "mimetype": "text/x-python",
   "name": "python",
   "nbconvert_exporter": "python",
   "pygments_lexer": "ipython3",
   "version": "3.9.21"
  }
 },
 "nbformat": 4,
 "nbformat_minor": 5
}
