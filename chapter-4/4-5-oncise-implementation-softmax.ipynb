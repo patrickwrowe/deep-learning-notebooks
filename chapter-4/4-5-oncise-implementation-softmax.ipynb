{
 "cells": [
  {
   "cell_type": "markdown",
   "id": "021c500e-d533-45be-851d-43bfc0bdeb08",
   "metadata": {},
   "source": [
    "# A concise implementaiton of softmax regression"
   ]
  },
  {
   "cell_type": "code",
   "execution_count": null,
   "id": "d5ce9046-5ecb-4c5c-a28b-3119d543ab3d",
   "metadata": {},
   "outputs": [],
   "source": [
    "A"
   ]
  }
 ],
 "metadata": {
  "kernelspec": {
   "display_name": "Python 3 (ipykernel)",
   "language": "python",
   "name": "python3"
  },
  "language_info": {
   "codemirror_mode": {
    "name": "ipython",
    "version": 3
   },
   "file_extension": ".py",
   "mimetype": "text/x-python",
   "name": "python",
   "nbconvert_exporter": "python",
   "pygments_lexer": "ipython3",
   "version": "3.9.21"
  }
 },
 "nbformat": 4,
 "nbformat_minor": 5
}
