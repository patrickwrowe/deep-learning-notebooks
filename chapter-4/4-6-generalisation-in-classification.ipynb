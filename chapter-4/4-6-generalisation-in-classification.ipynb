{
 "cells": [
  {
   "cell_type": "markdown",
   "id": "e973fb04-586b-4278-a928-1234e4439c8c",
   "metadata": {},
   "source": [
    "# Generalization in Classification"
   ]
  },
  {
   "cell_type": "code",
   "execution_count": null,
   "id": "2e168916-59af-4476-ae64-016a466e8280",
   "metadata": {},
   "outputs": [],
   "source": []
  }
 ],
 "metadata": {
  "kernelspec": {
   "display_name": "Python 3 (ipykernel)",
   "language": "python",
   "name": "python3"
  },
  "language_info": {
   "codemirror_mode": {
    "name": "ipython",
    "version": 3
   },
   "file_extension": ".py",
   "mimetype": "text/x-python",
   "name": "python",
   "nbconvert_exporter": "python",
   "pygments_lexer": "ipython3",
   "version": "3.9.21"
  }
 },
 "nbformat": 4,
 "nbformat_minor": 5
}
