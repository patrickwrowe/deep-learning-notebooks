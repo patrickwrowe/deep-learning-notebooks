{
 "cells": [
  {
   "cell_type": "markdown",
   "id": "08ade812-003e-4217-9470-3e53f8d2c201",
   "metadata": {},
   "source": [
    "# Converting Raw Text into Sequence Data"
   ]
  },
  {
   "cell_type": "markdown",
   "id": "86549b5d-0007-4173-837a-8c7647980201",
   "metadata": {},
   "source": [
    "Typical preprocessing steps for dealing with text data would involve, \n",
    "1. Load text as strings into memory\n",
    "2. Split the strings into tokens (e.g. words or characters)\n",
    "3. Build a dictionary, associating each token with a numerical index\n",
    "4. Convert the text into a sequence of numerical indices"
   ]
  },
  {
   "cell_type": "code",
   "execution_count": 2,
   "id": "f65270cc-0c98-4509-8513-0c2cefa4730b",
   "metadata": {},
   "outputs": [],
   "source": [
    "import collections\n",
    "import random\n",
    "import re\n",
    "import torch\n",
    "from d2l import torch as d2l"
   ]
  },
  {
   "cell_type": "markdown",
   "id": "7cb32d54-0e06-484c-b2a9-9661bcd61238",
   "metadata": {},
   "source": [
    "## Reading The Dataset\n",
    "\n",
    "We will be working with H.G. Wells' \"The Time Machine\"."
   ]
  },
  {
   "cell_type": "code",
   "execution_count": 4,
   "id": "c344f25f-2397-4ad5-8063-5c0b61f14493",
   "metadata": {},
   "outputs": [],
   "source": [
    "class TimeMachine(d2l.DataModule):\n",
    "\n",
    "    def _download(self):\n",
    "        fname = d2l.download(d2l.DATA_URL + 'timemachine.txt', self.root,\n",
    "            '090b5e7e70c295757f55df93cb0a180b9691891a')\n",
    "        with open(fname) as f:\n",
    "            return f.read()"
   ]
  },
  {
   "cell_type": "code",
   "execution_count": 5,
   "id": "743b772f-1fc8-4b97-9030-c73eb44970ea",
   "metadata": {},
   "outputs": [
    {
     "name": "stdout",
     "output_type": "stream",
     "text": [
      "Downloading ../data/timemachine.txt from http://d2l-data.s3-accelerate.amazonaws.com/timemachine.txt...\n"
     ]
    }
   ],
   "source": [
    "data = TimeMachine()\n",
    "raw_text = data._download()"
   ]
  },
  {
   "cell_type": "code",
   "execution_count": 6,
   "id": "6b165bc4-5295-4f02-b600-2f578d76914e",
   "metadata": {},
   "outputs": [
    {
     "data": {
      "text/plain": [
       "'The Time Machine, by H. G. Wells [1898]\\n\\n\\n\\n\\nI\\n\\n\\nThe Time Traveller (f'"
      ]
     },
     "execution_count": 6,
     "metadata": {},
     "output_type": "execute_result"
    }
   ],
   "source": [
    "raw_text[:69]"
   ]
  },
  {
   "cell_type": "code",
   "execution_count": 8,
   "id": "e1df7be3-d1ae-47c7-b64a-c13305161ee6",
   "metadata": {},
   "outputs": [],
   "source": [
    "@d2l.add_to_class(TimeMachine)\n",
    "def _preprocess(self, text):\n",
    "    # Ignore punctuation and capitalisation for simplicity\n",
    "    return re.sub('[^A-Za-z]+', ' ', text).lower()    "
   ]
  },
  {
   "cell_type": "code",
   "execution_count": 9,
   "id": "ae98129f-6c91-4144-86ad-ddb31c0c2220",
   "metadata": {},
   "outputs": [
    {
     "data": {
      "text/plain": [
       "'the time machine by h g wells i the time traveller for so it'"
      ]
     },
     "execution_count": 9,
     "metadata": {},
     "output_type": "execute_result"
    }
   ],
   "source": [
    "text = data._preprocess(raw_text)\n",
    "text[:60]"
   ]
  },
  {
   "cell_type": "markdown",
   "id": "50dea4c0-d0da-4613-816b-bb539f90b3cc",
   "metadata": {},
   "source": [
    "## Tokenisation\n",
    "\n",
    "Tokens are the individual \"steps\" of a sequence. Exactly what those tokens are is a design choice. For example, we could represent a sentence as a sequence of words, with a small number of elements in the sequence, but an enormous vocabulary, or we could instead represetn that same sequence as a series of letters. This would result in a much longer sequence but require a smaller vocabulary of only, say, 256 tokens (if using ASCII). "
   ]
  },
  {
   "cell_type": "code",
   "execution_count": 11,
   "id": "69a7dab1-1697-44ef-893b-21b463e48824",
   "metadata": {},
   "outputs": [],
   "source": [
    "# Tokenise to a list of characters\n",
    "\n",
    "@d2l.add_to_class(TimeMachine)\n",
    "def _tokenize(self, text):\n",
    "    return list(text)"
   ]
  },
  {
   "cell_type": "code",
   "execution_count": 12,
   "id": "0cc91c3f-9c5f-4149-8d61-d606ec52b59d",
   "metadata": {},
   "outputs": [],
   "source": [
    "tokens = data._tokenize(text)"
   ]
  },
  {
   "cell_type": "code",
   "execution_count": 14,
   "id": "a3a643da-c294-4d25-9f7a-0d092be1f9cd",
   "metadata": {},
   "outputs": [
    {
     "data": {
      "text/plain": [
       "'t,h,e, ,t,i,m,e, ,m,a,c,h,i,n,e, ,b,y, ,h, ,g, ,w,e,l,l,s, '"
      ]
     },
     "execution_count": 14,
     "metadata": {},
     "output_type": "execute_result"
    }
   ],
   "source": [
    "\",\".join(tokens[:30])"
   ]
  },
  {
   "cell_type": "markdown",
   "id": "bb42ee19-8cdd-4ac8-b197-bbbd0a696a21",
   "metadata": {},
   "source": [
    "## Vocabulary\n",
    "\n",
    "These tokens are still strings, we must connect these to numerical indices to input to the model, this is called a \"_vocabulary_\".  First we compile a complete list of the tokens seen in the training _corpus_, and assign a unique numerical index to each. Often, uncommon/rare tokens are dropped from the vocabulary, and are represednted by \"`<unk>`\" at training/execution time.\n"
   ]
  },
  {
   "cell_type": "code",
   "execution_count": 15,
   "id": "5b6a9d6d-e21e-4bd2-a264-beb4bc372392",
   "metadata": {},
   "outputs": [],
   "source": [
    "class Vocab:\n",
    "    def __init__(self, tokens=[], min_freq=0, reserved_tokens=[]):\n",
    "\n",
    "        # Flatten?\n",
    "        if tokens and isinstance(tokens[0], list):\n",
    "            tokens = [token for line in tokens for token in line]\n",
    "\n",
    "        # Count frequencies\n",
    "        counter = collections.Counter(tokens)\n",
    "        self.token_freqs = sorted(counter.items(), key=lambda x: x[1], reverse=True)\n",
    "\n",
    "        # list unique tokens\n",
    "        self.idx_to_token = list(\n",
    "            sorted(\n",
    "                set(\n",
    "                    ['<unk>'] \n",
    "                    + reserved_tokens\n",
    "                    + [token for token, freq in self.token_freqs if freq >= min_freq] \n",
    "                   )\n",
    "            )                                \n",
    "        )\n",
    "\n",
    "        self.token_to_idx = {\n",
    "            token: idx for idx, token in enumerate(self.idx_to_token)\n",
    "        }\n",
    "\n",
    "    def __len__(self):\n",
    "        return len(self.idx_to_token())\n",
    "\n",
    "    def __getitem__(self, tokens):\n",
    "        if not isinstance(tokens, (list, tuple)):\n",
    "            return self.token_to_idx.get(tokens, self.unk)  # Return unk if specified key does not exist\n",
    "        return [self.__getitem__(token) for token in tokens]\n",
    "\n",
    "    def to_tokens(self, indices):\n",
    "        if hasattr(indices, \"__len__\") and len(indices) > 1:\n",
    "            return [self.idx_to_token(idx) for idx in indices]\n",
    "        return self.idx_to_token[indices]\n",
    "\n",
    "    # The unknown token\n",
    "    @property\n",
    "    def unk(self):\n",
    "        return self.token_to_idx['<unk>']"
   ]
  },
  {
   "cell_type": "code",
   "execution_count": 16,
   "id": "93c8947a-9de4-4eb1-8010-e114fb0a8290",
   "metadata": {},
   "outputs": [],
   "source": [
    "vocab = Vocab(tokens=tokens)\n",
    "indices = vocab[tokens[:10]]\n",
    "\n",
    "print(f\"Indices: {indices}\")\n",
    "print(f\"Words: {vocab.indices_to_tok"
   ]
  },
  {
   "cell_type": "code",
   "execution_count": null,
   "id": "b7e6236f-7528-48b6-bc9a-6aad7d856564",
   "metadata": {},
   "outputs": [],
   "source": []
  }
 ],
 "metadata": {
  "kernelspec": {
   "display_name": "Python 3 (ipykernel)",
   "language": "python",
   "name": "python3"
  },
  "language_info": {
   "codemirror_mode": {
    "name": "ipython",
    "version": 3
   },
   "file_extension": ".py",
   "mimetype": "text/x-python",
   "name": "python",
   "nbconvert_exporter": "python",
   "pygments_lexer": "ipython3",
   "version": "3.9.21"
  }
 },
 "nbformat": 4,
 "nbformat_minor": 5
}
