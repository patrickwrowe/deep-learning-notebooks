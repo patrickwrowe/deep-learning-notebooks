{
 "cells": [
  {
   "cell_type": "markdown",
   "id": "08ade812-003e-4217-9470-3e53f8d2c201",
   "metadata": {},
   "source": [
    "# Converting Raw Text into Sequence Data"
   ]
  },
  {
   "cell_type": "markdown",
   "id": "86549b5d-0007-4173-837a-8c7647980201",
   "metadata": {},
   "source": [
    "Typical preprocessing steps for dealing with text data would involve, \n",
    "1. Load text as strings into memory\n",
    "2. Split the strings into tokens (e.g. words or characters)\n",
    "3. Build a dictionary, associating each token with a numerical index\n",
    "4. Convert the text into a sequence of numerical indices"
   ]
  },
  {
   "cell_type": "code",
   "execution_count": 2,
   "id": "f65270cc-0c98-4509-8513-0c2cefa4730b",
   "metadata": {},
   "outputs": [],
   "source": [
    "import collections\n",
    "import random\n",
    "import re\n",
    "import torch\n",
    "from d2l import torch as d2l"
   ]
  },
  {
   "cell_type": "markdown",
   "id": "7cb32d54-0e06-484c-b2a9-9661bcd61238",
   "metadata": {},
   "source": [
    "## Reading The Dataset\n",
    "\n",
    "We will be working with H.G. Wells' \"The Time Machine\"."
   ]
  },
  {
   "cell_type": "code",
   "execution_count": 4,
   "id": "c344f25f-2397-4ad5-8063-5c0b61f14493",
   "metadata": {},
   "outputs": [],
   "source": [
    "class TimeMachine(d2l.DataModule):\n",
    "\n",
    "    def _download(self):\n",
    "        fname = d2l.download(d2l.DATA_URL + 'timemachine.txt', self.root,\n",
    "            '090b5e7e70c295757f55df93cb0a180b9691891a')\n",
    "        with open(fname) as f:\n",
    "            return f.read()"
   ]
  },
  {
   "cell_type": "code",
   "execution_count": 5,
   "id": "743b772f-1fc8-4b97-9030-c73eb44970ea",
   "metadata": {},
   "outputs": [
    {
     "name": "stdout",
     "output_type": "stream",
     "text": [
      "Downloading ../data/timemachine.txt from http://d2l-data.s3-accelerate.amazonaws.com/timemachine.txt...\n"
     ]
    }
   ],
   "source": [
    "data = TimeMachine()\n",
    "raw_text = data._download()"
   ]
  },
  {
   "cell_type": "code",
   "execution_count": 6,
   "id": "6b165bc4-5295-4f02-b600-2f578d76914e",
   "metadata": {},
   "outputs": [
    {
     "data": {
      "text/plain": [
       "'The Time Machine, by H. G. Wells [1898]\\n\\n\\n\\n\\nI\\n\\n\\nThe Time Traveller (f'"
      ]
     },
     "execution_count": 6,
     "metadata": {},
     "output_type": "execute_result"
    }
   ],
   "source": [
    "raw_text[:69]"
   ]
  },
  {
   "cell_type": "code",
   "execution_count": 8,
   "id": "e1df7be3-d1ae-47c7-b64a-c13305161ee6",
   "metadata": {},
   "outputs": [],
   "source": [
    "@d2l.add_to_class(TimeMachine)\n",
    "def _preprocess(self, text):\n",
    "    # Ignore punctuation and capitalisation for simplicity\n",
    "    return re.sub('[^A-Za-z]+', ' ', text).lower()    "
   ]
  },
  {
   "cell_type": "code",
   "execution_count": 9,
   "id": "ae98129f-6c91-4144-86ad-ddb31c0c2220",
   "metadata": {},
   "outputs": [
    {
     "data": {
      "text/plain": [
       "'the time machine by h g wells i the time traveller for so it'"
      ]
     },
     "execution_count": 9,
     "metadata": {},
     "output_type": "execute_result"
    }
   ],
   "source": [
    "text = data._preprocess(raw_text)\n",
    "text[:60]"
   ]
  },
  {
   "cell_type": "code",
   "execution_count": null,
   "id": "7f1df9e8-93eb-441f-a850-a520fe861989",
   "metadata": {},
   "outputs": [],
   "source": []
  }
 ],
 "metadata": {
  "kernelspec": {
   "display_name": "Python 3 (ipykernel)",
   "language": "python",
   "name": "python3"
  },
  "language_info": {
   "codemirror_mode": {
    "name": "ipython",
    "version": 3
   },
   "file_extension": ".py",
   "mimetype": "text/x-python",
   "name": "python",
   "nbconvert_exporter": "python",
   "pygments_lexer": "ipython3",
   "version": "3.9.21"
  }
 },
 "nbformat": 4,
 "nbformat_minor": 5
}
