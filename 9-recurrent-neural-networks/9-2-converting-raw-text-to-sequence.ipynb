{
 "cells": [
  {
   "cell_type": "markdown",
   "id": "08ade812-003e-4217-9470-3e53f8d2c201",
   "metadata": {},
   "source": [
    "# Converting Raw Text into Sequence Data"
   ]
  },
  {
   "cell_type": "code",
   "execution_count": null,
   "id": "54b9e662-0fb7-4e56-be09-8e0a49c10cd0",
   "metadata": {},
   "outputs": [],
   "source": []
  }
 ],
 "metadata": {
  "kernelspec": {
   "display_name": "Python 3 (ipykernel)",
   "language": "python",
   "name": "python3"
  },
  "language_info": {
   "codemirror_mode": {
    "name": "ipython",
    "version": 3
   },
   "file_extension": ".py",
   "mimetype": "text/x-python",
   "name": "python",
   "nbconvert_exporter": "python",
   "pygments_lexer": "ipython3",
   "version": "3.9.21"
  }
 },
 "nbformat": 4,
 "nbformat_minor": 5
}
