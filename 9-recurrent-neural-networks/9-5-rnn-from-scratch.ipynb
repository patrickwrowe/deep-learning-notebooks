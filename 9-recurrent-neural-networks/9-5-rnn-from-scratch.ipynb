{
 "cells": [
  {
   "cell_type": "markdown",
   "id": "4dcbb22b-5066-4086-89ac-50092ea6b0e1",
   "metadata": {},
   "source": [
    "# Recurrent Neural Network Implementation From Scratch\n",
    "\n",
    "Aim is to train a character level model on The Time Machine..."
   ]
  },
  {
   "cell_type": "code",
   "execution_count": 1,
   "id": "5571ef65-5f4e-4e4f-bc1d-d69efccc3675",
   "metadata": {},
   "outputs": [],
   "source": [
    "%matplotlib inline\n",
    "import math\n",
    "import torch\n",
    "from torch import nn\n",
    "from torch.nn import functional as F\n",
    "from d2l import torch as d2l"
   ]
  },
  {
   "cell_type": "code",
   "execution_count": 9,
   "id": "31ca0d2e-188c-4e87-b5d2-4e64e51761a1",
   "metadata": {},
   "outputs": [],
   "source": [
    "class RNNScratch(d2l.Module):\n",
    "    def __init__(self, num_inputs, num_hiddens, sigma=0.01):\n",
    "        super().__init__()\n",
    "        self.save_hyperparameters()\n",
    "\n",
    "        self.W_xh = nn.Parameter(\n",
    "            torch.randn(num_inputs, num_hiddens) * sigma\n",
    "        )\n",
    "        self.W_hh = nn.Parameter(\n",
    "            torch.randn(num_hiddens, num_hiddens) * sigma\n",
    "        )\n",
    "        self.b_h = nn.Parameter(\n",
    "            torch.zeros(num_hiddens)\n",
    "        )\n",
    "\n",
    "    def forward(self, inputs, state=None):\n",
    "        if state is None:\n",
    "            state = torch.zeros((inputs.shape[1], self.num_hiddens), device=inputs.device)\n",
    "\n",
    "        else:\n",
    "            state, = state\n",
    "\n",
    "        outputs = []\n",
    "\n",
    "        for X in inputs: # Loop over each timestep (character) of the inputs?|??\n",
    "            state = torch.tanh(torch.matmul(X, self.W_xh) + torch.matmul(state, self.W_hh) + self.b_h)\n",
    "            outputs.append(state)\n",
    "\n",
    "        return outputs, state\n",
    "        "
   ]
  },
  {
   "cell_type": "code",
   "execution_count": 10,
   "id": "5340f92a-d6ad-45bc-9c26-5975caedf629",
   "metadata": {},
   "outputs": [],
   "source": [
    "batch_size = 2\n",
    "num_inputs = 16\n",
    "num_hiddens = 32\n",
    "num_steps = 100"
   ]
  },
  {
   "cell_type": "code",
   "execution_count": 11,
   "id": "bb264281-ee29-4748-9bab-71439474d83f",
   "metadata": {},
   "outputs": [],
   "source": [
    "rnn = RNNScratch(num_inputs, num_hiddens)\n",
    "X = torch.ones((num_steps, batch_size, num_inputs))"
   ]
  },
  {
   "cell_type": "code",
   "execution_count": 12,
   "id": "bcd7d472-fddf-4dee-9d39-30ad7f07cd54",
   "metadata": {},
   "outputs": [],
   "source": [
    "outputs, state = rnn(X)"
   ]
  },
  {
   "cell_type": "markdown",
   "id": "850b37af-5913-4752-8534-f5408f3bf0ca",
   "metadata": {},
   "source": [
    "## RNN Based Language Model"
   ]
  },
  {
   "cell_type": "code",
   "execution_count": null,
   "id": "83409280-f46b-4cf8-a67d-23ad012695d4",
   "metadata": {},
   "outputs": [],
   "source": []
  }
 ],
 "metadata": {
  "kernelspec": {
   "display_name": "Python 3 (ipykernel)",
   "language": "python",
   "name": "python3"
  },
  "language_info": {
   "codemirror_mode": {
    "name": "ipython",
    "version": 3
   },
   "file_extension": ".py",
   "mimetype": "text/x-python",
   "name": "python",
   "nbconvert_exporter": "python",
   "pygments_lexer": "ipython3",
   "version": "3.9.21"
  }
 },
 "nbformat": 4,
 "nbformat_minor": 5
}
