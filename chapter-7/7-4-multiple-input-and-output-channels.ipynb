{
 "cells": [
  {
   "cell_type": "markdown",
   "id": "6f7a32de-744c-43be-b6a1-2da32052317e",
   "metadata": {},
   "source": [
    "# Multiple Input and Output Channels"
   ]
  },
  {
   "cell_type": "code",
   "execution_count": null,
   "id": "06d7190d-e35a-4b6a-905a-0ba0585050a7",
   "metadata": {},
   "outputs": [],
   "source": []
  }
 ],
 "metadata": {
  "kernelspec": {
   "display_name": "Python 3 (ipykernel)",
   "language": "python",
   "name": "python3"
  },
  "language_info": {
   "codemirror_mode": {
    "name": "ipython",
    "version": 3
   },
   "file_extension": ".py",
   "mimetype": "text/x-python",
   "name": "python",
   "nbconvert_exporter": "python",
   "pygments_lexer": "ipython3",
   "version": "3.9.21"
  }
 },
 "nbformat": 4,
 "nbformat_minor": 5
}
