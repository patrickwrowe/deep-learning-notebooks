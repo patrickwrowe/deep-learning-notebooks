{
 "cells": [
  {
   "cell_type": "markdown",
   "id": "6f7a32de-744c-43be-b6a1-2da32052317e",
   "metadata": {},
   "source": [
    "# Multiple Input and Output Channels"
   ]
  },
  {
   "cell_type": "markdown",
   "id": "901f7ae0-99d5-4c51-904f-715ab4d94cac",
   "metadata": {},
   "source": [
    "Until now, we have ignored the fact that almost all images have three colour channels, (R, G, B), which has allowed us to think of our images as two-dimensional tensors. It also allowed us to treat our inputs, convolutional kernels and outputs as two-dimensional tensors. \n",
    "\n",
    "When we consider channels, our inputs and hidden representartions become three-dimensional tensors. :O The additional axis is known as the _channel_ dimension. "
   ]
  },
  {
   "cell_type": "code",
   "execution_count": 1,
   "id": "ec10fefd-27d5-4bf9-b8f1-60e395537cc6",
   "metadata": {},
   "outputs": [],
   "source": [
    "import torch\n",
    "from d2l import torch as d2l"
   ]
  },
  {
   "attachments": {
    "9ec12517-1af6-44e0-9b78-808dd392f87a.png": {
     "image/png": "[encoded data removed]"
    }
   },
   "cell_type": "markdown",
   "id": "5672d668-607a-4369-8bbe-61fc21ab0044",
   "metadata": {},
   "source": [
    "## Multiple Input Channels\n",
    "\n",
    "Our convolutional kernel is essentially the same, but stretched along a third dimension for channel, so it becomes a $k_h \\times k_w \\times c_i$ tensor, where $c_i$ is the number of channels. \n",
    "\n",
    "We perform our cross-correlation operation sliding the image as before, but with multiple layers per channel, if we wish, we can then sum the outputs together to produce a single output layer. \n",
    "\n",
    "![Screenshot 2025-03-23 at 19.34.26.png](attachment:9ec12517-1af6-44e0-9b78-808dd392f87a.png)"
   ]
  },
  {
   "cell_type": "code",
   "execution_count": 4,
   "id": "f0efdbd9-37b3-47e6-8dac-98cbe79ceb2f",
   "metadata": {},
   "outputs": [],
   "source": [
    "def corr2d_multi_in(X, K):\n",
    "    # Iterate over the channel dimensions then sum them\n",
    "    return sum(d2l.corr2d(x, k) for x, k in zip(X, K))"
   ]
  },
  {
   "cell_type": "code",
   "execution_count": 15,
   "id": "232a0b90-c45f-4558-989b-97b159568b5c",
   "metadata": {},
   "outputs": [
    {
     "data": {
      "text/plain": [
       "tensor([[ 56.,  72.],\n",
       "        [104., 120.]])"
      ]
     },
     "execution_count": 15,
     "metadata": {},
     "output_type": "execute_result"
    }
   ],
   "source": [
    "X = torch.tensor(\n",
    "[\n",
    "    [   # Channel 1\n",
    "        [0.0, 1.0, 2.0], \n",
    "        [3.0, 4.0, 5.0], \n",
    "        [6.0, 7.0, 8.0]\n",
    "    ],\n",
    "    [   # Channel 2\n",
    "        [1.0, 2.0, 3.0], \n",
    "        [4.0, 5.0, 6.0], \n",
    "        [7.0, 8.0, 9.0]\n",
    "    ]\n",
    "])\n",
    "\n",
    "K = torch.tensor([\n",
    "    [   # Channel 1\n",
    "        [0.0, 1.0],\n",
    "        [2.0, 3.0]\n",
    "    ],\n",
    "    [   # Channel 2\n",
    "        [1.0, 2.0],\n",
    "        [3.0, 4.0]\n",
    "    ]\n",
    "])\n",
    "\n",
    "corr2d_multi_in(X, K)"
   ]
  },
  {
   "cell_type": "markdown",
   "id": "de4c5558-f97d-42e2-b236-0700f9bb5317",
   "metadata": {},
   "source": [
    "## Multiple output channels\n",
    "\n",
    "Okay, but defaulting to summing the outputs is not really sensible, we want multiple channels per layer. It even turns out that we commonl wish to _expand_ the number of channels as we go deeper into the layers of the network. Typically downsampling the spatial resolution to increase the channel resolution. \n",
    "\n",
    "We can create a kernel of $(c_i \\times k_h \\times k_w)$ for every output channel $c_o$. So that the shape of the output kernel is $(c_o \\times c_i \\times k_h \\times k_w)$\n",
    "\n",
    "So for multiple output layers, add an output layer dimension to the kernel, then iterate over that \"output\" layer dimension and stack the results together to produce the output kernel"
   ]
  },
  {
   "cell_type": "code",
   "execution_count": 25,
   "id": "c9373c68-885f-4514-bcd3-9a8407df0ea5",
   "metadata": {},
   "outputs": [],
   "source": [
    "def corr2d_multi_in_out(X, K):\n",
    "    # Iterate through the 0th dimension of K, and each time, perform\n",
    "    # cross-correlation operations with input X. All of the results are\n",
    "    # stacked together\n",
    "    return torch.stack([corr2d_multi_in(X, k) for k in K], 0)"
   ]
  },
  {
   "cell_type": "code",
   "execution_count": 26,
   "id": "2ba24c9b-e6b3-4f01-a56a-6781fb3b304e",
   "metadata": {},
   "outputs": [
    {
     "data": {
      "text/plain": [
       "tensor([[ 56.,  72.],\n",
       "        [104., 120.]])"
      ]
     },
     "execution_count": 26,
     "metadata": {},
     "output_type": "execute_result"
    }
   ],
   "source": [
    "X = torch.tensor([[[0.0, 1.0, 2.0], [3.0, 4.0, 5.0], [6.0, 7.0, 8.0]],\n",
    "[[1.0, 2.0, 3.0], [4.0, 5.0, 6.0], [7.0, 8.0, 9.0]]])\n",
    "K = torch.tensor([[[0.0, 1.0], [2.0, 3.0]], [[1.0, 2.0], [3.0, 4.0]]])\n",
    "corr2d_multi_in(X, K)"
   ]
  },
  {
   "cell_type": "code",
   "execution_count": 27,
   "id": "299ed007-031c-418d-9c97-e5be948a4f9a",
   "metadata": {},
   "outputs": [
    {
     "data": {
      "text/plain": [
       "torch.Size([3, 2, 2, 2])"
      ]
     },
     "execution_count": 27,
     "metadata": {},
     "output_type": "execute_result"
    }
   ],
   "source": [
    "K = torch.stack((K, K + 1, K + 2), 0)\n",
    "K.shape"
   ]
  },
  {
   "cell_type": "code",
   "execution_count": 28,
   "id": "8c743385-c972-44ae-8004-3cafc46e13ea",
   "metadata": {},
   "outputs": [
    {
     "data": {
      "text/plain": [
       "tensor([[[ 56.,  72.],\n",
       "         [104., 120.]],\n",
       "\n",
       "        [[ 76., 100.],\n",
       "         [148., 172.]],\n",
       "\n",
       "        [[ 96., 128.],\n",
       "         [192., 224.]]])"
      ]
     },
     "execution_count": 28,
     "metadata": {},
     "output_type": "execute_result"
    }
   ],
   "source": [
    "corr2d_multi_in_out(X, K)"
   ]
  },
  {
   "cell_type": "markdown",
   "id": "9bf04512-3a0f-4590-a6a3-1764c970f51d",
   "metadata": {},
   "source": [
    "## A 1x1 convolutional layer. "
   ]
  },
  {
   "cell_type": "markdown",
   "id": "8b0972ca-8c64-4e11-ae24-439c8eb80910",
   "metadata": {},
   "source": [
    "Initially doesn't appear to make sense... loses the ability to correlate across spatial dimensions of the input images, only correlates across channel dimension. \n",
    "\n",
    "Produces output tensors of the same size, but where each pixel is a linear combination of the values of the inputs at the same pixel locations _only_, like a fully connected layer that only connects spatially _identical_ pixels in $c_i$ input layers to $c_o$ output layers.\n",
    "\n",
    "Commonly used in complex deep networks. "
   ]
  },
  {
   "cell_type": "code",
   "execution_count": 29,
   "id": "ae199b48-067c-4144-a960-33a890cff465",
   "metadata": {},
   "outputs": [],
   "source": [
    "def corr2d_multi_in_out_1x1(X, K):\n",
    "    c_i, h, w = X.shape\n",
    "    c_o = K.shape[0]\n",
    "\n",
    "    X = X.reshape((c_i, h * w))\n",
    "    K = K.reshape((c_o, c_i))\n",
    "    Y = torch.matmul(K, X)\n",
    "    return Y.reshape((c_o, h, w))"
   ]
  },
  {
   "cell_type": "code",
   "execution_count": 30,
   "id": "353174f6-0fa5-4713-b00f-f62fe1a421ae",
   "metadata": {},
   "outputs": [],
   "source": [
    "X = torch.normal(0, 1, (3, 3, 3))\n",
    "K = torch.normal(0, 1, (2, 3, 1, 1))\n",
    "Y1 = corr2d_multi_in_out_1x1(X, K)\n",
    "Y2 = corr2d_multi_in_out(X, K)\n",
    "assert float(torch.abs(Y1 - Y2).sum()) < 1e-6"
   ]
  },
  {
   "cell_type": "markdown",
   "id": "6d0737da-ba46-461e-b3ab-3ec88b47ac4f",
   "metadata": {},
   "source": [
    "Channels allow us to have mlps which account for significant nonlinearities but which allow for localized analysis of features. They also allow the CNN to reason with multiple features, such as edge and shape detection at the same time. "
   ]
  },
  {
   "cell_type": "code",
   "execution_count": null,
   "id": "dd1fad94-4bd3-4d5e-b29b-1dc38002cb1c",
   "metadata": {},
   "outputs": [],
   "source": []
  },
  {
   "cell_type": "code",
   "execution_count": null,
   "id": "504df040-5fef-4527-a7d5-40df157aba44",
   "metadata": {},
   "outputs": [],
   "source": []
  }
 ],
 "metadata": {
  "kernelspec": {
   "display_name": "Python 3 (ipykernel)",
   "language": "python",
   "name": "python3"
  },
  "language_info": {
   "codemirror_mode": {
    "name": "ipython",
    "version": 3
   },
   "file_extension": ".py",
   "mimetype": "text/x-python",
   "name": "python",
   "nbconvert_exporter": "python",
   "pygments_lexer": "ipython3",
   "version": "3.9.21"
  }
 },
 "nbformat": 4,
 "nbformat_minor": 5
}
