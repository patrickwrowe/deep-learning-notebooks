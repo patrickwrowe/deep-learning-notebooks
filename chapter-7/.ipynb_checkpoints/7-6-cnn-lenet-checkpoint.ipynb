{
 "cells": [
  {
   "cell_type": "markdown",
   "id": "8f462e26-4fb6-48ec-bf14-c7e244c244b1",
   "metadata": {},
   "source": [
    "# Convolutional Neural Networks (LeNet)"
   ]
  },
  {
   "cell_type": "code",
   "execution_count": null,
   "id": "92329271-a181-478b-8ba5-0ad8a25fb8db",
   "metadata": {},
   "outputs": [],
   "source": []
  }
 ],
 "metadata": {
  "kernelspec": {
   "display_name": "Python 3 (ipykernel)",
   "language": "python",
   "name": "python3"
  },
  "language_info": {
   "codemirror_mode": {
    "name": "ipython",
    "version": 3
   },
   "file_extension": ".py",
   "mimetype": "text/x-python",
   "name": "python",
   "nbconvert_exporter": "python",
   "pygments_lexer": "ipython3",
   "version": "3.9.21"
  }
 },
 "nbformat": 4,
 "nbformat_minor": 5
}
