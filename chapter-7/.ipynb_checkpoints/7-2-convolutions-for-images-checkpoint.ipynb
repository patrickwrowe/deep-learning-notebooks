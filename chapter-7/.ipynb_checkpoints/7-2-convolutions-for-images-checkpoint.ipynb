{
 "cells": [
  {
   "cell_type": "markdown",
   "id": "a98e7e51-2702-4740-afef-317ae98a7eb1",
   "metadata": {},
   "source": [
    "# Convolutions for Images"
   ]
  },
  {
   "cell_type": "code",
   "execution_count": 9,
   "id": "cb83daf7-cc20-469f-88ee-ef1d40dae2de",
   "metadata": {},
   "outputs": [],
   "source": [
    "import torch\n",
    "from torch import nn\n",
    "from d2l import torch as d2l\n",
    "import matplotlib.pyplot as plt"
   ]
  },
  {
   "attachments": {
    "27fe8d4a-27a3-4deb-a066-42eae1c8b5dd.png": {
     "image/png": "[encoded data removed]"
    }
   },
   "cell_type": "markdown",
   "id": "71091f71-68da-4092-9e2b-2abf2a774d1f",
   "metadata": {},
   "source": [
    "## The Cross-Correlation Operation\n",
    "\n",
    "Strictly speaking, convolutional layers are better described as cross-correlations. An input tensor and a kernel tensor (the weights) are combined to produce an output tensor through a cross-correlation operation. \n",
    "\n",
    "For now, look at how this works for 2D data with no channels. Shape of the input tensor is (3, 3) and shape of kernel is (2, 2). Begin with kernel in top left and slide across the tensor, left to right and top to bottom. When the convolution window slides to a certain position, the input subtensor and the kernel filter are multiplied element-wise to produce a scalar output, which is one element in the output tensor. \n",
    "\n",
    "![Screenshot 2025-03-23 at 09.50.48.png](attachment:27fe8d4a-27a3-4deb-a066-42eae1c8b5dd.png)\n",
    "\n",
    "So, in the example above, we would have \n",
    "\n",
    "$$ 0 \\times 0 + 1 \\times 1 + 3 \\times 2 + 4 \\times 3 = 19 $$\n",
    "$$ 1 \\times 0 + 2 \\times 1 + 4 \\times 2 + 5 \\times 3 = 25 $$\n",
    "\n",
    "And so on..\n",
    "\n",
    "When sliding the kernal across the image, we can only properly compute the output values for cases where the kernel fits wholly within the image, so the output is slightly smaller than the input. Later we will pad the image with zeros around the outside (by adding half the kernel height to the top/bottom and half the width to either side I guess, plus 1). \n",
    "\n",
    "Lets implement this simple version from scratch"
   ]
  },
  {
   "cell_type": "code",
   "execution_count": 4,
   "id": "8a0a1e1e-1dbb-4ff8-8951-05cb45e8c371",
   "metadata": {},
   "outputs": [],
   "source": [
    "def corr2d(X, K):\n",
    "    h, w = K.shape\n",
    "    Y = torch.zeros((X.shape[0] - h + 1, X.shape[1] - w + 1)) # down column along row\n",
    "    for i in range(Y.shape[0]):\n",
    "        for j in range(Y.shape[1]):\n",
    "            Y[i, j] = (X[i:i+h, j:j+w] * K).sum()\n",
    "    return Y"
   ]
  },
  {
   "cell_type": "code",
   "execution_count": 6,
   "id": "022c2882-0272-4166-af04-2de4048d5e9a",
   "metadata": {},
   "outputs": [
    {
     "data": {
      "text/plain": [
       "tensor([[19., 25.],\n",
       "        [37., 43.]])"
      ]
     },
     "execution_count": 6,
     "metadata": {},
     "output_type": "execute_result"
    }
   ],
   "source": [
    "# Lets validate what we worked out manually above\n",
    "\n",
    "X = torch.tensor([[0.0, 1.0, 2.0], [3.0, 4.0, 5.0], [6.0, 7.0, 8.0]])\n",
    "K = torch.tensor([[0.0, 1.0], [2.0, 3.0]])\n",
    "corr2d(X, K)"
   ]
  },
  {
   "cell_type": "markdown",
   "id": "ea76ceb1-27b9-4dcc-bade-b94a43e2298d",
   "metadata": {},
   "source": [
    "## Convolutional Layers\n",
    "\n",
    "A convolutional layer includes a bias, typically initialise kernels randomly as we would with the previously explored fully-connected layers. \n"
   ]
  },
  {
   "cell_type": "code",
   "execution_count": 7,
   "id": "9a82768c-bb8e-4130-988b-20cc093c4edd",
   "metadata": {},
   "outputs": [],
   "source": [
    "class Conv2D(nn.Module):\n",
    "    def __init__(self, kernel_size):\n",
    "        super().__init__()\n",
    "        self.save_hyperparameters()\n",
    "\n",
    "        self.weight = nn.Parameter(torch.randn(kernel_size))\n",
    "        self.bias = nn.Parameter(torch.zeros(1))\n",
    "\n",
    "    def forward(self, x):\n",
    "        return corr2d(x, self.weight) + self.bias"
   ]
  },
  {
   "cell_type": "markdown",
   "id": "86ecc6e7-6911-4ed7-937d-9edc021c0a8e",
   "metadata": {},
   "source": [
    "## Object Edge Detection in Images\n",
    "\n",
    "Make a fake image with easy to find edges to demonstrate, 6x8 pixels, the middle four columns are black, with the rest white. "
   ]
  },
  {
   "cell_type": "code",
   "execution_count": 10,
   "id": "80a0890c-4138-4dce-85e6-da5090e68ea4",
   "metadata": {},
   "outputs": [
    {
     "data": {
      "text/plain": [
       "tensor([[1., 1., 0., 0., 0., 0., 1., 1.],\n",
       "        [1., 1., 0., 0., 0., 0., 1., 1.],\n",
       "        [1., 1., 0., 0., 0., 0., 1., 1.],\n",
       "        [1., 1., 0., 0., 0., 0., 1., 1.],\n",
       "        [1., 1., 0., 0., 0., 0., 1., 1.],\n",
       "        [1., 1., 0., 0., 0., 0., 1., 1.]])"
      ]
     },
     "execution_count": 10,
     "metadata": {},
     "output_type": "execute_result"
    }
   ],
   "source": [
    "X = torch.ones((6, 8))\n",
    "X[:, 2:6] = 0\n",
    "X"
   ]
  },
  {
   "cell_type": "code",
   "execution_count": 19,
   "id": "f3ec4a0b-77b3-409c-846c-e4a6afc735c2",
   "metadata": {},
   "outputs": [
    {
     "data": {
      "text/plain": [
       "<matplotlib.image.AxesImage at 0x14b30e550>"
      ]
     },
     "execution_count": 19,
     "metadata": {},
     "output_type": "execute_result"
    },
    {
     "data": {
      "image/png": "[encoded data removed]",
      "text/plain": [
       "<Figure size 640x480 with 1 Axes>"
      ]
     },
     "metadata": {},
     "output_type": "display_data"
    }
   ],
   "source": [
    "# plt.imshow(X, cmap='Greys') Ha! Confusingly, this inverts the colours.\n",
    "plt.imshow(X, cmap='gray')"
   ]
  },
  {
   "cell_type": "markdown",
   "id": "f09a8bbf-d2f8-4665-a5fd-f05a0a7900d5",
   "metadata": {},
   "source": [
    "Define a (1 x 2) kernel [1, -1], so that it returns 0 when the pixels in the inputs are the same and +/-1 when they differ."
   ]
  },
  {
   "cell_type": "code",
   "execution_count": 20,
   "id": "dd2646be-f8a3-4d1d-8009-82378bbc5077",
   "metadata": {},
   "outputs": [],
   "source": [
    "K = torch.tensor([[1., -1.]])"
   ]
  },
  {
   "cell_type": "code",
   "execution_count": 21,
   "id": "694a3dd4-c415-4518-b691-8093f849799d",
   "metadata": {},
   "outputs": [],
   "source": [
    "Y = corr2d(X, K)"
   ]
  },
  {
   "cell_type": "code",
   "execution_count": 22,
   "id": "e2b9eceb-b920-4164-b3e5-a35f93fdeafc",
   "metadata": {},
   "outputs": [
    {
     "name": "stdout",
     "output_type": "stream",
     "text": [
      "tensor([[ 0.,  1.,  0.,  0.,  0., -1.,  0.],\n",
      "        [ 0.,  1.,  0.,  0.,  0., -1.,  0.],\n",
      "        [ 0.,  1.,  0.,  0.,  0., -1.,  0.],\n",
      "        [ 0.,  1.,  0.,  0.,  0., -1.,  0.],\n",
      "        [ 0.,  1.,  0.,  0.,  0., -1.,  0.],\n",
      "        [ 0.,  1.,  0.,  0.,  0., -1.,  0.]])\n"
     ]
    }
   ],
   "source": [
    "print(Y)"
   ]
  },
  {
   "cell_type": "code",
   "execution_count": 24,
   "id": "094957b1-2197-4cac-9d0b-d71be6d7c350",
   "metadata": {},
   "outputs": [
    {
     "data": {
      "text/plain": [
       "<matplotlib.image.AxesImage at 0x14b4841f0>"
      ]
     },
     "execution_count": 24,
     "metadata": {},
     "output_type": "execute_result"
    },
    {
     "data": {
      "image/png": "[encoded data removed]",
      "text/plain": [
       "<Figure size 640x480 with 1 Axes>"
      ]
     },
     "metadata": {},
     "output_type": "display_data"
    }
   ],
   "source": [
    "plt.imshow(Y, cmap='gray')"
   ]
  },
  {
   "cell_type": "markdown",
   "id": "435e07b1-06dc-4752-ad9e-f96390cada81",
   "metadata": {},
   "source": [
    "As we might expect form the shape of the kernel, it can only detect horizontal edges, so when we try this with the transposed image, it vanishes "
   ]
  },
  {
   "cell_type": "code",
   "execution_count": 27,
   "id": "5d31300b-7a7d-41ac-8a9e-49aea5723210",
   "metadata": {},
   "outputs": [
    {
     "data": {
      "text/plain": [
       "<matplotlib.image.AxesImage at 0x14b5c3820>"
      ]
     },
     "execution_count": 27,
     "metadata": {},
     "output_type": "execute_result"
    },
    {
     "data": {
      "image/png": "[encoded data removed]",
      "text/plain": [
       "<Figure size 640x480 with 1 Axes>"
      ]
     },
     "metadata": {},
     "output_type": "display_data"
    }
   ],
   "source": [
    "plt.imshow(corr2d(X.t(), K), cmap='gray')"
   ]
  },
  {
   "cell_type": "markdown",
   "id": "fd0488c7-39db-47f3-9470-d74e32ea2b9f",
   "metadata": {},
   "source": [
    "## Learning a Kernel\n",
    "\n",
    "Of course, we don't want to be manually specifying the filters/kernels! We want to learn them. Here we will hgenerate one by looking ast the input/output pairs"
   ]
  },
  {
   "cell_type": "code",
   "execution_count": 30,
   "id": "d75d876a-b03e-4bc6-a3c1-fbf3c8f15971",
   "metadata": {},
   "outputs": [
    {
     "name": "stdout",
     "output_type": "stream",
     "text": [
      "epoch 2, loss 13.217\n",
      "epoch 4, loss 4.509\n",
      "epoch 6, loss 1.695\n",
      "epoch 8, loss 0.669\n",
      "epoch 10, loss 0.270\n"
     ]
    }
   ],
   "source": [
    "# Use library function here, ignore bias\n",
    "conv2d = nn.LazyConv2d(1, kernel_size=(1, 2), bias=False)\n",
    "\n",
    "# nn.LazyConv2d expects 4d input, (example, channel, height, width)\n",
    "X = X.reshape((1, 1, 6, 8))\n",
    "Y = Y.reshape((1, 1, 6, 7))\n",
    "lr = 3e-2\n",
    "\n",
    "for i in range(10):\n",
    "    Y_hat = conv2d(X) # Make a forwards predictions\n",
    "    loss = (Y_hat - Y) ** 2 # compute the loss\n",
    "    conv2d.zero_grad() # zero gradients\n",
    "    loss.sum().backward() # compute the gradients\n",
    "\n",
    "    conv2d.weight.data[:] -= lr * conv2d.weight.grad # update the weights by subtracting gradients * lr\n",
    "\n",
    "    if (i + 1) % 2 == 0:\n",
    "        print(f'epoch {i + 1}, loss {loss.sum():.3f}')"
   ]
  },
  {
   "cell_type": "code",
   "execution_count": 31,
   "id": "f885d7e2-dfb9-4642-a5c9-ceb80722c392",
   "metadata": {},
   "outputs": [
    {
     "data": {
      "text/plain": [
       "tensor([[ 1.0433, -0.9366]])"
      ]
     },
     "execution_count": 31,
     "metadata": {},
     "output_type": "execute_result"
    }
   ],
   "source": [
    "conv2d.weight.data.reshape((1, 2))  # Pretty close to [[1, -1]]!"
   ]
  },
  {
   "cell_type": "markdown",
   "id": "433b336c-700f-4895-ae32-d10391ed2ba3",
   "metadata": {},
   "source": [
    "## Cross-correlation and convolution\n",
    "\n",
    "Technically, the operation we have just performed is a cross-correlation, not a convolution, as the fwe woudl need to flip the two-dimensional kernel tensor both horizontally and vertically for this to be a convolution. Of course. then, the learned kernel would be the same, making this whole thing an issue of semantics. "
   ]
  },
  {
   "cell_type": "markdown",
   "id": "216baa0f-09a6-4215-aabf-353d5ec47d8d",
   "metadata": {},
   "source": [
    "## Feature Map and Receptive Field\n",
    "\n",
    "The convolutional layer output is sometimes called a _feature map_, since it can be regarded as the learned features required as input to the concatenated layer. The _receptive field_ refers to all the elements of all the tensors which may affect the value of an output tensor x during calculation."
   ]
  },
  {
   "cell_type": "markdown",
   "id": "d595ec8c-e72e-408f-bed4-7f6bbf71fa14",
   "metadata": {},
   "source": [
    "## Summary\n",
    "\n",
    "The core copmutation required for a convolutional layer is a cross-correlation operation, where a kernel tensor is slid across the input image to compute the output at each index. This saves on memory and allows us to focus on computational speed, which is a major reason for why modern computer vision has been so successful. The convolutional kernels themselves can be used for many purposes, edge detection, blurring, sharpening, etc. We don't have to design kernels, we just learn them. "
   ]
  },
  {
   "cell_type": "code",
   "execution_count": null,
   "id": "6edeed04-f6ac-4ccc-b4a8-47be16fc42c0",
   "metadata": {},
   "outputs": [],
   "source": []
  }
 ],
 "metadata": {
  "kernelspec": {
   "display_name": "Python 3 (ipykernel)",
   "language": "python",
   "name": "python3"
  },
  "language_info": {
   "codemirror_mode": {
    "name": "ipython",
    "version": 3
   },
   "file_extension": ".py",
   "mimetype": "text/x-python",
   "name": "python",
   "nbconvert_exporter": "python",
   "pygments_lexer": "ipython3",
   "version": "3.9.21"
  }
 },
 "nbformat": 4,
 "nbformat_minor": 5
}
