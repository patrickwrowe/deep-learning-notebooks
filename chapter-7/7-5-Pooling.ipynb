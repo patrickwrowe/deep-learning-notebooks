{
 "cells": [
  {
   "attachments": {
    "9f26d8c3-ba5a-42aa-b70c-b9cf882a71df.png": {
     "image/png": "[encoded data removed]"
    }
   },
   "cell_type": "markdown",
   "id": "37fa37c3-4307-412e-8098-1ad0e8f07553",
   "metadata": {},
   "source": [
    "# Pooling\n",
    "\n",
    "Much like any convolutional layer, consists of a fixed-length window which slides over its input, performing an operation at every location determined by its size and stride. However, there is no kernel to be learned in a pooling operation, the output is instead deterministic. \n",
    "\n",
    "Typically, pooling computes either the average or the maximum of the inputs in the pooling window. (max-pooling and average pooling). Average pooling has been around for soem time, and is essentially a way of downsampling an image while obtaining a good signal to noise ratio by averaging every second/third/fourth pixel. However, in almost all cases, max pooling is better than average pooling. \n",
    "\n",
    "![Screenshot 2025-03-25 at 11.25.57.png](attachment:9f26d8c3-ba5a-42aa-b70c-b9cf882a71df.png)\n",
    "^ max pooling"
   ]
  },
  {
   "cell_type": "code",
   "execution_count": 3,
   "id": "8d7da7c8-1d58-4eb3-858e-c835cfef292f",
   "metadata": {},
   "outputs": [],
   "source": [
    "import torch\n",
    "from torch import nn\n",
    "from d2l import torch as d2l"
   ]
  },
  {
   "cell_type": "code",
   "execution_count": 1,
   "id": "eb9dddda-bdb7-4936-b77f-c6947cbeaa3c",
   "metadata": {},
   "outputs": [],
   "source": [
    "def pool2d(X, pool_size, mode='max'):\n",
    "    p_h, p_w = pool_size\n",
    "    Y = torch.zeros((X.shape[0] - p_h + 1, X.shape[0] - p_w + 1))\n",
    "    for i in range(Y.shape[0]):\n",
    "        for j in range(Y.shape[1]):\n",
    "            if mode == 'max':\n",
    "                Y[i, j] = X[i: i + p_h, j: j + p_w].max()\n",
    "            elif mode == 'avg':\n",
    "                Y[i, j] = X[i: i + p_h, j: j + p_w].mean()\n",
    "    return Y"
   ]
  },
  {
   "cell_type": "code",
   "execution_count": 4,
   "id": "e384db04-c81e-4a9a-8e45-8edcfd2de801",
   "metadata": {},
   "outputs": [
    {
     "data": {
      "text/plain": [
       "tensor([[4., 5.],\n",
       "        [7., 8.]])"
      ]
     },
     "execution_count": 4,
     "metadata": {},
     "output_type": "execute_result"
    }
   ],
   "source": [
    "# to verify the image\n",
    "X = torch.tensor(\n",
    "    [\n",
    "        [0.0, 1.0, 2.0],\n",
    "        [3.0, 4.0, 5.0],\n",
    "        [6.0, 7.0, 8.0]\n",
    "    ]\n",
    ")\n",
    "\n",
    "pool2d(X, (2, 2))"
   ]
  },
  {
   "cell_type": "markdown",
   "id": "723d8515-cd47-4c95-b268-4567076df70d",
   "metadata": {},
   "source": [
    "## Padding and Stride\n",
    "\n",
    "As with other convolutional layers, we can adjust the output of the convolutional layer using padding and stride, to achieve an output with the dimensionality that we desire. "
   ]
  },
  {
   "cell_type": "code",
   "execution_count": 6,
   "id": "62031689-1589-46fa-a2c3-6f14947bf5df",
   "metadata": {},
   "outputs": [
    {
     "data": {
      "text/plain": [
       "tensor([[[[ 0.,  1.,  2.,  3.],\n",
       "          [ 4.,  5.,  6.,  7.],\n",
       "          [ 8.,  9., 10., 11.],\n",
       "          [12., 13., 14., 15.]]]])"
      ]
     },
     "execution_count": 6,
     "metadata": {},
     "output_type": "execute_result"
    }
   ],
   "source": [
    "X = torch.arange(16, dtype=torch.float32).reshape((1, 1, 4, 4))\n",
    "X"
   ]
  },
  {
   "cell_type": "code",
   "execution_count": 9,
   "id": "94fc61a5-df78-4aef-947a-c23f3111445c",
   "metadata": {},
   "outputs": [
    {
     "data": {
      "text/plain": [
       "tensor([[[[10.]]]])"
      ]
     },
     "execution_count": 9,
     "metadata": {},
     "output_type": "execute_result"
    }
   ],
   "source": [
    "# Defaults to matching pooling window and sizes, since they are intented to pool information from an area of the input\n",
    "pool2d = nn.MaxPool2d(3)\n",
    "pool2d(X)"
   ]
  },
  {
   "cell_type": "code",
   "execution_count": 10,
   "id": "72479a74-d340-4287-b717-603b4f93279b",
   "metadata": {},
   "outputs": [
    {
     "data": {
      "text/plain": [
       "tensor([[[[ 5.,  7.],\n",
       "          [13., 15.]]]])"
      ]
     },
     "execution_count": 10,
     "metadata": {},
     "output_type": "execute_result"
    }
   ],
   "source": [
    "# but of course we can override this\n",
    "pool2d = nn.MaxPool2d(3, padding=1, stride=2)\n",
    "pool2d(X)"
   ]
  },
  {
   "cell_type": "markdown",
   "id": "efcc0fa4-d76e-4f0c-823a-e026431f3e25",
   "metadata": {},
   "source": [
    "## Multiple Channels\n",
    "\n",
    "The pooling operation pools each input channel seperately. So the number of input channels and output channels is the same."
   ]
  },
  {
   "cell_type": "code",
   "execution_count": 11,
   "id": "a759342e-f8c3-4ad0-9ac5-b0d61ec16637",
   "metadata": {},
   "outputs": [
    {
     "data": {
      "text/plain": [
       "tensor([[[[ 5.,  7.],\n",
       "          [13., 15.]]],\n",
       "\n",
       "\n",
       "        [[[ 6.,  8.],\n",
       "          [14., 16.]]]])"
      ]
     },
     "execution_count": 11,
     "metadata": {},
     "output_type": "execute_result"
    }
   ],
   "source": [
    "X = torch.cat((X, X+1))\n",
    "\n",
    "pool2d(X)"
   ]
  },
  {
   "cell_type": "markdown",
   "id": "e8362f82-34b1-4c1b-b7bf-6386a217c1bb",
   "metadata": {},
   "source": [
    "Of course, there are many other types of pooling operations, such as stochastic pooling, which incorporates a degree of randomness. The _attention_ mechanism (:O) is a more refined way of aggregating over outputs. "
   ]
  },
  {
   "cell_type": "code",
   "execution_count": null,
   "id": "1a77f468-9023-465b-a6aa-799d91d65749",
   "metadata": {},
   "outputs": [],
   "source": []
  }
 ],
 "metadata": {
  "kernelspec": {
   "display_name": "Python 3 (ipykernel)",
   "language": "python",
   "name": "python3"
  },
  "language_info": {
   "codemirror_mode": {
    "name": "ipython",
    "version": 3
   },
   "file_extension": ".py",
   "mimetype": "text/x-python",
   "name": "python",
   "nbconvert_exporter": "python",
   "pygments_lexer": "ipython3",
   "version": "3.9.21"
  }
 },
 "nbformat": 4,
 "nbformat_minor": 5
}
