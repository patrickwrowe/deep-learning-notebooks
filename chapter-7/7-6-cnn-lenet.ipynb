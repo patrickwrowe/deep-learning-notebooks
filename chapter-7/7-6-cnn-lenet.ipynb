{
 "cells": [
  {
   "cell_type": "markdown",
   "id": "8f462e26-4fb6-48ec-bf14-c7e244c244b1",
   "metadata": {},
   "source": [
    "# Convolutional Neural Networks (LeNet)"
   ]
  },
  {
   "cell_type": "code",
   "execution_count": 1,
   "id": "92329271-a181-478b-8ba5-0ad8a25fb8db",
   "metadata": {},
   "outputs": [],
   "source": [
    "import torch\n",
    "from torch import nn\n",
    "from d2l import torch as d2l"
   ]
  },
  {
   "cell_type": "markdown",
   "id": "f8999cdb-4157-4b01-b0fc-ba7bcbc88b8f",
   "metadata": {},
   "source": [
    "## LeNet\n",
    "\n",
    "At a very high level, LeNet consists of two components:\n",
    "1. Convolutional layers, of which there are two\n",
    "2. Dense, fully connected layers, eventually leading to 10 outputs for digit recognicition.\n",
    "\n",
    "In each convolutional block, there's a convolutional layer, a sigmoid activation, and an average pooling. Note: ReLU activation an max-pooling actually work better, but had not yet been invented. Each convolutional layer uses a 5x5 kernel. Typically, these increase the number of channels, with the first having an output of 6 channels, and the second 16, while reducing the spatial resolution b a factor of 4. \n",
    "\n",
    "The outputs of the final convolutional block are flattened, so that there can be a fully-connected block with 120, 84 and 10 outputs. \""
   ]
  },
  {
   "cell_type": "code",
   "execution_count": 13,
   "id": "bbb8369b-b87a-4622-b78f-379bb7900dcb",
   "metadata": {},
   "outputs": [],
   "source": [
    "def init_cnn(module):\n",
    "    if type(module) == nn.Linear or type(module) == nn.Conv2d:\n",
    "        nn.init.xavier_uniform_(module.weight)\n",
    "\n",
    "class LeNet(d2l.Classifier):\n",
    "    def __init__(self, lr=0.1, num_classes=10):\n",
    "        super().__init__()\n",
    "        self.save_hyperparameters()\n",
    "        self.net = nn.Sequential(\n",
    "            nn.LazyConv2d(out_channels = 6, kernel_size = 5, padding = 2),\n",
    "            nn.Sigmoid(),\n",
    "            nn.AvgPool2d(kernel_size=2, stride=2),\n",
    "            nn.LazyConv2d(out_channels = 16, kernel_size = 5),\n",
    "            nn.Sigmoid(),\n",
    "            nn.AvgPool2d(kernel_size=2, stride=2),\n",
    "            nn.Flatten(),\n",
    "            nn.LazyLinear(120),\n",
    "            nn.Sigmoid(),\n",
    "            nn.LazyLinear(84),\n",
    "            nn.Sigmoid(),\n",
    "            nn.LazyLinear(num_classes)\n",
    "        )"
   ]
  },
  {
   "attachments": {
    "ac82f88d-6fd3-4ea8-9ecd-1afb2484d5e7.png": {
     "image/png": "[encoded data removed]"
    }
   },
   "cell_type": "markdown",
   "id": "582e244a-0ac6-4157-8366-d15005ef0489",
   "metadata": {},
   "source": [
    "![Screenshot 2025-03-25 at 12.09.47.png](attachment:ac82f88d-6fd3-4ea8-9ecd-1afb2484d5e7.png)"
   ]
  },
  {
   "cell_type": "code",
   "execution_count": 14,
   "id": "3b477230-0a2c-4e8e-883c-1466c4816196",
   "metadata": {},
   "outputs": [],
   "source": [
    "@d2l.add_to_class(d2l.Classifier)\n",
    "\n",
    "def layer_summary(self, X_shape):\n",
    "    X = torch.randn(*X_shape)\n",
    "    for layer in self.net:\n",
    "        X = layer(X)\n",
    "        print(layer.__class__.__name__, 'output shape:\\t', X.shape)"
   ]
  },
  {
   "cell_type": "code",
   "execution_count": 15,
   "id": "841dbfb5-7a13-4e8e-9ef5-29d430899fcb",
   "metadata": {},
   "outputs": [
    {
     "name": "stdout",
     "output_type": "stream",
     "text": [
      "Conv2d output shape:\t torch.Size([1, 6, 28, 28])\n",
      "Sigmoid output shape:\t torch.Size([1, 6, 28, 28])\n",
      "AvgPool2d output shape:\t torch.Size([1, 6, 14, 14])\n",
      "Conv2d output shape:\t torch.Size([1, 16, 10, 10])\n",
      "Sigmoid output shape:\t torch.Size([1, 16, 10, 10])\n",
      "AvgPool2d output shape:\t torch.Size([1, 16, 5, 5])\n",
      "Flatten output shape:\t torch.Size([1, 400])\n",
      "Linear output shape:\t torch.Size([1, 120])\n",
      "Sigmoid output shape:\t torch.Size([1, 120])\n",
      "Linear output shape:\t torch.Size([1, 84])\n",
      "Sigmoid output shape:\t torch.Size([1, 84])\n",
      "Linear output shape:\t torch.Size([1, 10])\n"
     ]
    }
   ],
   "source": [
    "model = LeNet()\n",
    "model.layer_summary((1, 1, 28, 28))"
   ]
  },
  {
   "cell_type": "markdown",
   "id": "ae1bafd8-fbd0-4d77-be28-fdb1bcec6427",
   "metadata": {},
   "source": [
    "Height and width reduced layer over layer. Second convolutional layer does not include padding, so height and width reduced by four pixels. "
   ]
  },
  {
   "cell_type": "markdown",
   "id": "67b743c6-1bde-4439-b52f-7bb1ce34ee09",
   "metadata": {},
   "source": [
    "## Training"
   ]
  },
  {
   "cell_type": "code",
   "execution_count": null,
   "id": "94b800c1-b63e-4434-ae34-74d72ced68af",
   "metadata": {},
   "outputs": [],
   "source": [
    "trainer = d2l.Trainer(max_epoch=10, num_gpus=1)\n",
    "data = d2l.FashionMNIST(batch_size=128)\n",
    "model = LeNet("
   ]
  }
 ],
 "metadata": {
  "kernelspec": {
   "display_name": "Python 3 (ipykernel)",
   "language": "python",
   "name": "python3"
  },
  "language_info": {
   "codemirror_mode": {
    "name": "ipython",
    "version": 3
   },
   "file_extension": ".py",
   "mimetype": "text/x-python",
   "name": "python",
   "nbconvert_exporter": "python",
   "pygments_lexer": "ipython3",
   "version": "3.9.21"
  }
 },
 "nbformat": 4,
 "nbformat_minor": 5
}
