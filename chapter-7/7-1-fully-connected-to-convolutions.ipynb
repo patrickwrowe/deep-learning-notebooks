{
 "cells": [
  {
   "cell_type": "markdown",
   "id": "9e1babb2-2fde-4e5f-8935-0fa57a46b9ca",
   "metadata": {},
   "source": [
    "# From Fully Connected Layers to Convolutions"
   ]
  },
  {
   "cell_type": "code",
   "execution_count": null,
   "id": "e48f93fa-ddf1-4733-9e11-6282d1a01d1e",
   "metadata": {},
   "outputs": [],
   "source": []
  }
 ],
 "metadata": {
  "kernelspec": {
   "display_name": "Python 3 (ipykernel)",
   "language": "python",
   "name": "python3"
  },
  "language_info": {
   "codemirror_mode": {
    "name": "ipython",
    "version": 3
   },
   "file_extension": ".py",
   "mimetype": "text/x-python",
   "name": "python",
   "nbconvert_exporter": "python",
   "pygments_lexer": "ipython3",
   "version": "3.9.21"
  }
 },
 "nbformat": 4,
 "nbformat_minor": 5
}
