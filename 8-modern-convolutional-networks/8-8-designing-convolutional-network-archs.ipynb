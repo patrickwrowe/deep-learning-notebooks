{
 "cells": [
  {
   "cell_type": "markdown",
   "id": "84617e95-e63f-4da1-9265-49f4948fb9e1",
   "metadata": {},
   "source": [
    "# Designing Convolutional Network Architectures\n",
    "\n",
    "The networks explored so far have their architecture specified mostly by human intutition and experimentation. While _neural architecture search_ methods for finding the best neural architecture do exist, they are fantastically expensive, relying on brute force to find the best result. Network design spaces instead optimise over distributions of networks, and achieve good results. The outcomes of these are _RegNets_, i.e. RegNetX and RegNetY."
   ]
  },
  {
   "cell_type": "code",
   "execution_count": 1,
   "id": "c00e0029-ba00-4820-88a2-7c71f885bd50",
   "metadata": {},
   "outputs": [],
   "source": [
    "import torch\n",
    "from torch import nn\n",
    "from torch.nn import functional as F\n",
    "from d2l import torch as d2l"
   ]
  },
  {
   "cell_type": "code",
   "execution_count": 2,
   "id": "48e5a000-3a4f-4efb-9cd1-825594b819c2",
   "metadata": {},
   "outputs": [],
   "source": [
    "# tbd..."
   ]
  },
  {
   "cell_type": "code",
   "execution_count": null,
   "id": "0e25289e-b3d0-4d2b-bf33-14f61ae53302",
   "metadata": {},
   "outputs": [],
   "source": []
  }
 ],
 "metadata": {
  "kernelspec": {
   "display_name": "Python 3 (ipykernel)",
   "language": "python",
   "name": "python3"
  },
  "language_info": {
   "codemirror_mode": {
    "name": "ipython",
    "version": 3
   },
   "file_extension": ".py",
   "mimetype": "text/x-python",
   "name": "python",
   "nbconvert_exporter": "python",
   "pygments_lexer": "ipython3",
   "version": "3.9.21"
  }
 },
 "nbformat": 4,
 "nbformat_minor": 5
}
