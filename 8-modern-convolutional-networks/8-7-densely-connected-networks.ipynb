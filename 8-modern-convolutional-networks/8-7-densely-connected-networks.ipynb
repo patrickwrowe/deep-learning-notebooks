{
 "cells": [
  {
   "cell_type": "markdown",
   "id": "81587c19-77e7-4efd-9eec-0404471bff8e",
   "metadata": {},
   "source": [
    "# Densely Connected Networks (DenseNet)"
   ]
  },
  {
   "cell_type": "code",
   "execution_count": null,
   "id": "5169d43e-5548-475f-aad4-c369ec596400",
   "metadata": {},
   "outputs": [],
   "source": []
  }
 ],
 "metadata": {
  "kernelspec": {
   "display_name": "Python 3 (ipykernel)",
   "language": "python",
   "name": "python3"
  },
  "language_info": {
   "codemirror_mode": {
    "name": "ipython",
    "version": 3
   },
   "file_extension": ".py",
   "mimetype": "text/x-python",
   "name": "python",
   "nbconvert_exporter": "python",
   "pygments_lexer": "ipython3",
   "version": "3.9.21"
  }
 },
 "nbformat": 4,
 "nbformat_minor": 5
}
