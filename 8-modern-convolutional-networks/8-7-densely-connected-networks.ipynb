{
 "cells": [
  {
   "cell_type": "markdown",
   "id": "81587c19-77e7-4efd-9eec-0404471bff8e",
   "metadata": {},
   "source": [
    "# Densely Connected Networks (DenseNet)\n",
    "\n",
    "Major difference from resnet is that every layer is connected to the layer preceeding it. Outputs are concatentated instead of added."
   ]
  },
  {
   "cell_type": "markdown",
   "id": "41dac135-a108-4d9b-8b71-c81ebb593d9b",
   "metadata": {},
   "source": [
    "## Dense Block"
   ]
  },
  {
   "cell_type": "code",
   "execution_count": 3,
   "id": "26e28dc8-4960-42d9-a3b8-cb9a6b8ad254",
   "metadata": {},
   "outputs": [],
   "source": [
    "import torch\n",
    "from torch import nn\n",
    "from d2l import torch as d2l"
   ]
  },
  {
   "cell_type": "code",
   "execution_count": 4,
   "id": "5169d43e-5548-475f-aad4-c369ec596400",
   "metadata": {},
   "outputs": [],
   "source": [
    "def conv_block(num_channels):\n",
    "    return nn.Sequential(\n",
    "        nn.LazyBatchNorm2d(), nn.ReLU(),\n",
    "\n",
    "        # Keep spatial dimensions the same\n",
    "        nn.LazyConv2d(num_channels, kernel_size=3, padding=1))"
   ]
  },
  {
   "cell_type": "code",
   "execution_count": 5,
   "id": "d40ccb99-a7b1-40c5-87a0-eeff4bc437bb",
   "metadata": {},
   "outputs": [],
   "source": [
    "class DenseBlock(nn.Module):\n",
    "    def __init__(self, num_convs, num_channels):\n",
    "        super(DenseBlock, self).__init__()\n",
    "        layer = []\n",
    "        for i in range(num_convs):\n",
    "            layer.append(conv_block(num_channels))\n",
    "        self.net = nn.Sequential(*layer)\n",
    "\n",
    "    def forward(self, X):\n",
    "        for blk in self.net:\n",
    "            Y = blk(X)\n",
    "\n",
    "            # Concatenate along the channel dimension\n",
    "            X = torch.cat((X, Y), dim=1)\n",
    "\n",
    "        return X"
   ]
  },
  {
   "cell_type": "code",
   "execution_count": 6,
   "id": "60b5c43a-80dc-47f7-aa88-b23f74812ea0",
   "metadata": {},
   "outputs": [
    {
     "name": "stderr",
     "output_type": "stream",
     "text": [
      "/Users/patrickrowe/miniconda3/envs/d2l/lib/python3.9/site-packages/torch/nn/modules/lazy.py:180: UserWarning: Lazy modules are a new feature under heavy development so changes to the API or functionality can happen at any moment.\n",
      "  warnings.warn('Lazy modules are a new feature under heavy development '\n"
     ]
    },
    {
     "data": {
      "text/plain": [
       "torch.Size([4, 23, 8, 8])"
      ]
     },
     "execution_count": 6,
     "metadata": {},
     "output_type": "execute_result"
    }
   ],
   "source": [
    "blk = DenseBlock(2, 10)\n",
    "X = torch.randn(4, 3, 8, 8)\n",
    "Y = blk(X)\n",
    "Y.shape"
   ]
  },
  {
   "cell_type": "markdown",
   "id": "52f5a475-33a8-499b-af9d-e98b7ce710b6",
   "metadata": {},
   "source": [
    "## Transition Layers\n",
    "\n",
    "Since each dense block increases the number of channels, 1x1 convolutions called transition layers are used to control the complexity of the model. Height and width also reduced by a factor of 2."
   ]
  },
  {
   "cell_type": "code",
   "execution_count": 8,
   "id": "f2888bc0-b487-490f-9891-db3f78307935",
   "metadata": {},
   "outputs": [],
   "source": [
    "def transition_block(num_channels):\n",
    "    return nn.Sequential(\n",
    "        nn.LazyBatchNorm2d(), nn.ReLU(),\n",
    "        nn.LazyConv2d(num_channels, kernel_size=1),\n",
    "        nn.AvgPool2d(kernel_size=2, stride=2)\n",
    "    )"
   ]
  },
  {
   "cell_type": "code",
   "execution_count": 9,
   "id": "d7a01f4c-99ad-40a7-8b42-0bdef1e75c9d",
   "metadata": {},
   "outputs": [
    {
     "data": {
      "text/plain": [
       "torch.Size([4, 10, 4, 4])"
      ]
     },
     "execution_count": 9,
     "metadata": {},
     "output_type": "execute_result"
    }
   ],
   "source": [
    "blk = transition_block(10)\n",
    "blk(Y).shape"
   ]
  },
  {
   "cell_type": "markdown",
   "id": "22405c36-d3a1-472a-b59f-f0e9c2f9d21e",
   "metadata": {},
   "source": [
    "## DenseNet"
   ]
  },
  {
   "cell_type": "code",
   "execution_count": 10,
   "id": "89f55ba5-3fbb-4a0d-9ba2-7128d54033f2",
   "metadata": {},
   "outputs": [],
   "source": [
    "class DenseNet(d2l.Classifier):\n",
    "    def b1(self):\n",
    "        return nn.Sequential(\n",
    "            nn.LazyConv2d(out_channels=64, kernel_size=7, stide=2, padding=3),\n",
    "            nn.LazyBatchNorm2d(), nn.ReLU(),\n",
    "            nn.MaxPool2d(kernel_size=3, stride=2, padding=1)\n",
    "        )\n",
    "\n",
    "    def __init__(self, num_channels=64, growth_rate=32, arch=(4, 4, 4, 4), lr=0.1, num_classes=10):\n",
    "        # growth rate -> number of channels added in each block\n",
    "        super().__init__()\n",
    "        self.save_hyperparameters()\n",
    "        self.net = nn.Sequential(self.b1())\n",
    "\n",
    "        for i, num_convs in enumerate(arch):\n",
    "            self.net.add_module(\n",
    "                f\"dense_blk{i + 1}\",\n",
    "                DenseBlock(num_convs,\n",
    "                           growth_rate)\n",
    "            )\n",
    "\n",
    "            # Calculate number of output channels\n",
    "            num_channels += num_convs * growth_rate\n",
    "\n",
    "            # Add a transition layer to halve the number of channels\n",
    "            if i != len(arch) - 1:\n",
    "                num_channels //= 2\n",
    "                self.net.add_module(\n",
    "                    f'tran_blk{i+1}', \n",
    "                    transition_block(num_channels)\n",
    "                )\n",
    "\n",
    "        self.net.add_module(\n",
    "            'last',\n",
    "            nn.Sequential(\n",
    "                nn.LazyBatchNorm2d(),\n",
    "                nn.ReLU(),\n",
    "                nn.AdaptiveAvgPool2d((1, 1)),\n",
    "                nn.Flatten(),\n",
    "                nn.LazyLinear(num_classes)\n",
    "            )\n",
    "        )"
   ]
  },
  {
   "cell_type": "code",
   "execution_count": null,
   "id": "709856ef-9e2e-4d6a-9c0c-4e97e59618f6",
   "metadata": {},
   "outputs": [],
   "source": []
  }
 ],
 "metadata": {
  "kernelspec": {
   "display_name": "Python 3 (ipykernel)",
   "language": "python",
   "name": "python3"
  },
  "language_info": {
   "codemirror_mode": {
    "name": "ipython",
    "version": 3
   },
   "file_extension": ".py",
   "mimetype": "text/x-python",
   "name": "python",
   "nbconvert_exporter": "python",
   "pygments_lexer": "ipython3",
   "version": "3.9.21"
  }
 },
 "nbformat": 4,
 "nbformat_minor": 5
}
