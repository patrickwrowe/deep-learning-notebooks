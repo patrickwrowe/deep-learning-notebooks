{
 "cells": [
  {
   "cell_type": "markdown",
   "id": "0f59a2e8-78d3-40c9-a126-6d2ee72bb88d",
   "metadata": {},
   "source": [
    "# Layers and Modules"
   ]
  },
  {
   "cell_type": "code",
   "execution_count": null,
   "id": "e47acb0c-7b6c-4f2a-930d-853dd97a8f2a",
   "metadata": {},
   "outputs": [],
   "source": []
  },
  {
   "cell_type": "code",
   "execution_count": null,
   "id": "a0c64f2b-24b7-4f9d-bf44-f134131a85f9",
   "metadata": {},
   "outputs": [],
   "source": []
  }
 ],
 "metadata": {
  "kernelspec": {
   "display_name": "Python 3 (ipykernel)",
   "language": "python",
   "name": "python3"
  },
  "language_info": {
   "codemirror_mode": {
    "name": "ipython",
    "version": 3
   },
   "file_extension": ".py",
   "mimetype": "text/x-python",
   "name": "python",
   "nbconvert_exporter": "python",
   "pygments_lexer": "ipython3",
   "version": "3.9.21"
  }
 },
 "nbformat": 4,
 "nbformat_minor": 5
}
