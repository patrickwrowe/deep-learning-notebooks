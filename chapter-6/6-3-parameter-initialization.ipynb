{
 "cells": [
  {
   "cell_type": "markdown",
   "id": "1dff7d37-a6fb-4bf5-aa74-3d72ab7788b1",
   "metadata": {},
   "source": [
    "# Parameter Initialization\n",
    "\n",
    "Now that we can access parameters, lets initialise them properly. Torch will automatically initialise parameters randomly for us, but as we've already covered, this is often a suboptimal approach. PyTorch's nn.init module provides some of the common methods for us, but it's also possible to define our own."
   ]
  },
  {
   "cell_type": "code",
   "execution_count": 1,
   "id": "fb43c1ab-e9c0-4813-93ef-a5cbc1f5cf6e",
   "metadata": {},
   "outputs": [],
   "source": [
    "import torch\n",
    "from torch import nn"
   ]
  },
  {
   "cell_type": "code",
   "execution_count": 5,
   "id": "d00761ba-c08a-4442-b18c-38be76bf1f5d",
   "metadata": {},
   "outputs": [
    {
     "data": {
      "text/plain": [
       "torch.Size([2, 1])"
      ]
     },
     "execution_count": 5,
     "metadata": {},
     "output_type": "execute_result"
    }
   ],
   "source": [
    "net = nn.Sequential(nn.LazyLinear(8), nn.ReLU(), nn.LazyLinear(1))\n",
    "\n",
    "X = torch.rand(size=(2, 4))\n",
    "net(X).shape"
   ]
  },
  {
   "cell_type": "markdown",
   "id": "075817eb-ecc8-49d8-abcc-13ff09b52761",
   "metadata": {},
   "source": [
    "## Built-in Initialization"
   ]
  },
  {
   "cell_type": "code",
   "execution_count": 9,
   "id": "3f9be1e3-9741-4551-a01e-28b02a045ae5",
   "metadata": {},
   "outputs": [
    {
     "data": {
      "text/plain": [
       "(tensor([[ 0.0137,  0.0035, -0.0022,  0.0013],\n",
       "         [-0.0093,  0.0110,  0.0143, -0.0109],\n",
       "         [-0.0081, -0.0052, -0.0104,  0.0089],\n",
       "         [-0.0131, -0.0089,  0.0087, -0.0139],\n",
       "         [-0.0140,  0.0122,  0.0039,  0.0080],\n",
       "         [ 0.0054, -0.0013, -0.0103,  0.0020],\n",
       "         [-0.0196, -0.0025,  0.0020, -0.0069],\n",
       "         [-0.0281, -0.0096, -0.0022, -0.0002]]),\n",
       " tensor([0., 0., 0., 0., 0., 0., 0., 0.]))"
      ]
     },
     "execution_count": 9,
     "metadata": {},
     "output_type": "execute_result"
    }
   ],
   "source": [
    "# Initialize by drawing weight from Gaussian distribution with mean 0, and stdev 0.01 set biases to 0\n",
    "\n",
    "def init_normal(module):\n",
    "    if type(module) == nn.Linear:\n",
    "        nn.init.normal_(module.weight, mean=0, std=0.01)\n",
    "        nn.init.zeros_(module.bias)\n",
    "\n",
    "net.apply(init_normal)\n",
    "\n",
    "net[0].weight.data, net[0].bias.data"
   ]
  },
  {
   "cell_type": "code",
   "execution_count": 12,
   "id": "69fa6e83-a736-4014-9068-f4ccdbff4000",
   "metadata": {},
   "outputs": [
    {
     "data": {
      "text/plain": [
       "(tensor([[1., 1., 1., 1.],\n",
       "         [1., 1., 1., 1.],\n",
       "         [1., 1., 1., 1.],\n",
       "         [1., 1., 1., 1.],\n",
       "         [1., 1., 1., 1.],\n",
       "         [1., 1., 1., 1.],\n",
       "         [1., 1., 1., 1.],\n",
       "         [1., 1., 1., 1.]]),\n",
       " tensor([0., 0., 0., 0., 0., 0., 0., 0.]))"
      ]
     },
     "execution_count": 12,
     "metadata": {},
     "output_type": "execute_result"
    }
   ],
   "source": [
    "# We can also initialise all the parameters to a constant\n",
    "\n",
    "def init_constant(module):\n",
    "    if type(module) == nn.Linear:\n",
    "        nn.init.constant_(module.weight, 1)\n",
    "        nn.init.zeros_(module.bias)\n",
    "\n",
    "net.apply(init_constant)\n",
    "\n",
    "net[0].weight.data, net[0].bias.data"
   ]
  },
  {
   "cell_type": "code",
   "execution_count": 14,
   "id": "ee298552-d49d-4829-96cc-55d4dec4f306",
   "metadata": {},
   "outputs": [
    {
     "name": "stdout",
     "output_type": "stream",
     "text": [
      "tensor([-0.0445, -0.6304, -0.4451,  0.5981])\n",
      "tensor([[42., 42., 42., 42., 42., 42., 42., 42.]])\n"
     ]
    }
   ],
   "source": [
    "# We can also combine initializations, here we mix Xavier and and constant\n",
    "\n",
    "def init_xavier(module):\n",
    "    if type(module) == nn.Linear:\n",
    "        nn.init.xavier_uniform_(module.weight)\n",
    "\n",
    "def init_42(module):\n",
    "    if type(module) == nn.Linear:\n",
    "        nn.init.constant_(module.weight, 42)\n",
    "        \n",
    "net[0].apply(init_xavier)\n",
    "net[2].apply(init_42)\n",
    "print(net[0].weight.data[0])\n",
    "print(net[2].weight.data)"
   ]
  },
  {
   "cell_type": "markdown",
   "id": "94208f9d-36df-4564-a358-3edc5e2b18ec",
   "metadata": {},
   "source": [
    "### Custom Initialization\n",
    "\n",
    "Sometimes, we may wish to work with initialisation methods which are not included in the machine learning framework, we can define our own:"
   ]
  },
  {
   "cell_type": "code",
   "execution_count": 23,
   "id": "91dcbaa9-a609-41c5-85e4-3ca1de25a759",
   "metadata": {},
   "outputs": [],
   "source": [
    "def my_init(module):\n",
    "    if type(module) == nn.Linear:\n",
    "        print(\"Init\", *[(name, param.shape)\n",
    "                        for name, param in module.named_parameters()][0])\n",
    "        nn.init.uniform_(module.weight, -10, 10)\n",
    "        module.weight.data *= module.weight.data.abs() >= 5"
   ]
  },
  {
   "cell_type": "code",
   "execution_count": 24,
   "id": "469a17eb-9ade-445d-b463-e3bf65e71376",
   "metadata": {},
   "outputs": [
    {
     "name": "stdout",
     "output_type": "stream",
     "text": [
      "Init weight torch.Size([8, 4])\n",
      "Init weight torch.Size([1, 8])\n"
     ]
    },
    {
     "data": {
      "text/plain": [
       "tensor([[ 8.7808, -0.0000, -0.0000,  0.0000],\n",
       "        [ 0.0000, -6.2417,  0.0000, -0.0000]], grad_fn=<SliceBackward0>)"
      ]
     },
     "execution_count": 24,
     "metadata": {},
     "output_type": "execute_result"
    }
   ],
   "source": [
    "net.apply(my_init)\n",
    "net[0].weight[:2]\n"
   ]
  },
  {
   "cell_type": "code",
   "execution_count": 25,
   "id": "dd7ac4c5-e930-409b-a845-44e53230b952",
   "metadata": {},
   "outputs": [
    {
     "data": {
      "text/plain": [
       "tensor([42.,  1.,  1.,  1.])"
      ]
     },
     "execution_count": 25,
     "metadata": {},
     "output_type": "execute_result"
    }
   ],
   "source": [
    "# Of course, if we really need to, setting the parameters directly is also an option.\n",
    "\n",
    "net[0].weight.data[:] += 1\n",
    "net[0].weight.data[0, 0] = 42\n",
    "net[0].weight.data[0]"
   ]
  },
  {
   "cell_type": "code",
   "execution_count": null,
   "id": "e3c5d0c5-d512-48e2-8620-0c9c0f81dd47",
   "metadata": {},
   "outputs": [],
   "source": []
  }
 ],
 "metadata": {
  "kernelspec": {
   "display_name": "Python 3 (ipykernel)",
   "language": "python",
   "name": "python3"
  },
  "language_info": {
   "codemirror_mode": {
    "name": "ipython",
    "version": 3
   },
   "file_extension": ".py",
   "mimetype": "text/x-python",
   "name": "python",
   "nbconvert_exporter": "python",
   "pygments_lexer": "ipython3",
   "version": "3.9.21"
  }
 },
 "nbformat": 4,
 "nbformat_minor": 5
}
