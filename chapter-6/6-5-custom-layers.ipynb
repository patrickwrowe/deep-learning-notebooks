{
 "cells": [
  {
   "cell_type": "markdown",
   "id": "69cbf049-f3dd-4f4c-9863-fb0dc26ed667",
   "metadata": {},
   "source": [
    "# Custom Layers\n",
    "\n",
    "Although much of deep learning's sucess can be attributed to the fact that there are a wide range of layers that already exist, sooner or later we will need to build a custom layer..."
   ]
  },
  {
   "cell_type": "code",
   "execution_count": 1,
   "id": "7112fc1b-4ee9-4687-ac7d-17eb374d9892",
   "metadata": {},
   "outputs": [],
   "source": [
    "import torch\n",
    "from torch import nn\n",
    "from torch.nn import functional as F\n",
    "from d2l import torch as d2l"
   ]
  },
  {
   "cell_type": "markdown",
   "id": "a1fed29f-4eca-4acf-a0a5-160665a6f66d",
   "metadata": {},
   "source": [
    "## Layers Without Parameters"
   ]
  },
  {
   "cell_type": "code",
   "execution_count": 3,
   "id": "3fc8d7bd-34c9-4c95-9f24-73fc5e19ebec",
   "metadata": {},
   "outputs": [],
   "source": [
    "# This layer doesn't have any parameters, it just subtracts the mean from its input.\n",
    "\n",
    "class CenteredLayer(nn.Module):\n",
    "\n",
    "    def __init__(self):\n",
    "        super().__init__()\n",
    "\n",
    "    def forward(self, X):\n",
    "        return X - X.mean()"
   ]
  },
  {
   "cell_type": "code",
   "execution_count": 4,
   "id": "71a6e6f4-4938-405b-b0cf-cc64caea32b9",
   "metadata": {},
   "outputs": [
    {
     "data": {
      "text/plain": [
       "tensor([-2., -1.,  0.,  1.,  2.])"
      ]
     },
     "execution_count": 4,
     "metadata": {},
     "output_type": "execute_result"
    }
   ],
   "source": [
    "layer = CenteredLayer()\n",
    "layer(torch.tensor([1.0, 2, 3, 4, 5]))"
   ]
  },
  {
   "cell_type": "markdown",
   "id": "0d53362a-b7e8-4207-b596-71450a3dbef4",
   "metadata": {},
   "source": [
    "This layer could be incorporated into more complex models"
   ]
  },
  {
   "cell_type": "code",
   "execution_count": 5,
   "id": "e7d29dca-df9b-44e3-a016-2e191a467541",
   "metadata": {},
   "outputs": [
    {
     "name": "stderr",
     "output_type": "stream",
     "text": [
      "/Users/patrickrowe/miniconda3/envs/d2l/lib/python3.9/site-packages/torch/nn/modules/lazy.py:180: UserWarning: Lazy modules are a new feature under heavy development so changes to the API or functionality can happen at any moment.\n",
      "  warnings.warn('Lazy modules are a new feature under heavy development '\n"
     ]
    }
   ],
   "source": [
    "net = nn.Sequential(nn.LazyLinear(128), CenteredLayer())"
   ]
  },
  {
   "cell_type": "code",
   "execution_count": 7,
   "id": "5519b5c6-b7f5-471a-a3c5-e214e4e786d2",
   "metadata": {},
   "outputs": [
    {
     "data": {
      "text/plain": [
       "tensor(1.8626e-09, grad_fn=<MeanBackward0>)"
      ]
     },
     "execution_count": 7,
     "metadata": {},
     "output_type": "execute_result"
    }
   ],
   "source": [
    "Y = net(torch.rand(4, 8))\n",
    "\n",
    "# Expect the mean to be close to zero\n",
    "Y.mean()"
   ]
  },
  {
   "cell_type": "markdown",
   "id": "4064b6db-2cdf-4551-aa85-5bfcd4f1c829",
   "metadata": {},
   "source": [
    "## Layers With Parameters\n",
    "\n",
    "Requires in_units and units"
   ]
  },
  {
   "cell_type": "code",
   "execution_count": 8,
   "id": "7b6b4fdf-4fb3-46e0-a95c-8eeb9ef088d7",
   "metadata": {},
   "outputs": [],
   "source": [
    "class MyLinear(nn.Module):\n",
    "    def __init__(self, in_units, units):\n",
    "        super().__init__()\n",
    "        self.weight = nn.Parameter(torch.randn(in_units, units))\n",
    "        self.bias = nn.Parameter(torch.randn(units,))\n",
    "\n",
    "    def forward(self, X):\n",
    "        linear = torch.matmul(X, self.weight.data) + self.bias.data\n",
    "        return F.relu(linear)"
   ]
  },
  {
   "cell_type": "code",
   "execution_count": 9,
   "id": "5aea649d-5ca8-4813-a0be-5bb61197ed11",
   "metadata": {},
   "outputs": [
    {
     "data": {
      "text/plain": [
       "Parameter containing:\n",
       "tensor([[-0.5526,  0.3142, -0.0836],\n",
       "        [-0.9126, -0.7463, -0.7425],\n",
       "        [ 0.6579, -1.2442, -0.6582],\n",
       "        [-0.3294, -0.7204, -0.2565],\n",
       "        [-2.0992,  0.6322, -0.0892]], requires_grad=True)"
      ]
     },
     "execution_count": 9,
     "metadata": {},
     "output_type": "execute_result"
    }
   ],
   "source": [
    "\n",
    "linear = MyLinear(5, 3)\n",
    "linear.weight"
   ]
  },
  {
   "cell_type": "code",
   "execution_count": 12,
   "id": "8e2de6e6-183d-475a-b389-7044287c4f42",
   "metadata": {},
   "outputs": [
    {
     "data": {
      "text/plain": [
       "tensor([[0., 0., 0.],\n",
       "        [0., 0., 0.]])"
      ]
     },
     "execution_count": 12,
     "metadata": {},
     "output_type": "execute_result"
    }
   ],
   "source": [
    "linear(torch.rand(2, 5))"
   ]
  },
  {
   "cell_type": "code",
   "execution_count": null,
   "id": "aab7d073-9e55-4853-b7ce-a62287fdc156",
   "metadata": {},
   "outputs": [],
   "source": []
  }
 ],
 "metadata": {
  "kernelspec": {
   "display_name": "Python 3 (ipykernel)",
   "language": "python",
   "name": "python3"
  },
  "language_info": {
   "codemirror_mode": {
    "name": "ipython",
    "version": 3
   },
   "file_extension": ".py",
   "mimetype": "text/x-python",
   "name": "python",
   "nbconvert_exporter": "python",
   "pygments_lexer": "ipython3",
   "version": "3.9.21"
  }
 },
 "nbformat": 4,
 "nbformat_minor": 5
}
