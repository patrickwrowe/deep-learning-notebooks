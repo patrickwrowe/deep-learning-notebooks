{
 "cells": [
  {
   "cell_type": "code",
   "execution_count": 1,
   "id": "9c03d514-b036-4a5c-a540-eaff6dd19488",
   "metadata": {},
   "outputs": [],
   "source": [
    "%matplotlib inline\n",
    "import numpy as np\n",
    "from matplotlib_inline import backend_inline\n",
    "from d2l import torch as d2l"
   ]
  },
  {
   "cell_type": "markdown",
   "id": "a32357cc-03e0-40a2-881d-b9aa620fe6c2",
   "metadata": {},
   "source": [
    "# Calculus\n",
    "## Derivatives and Differentiation\n",
    "\n",
    "Put simply, a derivative tells us whether the value of a function would increase or decrease were we to modify each parameter an infinitesimal amount.\n",
    "Formally, for functions $f: \\mathbb{R} \\rightarrow \\mathbb{R}$ (i.e. functions that map a real-valued scalar to another real-valued scalar), the derivative at a point x is \n",
    "\n",
    "$$\\lim_{h \\rightarrow 0} \\frac{f(x + h)-f(x)}{h}$$\n",
    "\n",
    "When $f'(x)$ exists, the function $f$ is said to be differentiable at x. When $f'(x)$ exists for all $x$ on a set (e.g. the interval $[a,b]$, we say that $f$ is differentiable on this set. \n",
    "\n",
    "Unfortunately, not all functions are differentiable, including many we wish to optimise against. Including \"accuracy\" (?) and the AUC of a classifier. When this is the case, we often instead optimise a differentiable _surrogate_."
   ]
  },
  {
   "cell_type": "code",
   "execution_count": 4,
   "id": "06055338-ff5d-49d3-bfad-67db29c153fa",
   "metadata": {},
   "outputs": [],
   "source": [
    "# Define u = f(x) = 3x^2 - 4x\n",
    "\n",
    "def f(x):\n",
    "    return 3*x**2 - 4 * x"
   ]
  },
  {
   "cell_type": "code",
   "execution_count": 14,
   "id": "1d82ba5b-0e06-495e-a614-880319b23e89",
   "metadata": {},
   "outputs": [
    {
     "name": "stdout",
     "output_type": "stream",
     "text": [
      "Function value: 319.00000. Limit: 10.00000. Derivative: 32.00000\n",
      "Function value: 4.00000. Limit: 1.00000. Derivative: 5.00000\n",
      "Function value: -0.77000. Limit: 0.10000. Derivative: 2.30000\n",
      "Function value: -0.97970. Limit: 0.01000. Derivative: 2.03000\n",
      "Function value: -0.99800. Limit: 0.00100. Derivative: 2.00300\n",
      "Function value: -0.99980. Limit: 0.00010. Derivative: 2.00030\n",
      "Function value: -0.99998. Limit: 0.00001. Derivative: 2.00003\n",
      "Function value: -1.00000. Limit: 0.00000. Derivative: 2.00000\n"
     ]
    }
   ],
   "source": [
    "x = 1\n",
    "for h in 10.0 ** np.arange(1, -7, -1):\n",
    "    print(f\"Function value: {f(x + h):3.5f}. Limit: {h:2.5f}. Derivative: {(f(x + h)- f(x))/h:2.5f}\")"
   ]
  },
  {
   "cell_type": "markdown",
   "id": "89dd2111-d15a-4dde-b5a5-b4b3f153a6f9",
   "metadata": {},
   "source": [
    "There are several equivalent notations for derivatives, given $y = f(x)$ the following statements are equivalent:\n",
    "\n",
    "$$f'(x) = y' = \\frac{dy}{dx} = \\frac{df}{dx} = \\frac{d}{dx}f(x) = Df(x) = D_x f(x)$$\n",
    "\n",
    "Where the symbols $D$ and $\\frac{d}{dx}$ are _differentiation operators_.\n",
    "\n",
    "Some common derivatives are:\n",
    "\n",
    "$$\\frac{d}{dx} C = 0$$\n",
    "$$\\frac{d}{dx} x^n = nx^{n-1}$$\n",
    "$$\\frac{d}{dx} e^x = e^x$$\n",
    "$$\\frac{d}{dx} \\ln x = 1/x$$"
   ]
  },
  {
   "cell_type": "markdown",
   "id": "d10e1534-11f3-4293-ad75-4d99e7334e51",
   "metadata": {},
   "source": [
    "Functions composed of other differential functions are often differentiable themselves. There are a few rules for working with these, in the following examples, $f$ and $g$ are funcitons, while C is a constant\n",
    "\n",
    "Constant Multiple Rule:\n",
    "$$ \\frac{d}{dx}[Cf(x)] = C \\frac{d}{dx}f(x)$$\n",
    "\n",
    "Sum Rule:\n",
    "$$ \\frac{d}{dx}[f(x) + g(x)] = \\frac{d}{dx}f(x) + \\frac{d}{dx}g(x)$$ \n",
    "\n",
    "Product Rule: \n",
    "$$ \\frac{d}{dx}[f(x)g(x) = g(x)\\frac{d}{dx}f(x) + f(x)\\frac{d}{dx}g(x)$$ \n",
    "\n",
    "Quotient Rule\n",
    "$$ \\frac{d}{dx}[\\frac{f(x)}{g(x)}] = \\frac{g(x) \\frac{d}{dx} f(x) + f(x) \\frac{d}{dx} g(x)}{g^2(x)}$$"
   ]
  },
  {
   "cell_type": "markdown",
   "id": "dd997f85-2fd9-4b15-a3da-3bc6294d56b2",
   "metadata": {},
   "source": [
    "## Visualisation utilities"
   ]
  },
  {
   "cell_type": "code",
   "execution_count": null,
   "id": "7f8053d1-e958-424f-a215-0db103b61f8f",
   "metadata": {},
   "outputs": [],
   "source": []
  },
  {
   "cell_type": "code",
   "execution_count": null,
   "id": "78334a8f-eda9-45d0-93a1-fd4cfe5286e7",
   "metadata": {},
   "outputs": [],
   "source": []
  },
  {
   "cell_type": "code",
   "execution_count": null,
   "id": "1555a05b-c912-45b0-9c59-772408148b96",
   "metadata": {},
   "outputs": [],
   "source": []
  },
  {
   "cell_type": "code",
   "execution_count": null,
   "id": "75801fd7-e13d-49fc-bcb9-3b467a4af3c9",
   "metadata": {},
   "outputs": [],
   "source": []
  },
  {
   "cell_type": "code",
   "execution_count": null,
   "id": "2edad41f-c71c-4e14-9fe8-c6fc13096db6",
   "metadata": {},
   "outputs": [],
   "source": []
  },
  {
   "cell_type": "code",
   "execution_count": null,
   "id": "a83a382a-0ac6-48b2-ae0a-21a839aca542",
   "metadata": {},
   "outputs": [],
   "source": []
  },
  {
   "cell_type": "code",
   "execution_count": null,
   "id": "3c32e0b6-7e51-4b5e-85be-da181c649e80",
   "metadata": {},
   "outputs": [],
   "source": []
  },
  {
   "cell_type": "code",
   "execution_count": null,
   "id": "565d818d-98ab-44ee-b639-54ffc7f3480d",
   "metadata": {},
   "outputs": [],
   "source": []
  },
  {
   "cell_type": "code",
   "execution_count": null,
   "id": "c959449b-b2fd-4ce3-a80f-24763f9f0547",
   "metadata": {},
   "outputs": [],
   "source": []
  },
  {
   "cell_type": "code",
   "execution_count": null,
   "id": "b1374c79-f74e-46e0-9457-61370e597a14",
   "metadata": {},
   "outputs": [],
   "source": []
  },
  {
   "cell_type": "code",
   "execution_count": null,
   "id": "78325779-c6a8-4c77-8fff-b05d9966eb0b",
   "metadata": {},
   "outputs": [],
   "source": []
  },
  {
   "cell_type": "code",
   "execution_count": null,
   "id": "74c3b558-312b-4096-9ae7-9308af6eee8e",
   "metadata": {},
   "outputs": [],
   "source": []
  },
  {
   "cell_type": "code",
   "execution_count": null,
   "id": "fb2e70b9-2d48-442b-8c96-d75821fea009",
   "metadata": {},
   "outputs": [],
   "source": []
  },
  {
   "cell_type": "code",
   "execution_count": null,
   "id": "2209e726-e77b-497d-aea2-07ddb92db3fc",
   "metadata": {},
   "outputs": [],
   "source": []
  },
  {
   "cell_type": "code",
   "execution_count": null,
   "id": "96cdf164-44e6-444b-a058-4f2881551e25",
   "metadata": {},
   "outputs": [],
   "source": []
  },
  {
   "cell_type": "code",
   "execution_count": null,
   "id": "cfe249c8-d4fa-4086-872a-2ac69fdd4dfa",
   "metadata": {},
   "outputs": [],
   "source": []
  },
  {
   "cell_type": "code",
   "execution_count": null,
   "id": "f4d6651f-2645-40d4-b387-bca972ec9aba",
   "metadata": {},
   "outputs": [],
   "source": []
  }
 ],
 "metadata": {
  "kernelspec": {
   "display_name": "Python 3 (ipykernel)",
   "language": "python",
   "name": "python3"
  },
  "language_info": {
   "codemirror_mode": {
    "name": "ipython",
    "version": 3
   },
   "file_extension": ".py",
   "mimetype": "text/x-python",
   "name": "python",
   "nbconvert_exporter": "python",
   "pygments_lexer": "ipython3",
   "version": "3.9.21"
  }
 },
 "nbformat": 4,
 "nbformat_minor": 5
}
