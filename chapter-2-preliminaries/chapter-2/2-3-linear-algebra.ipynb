{
 "cells": [
  {
   "cell_type": "markdown",
   "id": "54261793-4679-4115-881f-c453c036b9b4",
   "metadata": {},
   "source": [
    "# Linear Algebra"
   ]
  },
  {
   "cell_type": "code",
   "execution_count": 1,
   "id": "9060901e-97f0-45fd-9396-16076804978c",
   "metadata": {},
   "outputs": [],
   "source": [
    "import torch"
   ]
  },
  {
   "cell_type": "markdown",
   "id": "c67367d6-5543-4e34-a4b2-4142bfd982a9",
   "metadata": {},
   "source": [
    "## Scalars\n",
    "\n",
    "Scalars are denoted by lower case letters, e.g. x, y and z. Scalars are implemented in ML as tensors with a single element."
   ]
  },
  {
   "cell_type": "code",
   "execution_count": 3,
   "id": "bb450072-bbe8-4b2f-8421-e09e2c3834b4",
   "metadata": {},
   "outputs": [
    {
     "data": {
      "text/plain": [
       "(tensor(5.), tensor(1.), tensor(6.), tensor(1.5000), tensor(9.))"
      ]
     },
     "execution_count": 3,
     "metadata": {},
     "output_type": "execute_result"
    }
   ],
   "source": [
    "x = torch.tensor(3.0)\n",
    "y = torch.tensor(2.0)\n",
    "\n",
    "x + y, x - y, x * y, x / y, x ** y"
   ]
  },
  {
   "cell_type": "markdown",
   "id": "a04f8450-9179-42d3-bdf6-4f1185a5519e",
   "metadata": {},
   "source": [
    "## Vectors\n",
    "\n",
    "Vectors are one-dimensional arrays of scalars, usually of fixed length. They are denoted by bold, lowercase letters **x**, **y**, **z**. When training a model, these vectors may have real-world significance, for example if predicting the likelihood of an individual defaulting on a loan, we may have vector *elements* which correspond to their income, length of employment, number of previous defaults, etc. \n",
    "\n",
    "One thing to note is that while in python, vector/tensor indexing begins at zero, in linear algebra, indexing begins at one."
   ]
  },
  {
   "cell_type": "code",
   "execution_count": 5,
   "id": "1259e2bc-9fbe-42b8-93e2-8ee7f0b7ae06",
   "metadata": {},
   "outputs": [
    {
     "data": {
      "text/plain": [
       "tensor([0, 1, 2])"
      ]
     },
     "execution_count": 5,
     "metadata": {},
     "output_type": "execute_result"
    }
   ],
   "source": [
    "x = torch.arange(3)\n",
    "x"
   ]
  },
  {
   "cell_type": "markdown",
   "id": "8b51bde2-0045-4a19-b80b-e8f9e6850230",
   "metadata": {},
   "source": [
    "We refer to the individual elements of a tensor using subscript, for example the 2nd element of the tensor **x** would be $x_2$, note that we do not bold the indexed element of the tensor as this is a scalar value. By default, the values of a vector are written in column format.\n",
    "\n",
    "$x = \\begin{bmatrix} 0 , 1 , 2 , \\vdots , n \\end{bmatrix}$\n",
    "\n",
    "Here, the values $x_1, x_2, x_3$ are the elements of the vector. Later we will distinguish between column and row vectors (whose elements are stacked horizontally)\n",
    "\n",
    "To indicate that a vector $\\mathbf{x}$ contains $n$ elements, we write $\\mathbf{x} \\in \\mathbb{R}^{n}$. Formally, we call $n$ the _dimensionality_ of the vector. "
   ]
  },
  {
   "cell_type": "code",
   "execution_count": 6,
   "id": "87ba635a-3b64-427d-8c64-14b5905eeb87",
   "metadata": {},
   "outputs": [
    {
     "data": {
      "text/plain": [
       "3"
      ]
     },
     "execution_count": 6,
     "metadata": {},
     "output_type": "execute_result"
    }
   ],
   "source": [
    "# The dimensionality of a vector can be accessed via the python len() function\n",
    "\n",
    "len(x)"
   ]
  },
  {
   "cell_type": "markdown",
   "id": "8766d94f-1d97-4b79-9e24-55b275bc2d7a",
   "metadata": {},
   "source": [
    "Oftentimes, the word dimension gets overloaded to refer to both the number of elements in a vector and the number of \"axes\". In this book, order refers to the number of \"axes\" and dimensionality is used exclusively to refer to the numnber of elements of a vector."
   ]
  },
  {
   "cell_type": "markdown",
   "id": "069092c7-dbee-4734-988a-0d046022eefa",
   "metadata": {},
   "source": [
    "## Matrices\n",
    "\n",
    "Just as scalars are 0-dimensional tensors and vectors are 1-dimensional tensors, matrices are 2-dimensional tensors. Matrices are denoted in this text as bold, capital letters, e.g. $\\mathbf{X, Y, Z}$. The expression $\\mathbf{A} \\in \\mathbb{R}^{m \\times n}$ indicates that a matrix $\\mathbf{A}$ is composed of $n \\times m$ real numbers, with $m$ rows and $n$ columns. If $m=n$ the matrix is square. The text $a_{ij}$ indexes an individual element in the matrix in the $i$th row and the $j$th column."
   ]
  },
  {
   "cell_type": "code",
   "execution_count": 10,
   "id": "35d2bec4-72e4-4a32-b16a-a413cff9f7c5",
   "metadata": {},
   "outputs": [
    {
     "data": {
      "text/plain": [
       "tensor([[0, 1],\n",
       "        [2, 3],\n",
       "        [4, 5]])"
      ]
     },
     "execution_count": 10,
     "metadata": {},
     "output_type": "execute_result"
    }
   ],
   "source": [
    "# We can convert any appropriately sized tensor into an m x n matrix by using reshape\n",
    "\n",
    "A = torch.arange(6).reshape(3, 2)\n",
    "A"
   ]
  },
  {
   "cell_type": "markdown",
   "id": "6c710ef3-2ad3-43f8-ad9b-882968b9095c",
   "metadata": {},
   "source": [
    "Sometimes we want to flip the axes, when we exchange the rows and columns of a matrix this is known as the transpose, and is written $\\mathbf{A}^{\\intercal}$. If $B = A^{\\intercal}$ then $a_{ij} = b_{ji}$ for all $i$ and $j$. The transpose of an $m \\times n$ matrix is an $n \\times m$ matrix."
   ]
  },
  {
   "cell_type": "code",
   "execution_count": 11,
   "id": "96dfe476-e453-4f57-93ac-73212872a525",
   "metadata": {},
   "outputs": [
    {
     "data": {
      "text/plain": [
       "tensor([[0, 2, 4],\n",
       "        [1, 3, 5]])"
      ]
     },
     "execution_count": 11,
     "metadata": {},
     "output_type": "execute_result"
    }
   ],
   "source": [
    "# In code, we represent a matrix's transpose as\n",
    "A.T"
   ]
  },
  {
   "cell_type": "markdown",
   "id": "5f9a6857-49fb-4e72-b532-966f06013c55",
   "metadata": {},
   "source": [
    "Symmetric matrices are a subset of matrices that are equal to their own transpose"
   ]
  },
  {
   "cell_type": "code",
   "execution_count": 16,
   "id": "7f88cc87-ffa9-4bf2-b68e-42c9d2bc2e8b",
   "metadata": {},
   "outputs": [
    {
     "data": {
      "text/plain": [
       "tensor([[True, True, True],\n",
       "        [True, True, True],\n",
       "        [True, True, True]])"
      ]
     },
     "execution_count": 16,
     "metadata": {},
     "output_type": "execute_result"
    }
   ],
   "source": [
    "A = torch.tensor([[1, 2, 3], [2, 0, 4], [3, 4, 5]])\n",
    "A == A.T"
   ]
  },
  {
   "cell_type": "markdown",
   "id": "9fe563fc-a226-4ed0-a2aa-0623a43cafa8",
   "metadata": {},
   "source": [
    "Matrices are useful for representing datasets, by convention, rows indicate different entities/records while columns refer to distinct attributes."
   ]
  },
  {
   "cell_type": "markdown",
   "id": "1e4f0b73-4fb4-4f49-baff-08fe8c73976f",
   "metadata": {},
   "source": [
    "## Tensors\n",
    "\n",
    "Tensors extend the principles of the above methods to arbitrary numbers of axes. They are written in a special uppercase font in the book using \\mathsf e.g. $\\mathsf{X}$. Their indexing mechanisms, e.g. $x_{i, j,k}$ and $[\\mathsf{X}]_{1,2i-1,3}]$ follows from that of matrices.\n",
    "\n",
    "Tensors are particularly important when working with images, each image is typically a 3rd order tensor with axes corresponding to height, width and channel, where channel would refer to the values for each colour of a pixel, e.g. RGB. Furthermore, a _collection_ of images is represented by a 4th order tensor, where distinct images are indexed along the first axis. \n",
    "\n",
    "\n"
   ]
  },
  {
   "cell_type": "code",
   "execution_count": 17,
   "id": "077bd081-6cf9-4a0b-9800-9d8fcf7cf997",
   "metadata": {},
   "outputs": [
    {
     "data": {
      "text/plain": [
       "tensor([[[ 0,  1,  2,  3],\n",
       "         [ 4,  5,  6,  7],\n",
       "         [ 8,  9, 10, 11]],\n",
       "\n",
       "        [[12, 13, 14, 15],\n",
       "         [16, 17, 18, 19],\n",
       "         [20, 21, 22, 23]]])"
      ]
     },
     "execution_count": 17,
     "metadata": {},
     "output_type": "execute_result"
    }
   ],
   "source": [
    "# Making a tensor\n",
    "\n",
    "torch.arange(24).reshape((2, 3, 4))"
   ]
  },
  {
   "cell_type": "code",
   "execution_count": 21,
   "id": "ffa506d5-dda7-474f-94f7-56f8ec986928",
   "metadata": {},
   "outputs": [
    {
     "data": {
      "text/plain": [
       "(torch.Size([2, 3, 4]), torch.Size([2, 3, 4]))"
      ]
     },
     "execution_count": 21,
     "metadata": {},
     "output_type": "execute_result"
    }
   ],
   "source": [
    "# As might be expected, element-wise operations on tensors give results that have the same number of elements as the original\n",
    "\n",
    "A = torch.arange(24).reshape((2, 3, 4))\n",
    "B = A.clone()\n",
    "\n",
    "A.shape, (A+B).shape"
   ]
  },
  {
   "attachments": {
    "0be0f472-1922-43a7-9f74-9d289aedf6f0.png": {
     "image/png": "[encoded data removed]"
    }
   },
   "cell_type": "markdown",
   "id": "253e5a1b-33ca-4b8f-9df9-9a1982d4f60b",
   "metadata": {},
   "source": [
    "The element-wise product of two tensors is known as the Hadamard product, and is denoted with a symbol of a dot in a circle: $\\odot$. The Hadamard product for two matrices $\\mathbf{A}, \\mathbf{B} \\in \\mathbb{R} ^ {m \\times n}$: \n",
    "\n",
    "![Screenshot 2025-02-08 at 08.28.32.png](attachment:0be0f472-1922-43a7-9f74-9d289aedf6f0.png)"
   ]
  },
  {
   "cell_type": "code",
   "execution_count": 24,
   "id": "9c0ccd54-5f20-46c7-a5eb-cc22b5d8d7cd",
   "metadata": {},
   "outputs": [
    {
     "name": "stdout",
     "output_type": "stream",
     "text": [
      "tensor([[[  0,   1,   4,   9],\n",
      "         [ 16,  25,  36,  49],\n",
      "         [ 64,  81, 100, 121]],\n",
      "\n",
      "        [[144, 169, 196, 225],\n",
      "         [256, 289, 324, 361],\n",
      "         [400, 441, 484, 529]]])\n",
      "torch.Size([2, 3, 4])\n",
      "torch.Size([2, 3, 4])\n"
     ]
    }
   ],
   "source": [
    "# In code, this would be...\n",
    "\n",
    "print(A * B)\n",
    "\n",
    "# Adding or multiplying a scalar into a tensor also produces a result with the same shape as the original tensor.\n",
    "\n",
    "print((5 * A).shape)\n",
    "\n",
    "print((A + 5).shape)"
   ]
  },
  {
   "cell_type": "markdown",
   "id": "17cfb464-6fe3-448b-933c-ab34120a1cdf",
   "metadata": {},
   "source": [
    "## Reduction"
   ]
  },
  {
   "cell_type": "markdown",
   "id": "fbca7af9-2342-438d-8e8b-1e01618802bb",
   "metadata": {},
   "source": [
    "We often wish to sum over all the elements of a tensor, we would sum over the elements of a vector $\\mathrm{x}$ by writing $\\sum^{n}_{i=1}x_i$. For the elements of an $m \\times n$ matrix, we would write $\\sum^m_{i=1}\\sum^n_{j=1}x_{i, j}$. "
   ]
  },
  {
   "cell_type": "code",
   "execution_count": 35,
   "id": "dd8d07be-7b89-46bc-87f1-ec78c0e524e5",
   "metadata": {},
   "outputs": [
    {
     "name": "stdout",
     "output_type": "stream",
     "text": [
      "tensor([[0., 1., 2.],\n",
      "        [3., 4., 5.]])\n",
      "\n",
      "tensor(15.)\n",
      "\n",
      "Summing along axis=0 sums along the rows (i.e. down a column), producing a vector\n",
      "tensor([3., 5., 7.])\n",
      "\n",
      "Summing along axis=1 sums along the columns (i.e. down a row), producing a vector\n",
      "tensor([ 3., 12.])\n",
      "\n",
      "Reducing a matrix along both columns and rows is equivalent to just taking the sum.\n",
      "tensor(True)\n"
     ]
    }
   ],
   "source": [
    "A = torch.arange(6, dtype=torch.float32).reshape(2, 3)\n",
    "\n",
    "print(A)\n",
    "print()\n",
    "\n",
    "# In python, we can simply write these sums with the .sum() method.\n",
    "\n",
    "print(A.sum())\n",
    "print()\n",
    "\n",
    "# By default, this reduces all axes of the tensor, producing a scalar value. If, instead, we wish to sum _along_ some direction, we can specify an axis. \n",
    "# For example, to sum along the rows, we pass in axis = 0, as the rows (m) are axis 0. \n",
    "\n",
    "print(\"Summing along axis=0 sums along the rows (i.e. down a column), producing a vector\")\n",
    "print(A.sum(axis=0))\n",
    "print()\n",
    "\n",
    "# Specifying axis=1 sums along all the column dimensions\n",
    "\n",
    "print(\"Summing along axis=1 sums along the columns (i.e. down a row), producing a vector\")\n",
    "print(A.sum(axis=1))\n",
    "print()\n",
    "\n",
    "print(\"Reducing a matrix along both columns and rows is equivalent to just taking the sum.\")\n",
    "print(A.sum(axis=[0, 1]) == A.sum())"
   ]
  },
  {
   "cell_type": "markdown",
   "id": "679aea4a-62ea-4c0e-a322-acf559aa9862",
   "metadata": {},
   "source": [
    "A related common operation is the mean, which is so common it gets its own operation"
   ]
  },
  {
   "cell_type": "code",
   "execution_count": 36,
   "id": "bb3b8253-e01b-4e92-8790-62fa0802e6a9",
   "metadata": {},
   "outputs": [
    {
     "data": {
      "text/plain": [
       "(tensor(2.5000), tensor(2.5000))"
      ]
     },
     "execution_count": 36,
     "metadata": {},
     "output_type": "execute_result"
    }
   ],
   "source": [
    "A.mean(), A.sum()/A.numel()"
   ]
  },
  {
   "cell_type": "code",
   "execution_count": 42,
   "id": "2cf7e06d-0cc0-485b-9196-f7a922acbe04",
   "metadata": {},
   "outputs": [
    {
     "name": "stdout",
     "output_type": "stream",
     "text": [
      "tensor([1.5000, 2.5000, 3.5000])\n",
      "tensor([1., 4.])\n"
     ]
    }
   ],
   "source": [
    "# Likewise, the function for calculating the mean can also reduce a matrix along a given axis (axis=0 takes the mean on the rows, axis=1 takes the mean along the columns).\n",
    "\n",
    "print(A.mean(axis=0)) # 1.5, 2.5, 3.5\n",
    "print(A.mean(axis=1)) # 1., 4"
   ]
  },
  {
   "cell_type": "markdown",
   "id": "babbddcd-7174-442a-b3f4-bd8d74373dee",
   "metadata": {},
   "source": [
    "## Non-reduction Sum\n",
    "\n",
    "In the sum example above, both results have the same dimensions despite being the result of summations along different axes. If we wish to keep the dimensions the same (for example for broadcasting) we can use the a`keepdims` parameter"
   ]
  },
  {
   "cell_type": "code",
   "execution_count": 51,
   "id": "a2ccdac4-cd0f-423f-91b0-a4ee332d8a98",
   "metadata": {},
   "outputs": [
    {
     "name": "stdout",
     "output_type": "stream",
     "text": [
      "A: \n",
      "tensor([[0., 1., 2.],\n",
      "        [3., 4., 5.]])\n",
      "\n",
      "Keep Dim Sum: \n",
      "tensor([[ 3.],\n",
      "        [12.]])\n",
      "\n",
      "Normal Sum: \n",
      "tensor([ 3., 12.]) \n",
      "\n"
     ]
    }
   ],
   "source": [
    "print(f\"A: \\n{A}\\n\") \n",
    "sum_A = A.sum(axis=1, keepdims=True)\n",
    "print(f\"Keep Dim Sum: \\n{sum_A}\\n\")\n",
    "print(f\"Normal Sum: \\n{A.sum(axis=1)} \\n\")"
   ]
  },
  {
   "cell_type": "code",
   "execution_count": 54,
   "id": "972302f3-9f0e-40a8-b730-b6b5afb8c039",
   "metadata": {},
   "outputs": [
    {
     "name": "stdout",
     "output_type": "stream",
     "text": [
      "tensor([[0.0000, 0.3333, 0.6667],\n",
      "        [0.2500, 0.3333, 0.4167]])\n"
     ]
    }
   ],
   "source": [
    "# keeping the dimensionality is useful, for example, we can divide the original matrix A by sum_A, which is summed along axis 1 \n",
    "# (i.e. summed along rows to produce a column vector) to produce a matrix where the sum along a row is equal to 1.\n",
    "\n",
    "print(A / sum_A)"
   ]
  },
  {
   "cell_type": "code",
   "execution_count": 57,
   "id": "fdfa0d35-808e-4dd4-8135-0481224b7728",
   "metadata": {},
   "outputs": [
    {
     "name": "stdout",
     "output_type": "stream",
     "text": [
      "tensor([[ 0.,  1.,  3.],\n",
      "        [ 3.,  7., 12.]])\n"
     ]
    }
   ],
   "source": [
    "# If we want to compute the cumulative sum along a particular axis, we can use the cumsum method. \n",
    "\n",
    "print(A.cumsum(axis=1))"
   ]
  },
  {
   "cell_type": "markdown",
   "id": "8a80b42a-58f7-41dc-8a70-92aa38b73d4b",
   "metadata": {},
   "source": [
    "## Dot Products\n",
    "\n",
    "The dot product of two vectors $\\mathbf{x}, \\mathbf{y} \\in \\mathbb{R}^{d}$, written as $\\mathbf{x}^{\\intercal}\\mathbf{y}$ or $\\langle \\mathbf{x}, \\mathbf{y} \\rangle$ is the sum of the product of the elements at the same position: $\\sum_{i=1}^{d}x_iy_i$.\n",
    "\n",
    "Dot products are useful for a number of reasons\n",
    "- For example, given a vector of values $\\mathbf{x} \\in \\mathbb{R}^{n}$ and a vector of weights $\\mathbf{w} \\in \\mathbb{R}^{n}$, the weighted sum of the values in $\\mathbf{x}$ would be given by $\\mathbf{w}^{\\intercal}\\mathbf{x}$, or the dot product of $\\mathbf{w}$ with $\\mathbf{x}$ (or $\\langle \\mathbf{w}, \\mathbf{x} \\rangle$.\n",
    "- If the weights are nonnegative and sum to 1, then the dot product above evaluates to a weighted average.\n",
    "- If the lengths of the two vectors are normalised to 1, then the dot product gives the cosine of the angle between them."
   ]
  },
  {
   "cell_type": "code",
   "execution_count": 63,
   "id": "34e793ce-00fa-491e-b797-e1e20c5afa74",
   "metadata": {},
   "outputs": [
    {
     "data": {
      "text/plain": [
       "(tensor([0., 1., 2.]), tensor([1., 1., 1.]), tensor(3.))"
      ]
     },
     "execution_count": 63,
     "metadata": {},
     "output_type": "execute_result"
    }
   ],
   "source": [
    "x = torch.arange(3, dtype=torch.float32)\n",
    "y = torch.ones(3, dtype=torch.float32)\n",
    "x, y, torch.dot(x, y)\n",
    "\n",
    "# from: 0*1 + 1*1 + 2*1)"
   ]
  },
  {
   "cell_type": "code",
   "execution_count": 65,
   "id": "1359a72f-919b-441f-abd6-202a557442d5",
   "metadata": {},
   "outputs": [
    {
     "data": {
      "text/plain": [
       "tensor(3.)"
      ]
     },
     "execution_count": 65,
     "metadata": {},
     "output_type": "execute_result"
    }
   ],
   "source": [
    "# This is equivalent to an element-wise product followed by a sum\n",
    "\n",
    "sum(x * y)"
   ]
  },
  {
   "cell_type": "markdown",
   "id": "303b9ad0-3cbe-474f-bdb1-592ac210b5dd",
   "metadata": {},
   "source": [
    "##  Matrix-Vector Products\n",
    "\n",
    "Now that we understand the dot product, we can begin to understand the product between an $m \\times n$ matrix $\\mathbf{A}$ and an n-dimensional vector $\\mathbf{x}$. \n",
    "\n",
    "We can think of the matrix $\\mathbf{A}$ as a column vector composed of row vectors:\n",
    "\n",
    "$\\mathbf{A} = \\begin{bmatrix} \\mathbf{a}^{\\intercal}_{1} \\, \\mathbf{a}^{\\intercal}_{2} \\, \\mathbf{a}^{\\intercal}_{3} \\, \\vdots \\, \\mathbf{a}^{\\intercal}_{m}  \\end{bmatrix}$\n",
    "\n",
    "where each $\\mathbf{a}^{\\intercal}_{i} \\in \\mathbb{R}^n$ is a row vector representing the $i$th row of $\\mathbf{A}$.\n",
    "\n",
    "The matrix-vector product $\\mathbf{Ax}$ is simply a column vector with $m$ rows (the number of rows in the original matrix), where each element is the dot product between that row and the vector $\\mathbf{x}$. I.e. $\\mathbf{a}^{\\intercal}_{i}\\mathbf{x}$:\n",
    "\n",
    "$\\mathbf{Ax} = \\begin{bmatrix} \\mathbf{a}^{\\intercal}_{1} \\, \\mathbf{a}^{\\intercal}_{2} \\, \\mathbf{a}^{\\intercal}_{3} \\, \\vdots \\, \\mathbf{a}^{\\intercal}_{m}  \\end{bmatrix} \\mathbf{x} =  \\begin{bmatrix} \\mathbf{a}^{\\intercal}_{1}\\mathbf{x} \\, \\mathbf{a}^{\\intercal}_{1}\\mathbf{x} \\, \\mathbf{a}^{\\intercal}_{3}\\mathbf{x} \\, \\vdots \\, \\mathbf{a}^{\\intercal}_{m}\\mathbf{x} \\end{bmatrix}$\n",
    "\n",
    "... so a column vector of all scalar values.\n",
    "\n",
    "We can think of multiplication by a matrix $\\mathbf{A} \\in \\mathbb{R} ^ {m\\times n}$ as projecting the vector $\\mathbf{x}$ from $n$ to $m$ dimensions. Which can be remarkably useful, for example, rotations can be represented by certain square matrices (i guess we could imagine projecting a 2d vector up into a 3d space, maybe this is worth coding to see). \n",
    "\n",
    "Matrix-vector products also describe the key calculation step in predicting the output of each a layer of a neural network given the outputs from the prevous layer. "
   ]
  },
  {
   "cell_type": "code",
   "execution_count": 69,
   "id": "60da3866-0d6d-4f29-8e23-0dd3730afb36",
   "metadata": {},
   "outputs": [
    {
     "name": "stdout",
     "output_type": "stream",
     "text": [
      "torch.Size([2, 3]) torch.Size([3]) tensor([ 5., 14.]) tensor([ 5., 14.])\n",
      "tensor([[0., 1., 2.],\n",
      "        [3., 4., 5.]]) * tensor([0., 1., 2.]) = tensor([ 5., 14.])\n"
     ]
    }
   ],
   "source": [
    "# To express it in code, we use the mv function, python also includes an @ convenience funtion which will do either the matrix-vecotr product or matrix-matrix multiplication depending on the context. \n",
    "\n",
    "print(A.shape, x.shape, torch.mv(A, x), A@x)\n",
    "\n",
    "print(f\"{A} * {x} = {A@x}\")"
   ]
  },
  {
   "cell_type": "markdown",
   "id": "316c9396-677a-457a-a766-9a65798ae4f3",
   "metadata": {},
   "source": [
    "## Matrix-Matrix Multiplication\n",
    "\n",
    "Matrix multiplication is now reasonably straightforward to understand, it is much like the matrix-vector product, but we instead create new columns in the resultant matrix for every column in the matrix on the right hand side of the multiplication.\n",
    "\n",
    "Assume we have two matrices $\\mathbf{A} \\in \\mathbb{R}^{n \\times k}$ and $\\mathbf{A} \\in \\mathbb{R}^{k \\times m}$. We can think of $\\mathbf{A}$ as being composed of its row vectors $\\mathbf{a}^\\intercal_{i}$ as before, and $\\mathbf{B}$ as being composed of its column vectors $\\mathbf{b}_j$. The first column of the resultant matrix $\\mathbf{C}$ is much like the matrix-vector product, that is, the dot product of $\\mathbf{A}_i$ and $\\mathbf{b}_1$ for all $i$ rows of the matrix $\\mathbf{A}$, but now we add new columns for multiplying in $\\mathbf{b}_2$ through $m$. In the end:\n",
    "\n",
    "$\\mathbf{C} = \n",
    "\\begin{bmatrix}  \n",
    "    \\mathbf{a}^{\\intercal}_1 \\mathbf{b}_1,  \\mathbf{a}^{\\intercal}_1 \\mathbf{b}_2,  \\mathbf{a}^{\\intercal}_1 \\mathbf{b}_1,  \\dots,  \\mathbf{a}^{\\intercal}_1 \\mathbf{b}_m \\\\\\\n",
    "    \\mathbf{a}^{\\intercal}_2 \\mathbf{b}_1,  \\mathbf{a}^{\\intercal}_2 \\mathbf{b}_1,  \\mathbf{a}^{\\intercal}_2 \\mathbf{b}_2 , \\dots , \\mathbf{a}^{\\intercal}_2 \\mathbf{b}_m \\\\\\\n",
    "    \\vdots , \\vdots , \\vdots , \\vdots, \\vdots\\\\\\\n",
    "    \\mathbf{a}^{\\intercal}_n \\mathbf{b}_1 , \\mathbf{a}^{\\intercal}_n \\mathbf{b}_1 , \\mathbf{a}^{\\intercal}_n \\mathbf{b}_2 , \\dots , \\mathbf{a}^{\\intercal}_n \\mathbf{b}_m \\\\\\\n",
    "\\end{bmatrix}$"
   ]
  },
  {
   "cell_type": "code",
   "execution_count": 71,
   "id": "e313bd8a-5971-498e-84bc-da7341679802",
   "metadata": {},
   "outputs": [
    {
     "data": {
      "text/plain": [
       "(tensor([[ 3.,  3.,  3.,  3.],\n",
       "         [12., 12., 12., 12.]]),\n",
       " tensor([[ 3.,  3.,  3.,  3.],\n",
       "         [12., 12., 12., 12.]]))"
      ]
     },
     "execution_count": 71,
     "metadata": {},
     "output_type": "execute_result"
    }
   ],
   "source": [
    "# In code...\n",
    "\n",
    "B = torch.ones(3, 4)\n",
    "\n",
    "torch.mm(A, B), A@B"
   ]
  },
  {
   "cell_type": "markdown",
   "id": "1d11f9c8-fec5-4c17-b473-85eaa110a62a",
   "metadata": {},
   "source": [
    "## Norms"
   ]
  },
  {
   "cell_type": "code",
   "execution_count": null,
   "id": "8f1651b7-692c-42dd-a2db-f28d355417dd",
   "metadata": {},
   "outputs": [],
   "source": []
  },
  {
   "cell_type": "code",
   "execution_count": null,
   "id": "8369d238-b85c-413e-afd8-c4f7bf306f50",
   "metadata": {},
   "outputs": [],
   "source": []
  },
  {
   "cell_type": "code",
   "execution_count": null,
   "id": "0b781712-4b7b-4f3c-8f9e-e969380a1180",
   "metadata": {},
   "outputs": [],
   "source": []
  },
  {
   "cell_type": "code",
   "execution_count": null,
   "id": "bca4697a-4994-4ae9-913c-b347fe3cc045",
   "metadata": {},
   "outputs": [],
   "source": []
  },
  {
   "cell_type": "code",
   "execution_count": null,
   "id": "65f81d2c-a9e5-4210-9c8a-23055722549c",
   "metadata": {},
   "outputs": [],
   "source": []
  },
  {
   "cell_type": "code",
   "execution_count": null,
   "id": "3a8e2654-0b63-45ba-bdf7-2a69e0e93618",
   "metadata": {},
   "outputs": [],
   "source": []
  },
  {
   "cell_type": "code",
   "execution_count": null,
   "id": "29147024-83ee-43fd-bc69-47b936dee58d",
   "metadata": {},
   "outputs": [],
   "source": []
  },
  {
   "cell_type": "code",
   "execution_count": null,
   "id": "1c805d19-5cd8-40e2-8e4e-9e2295526a01",
   "metadata": {},
   "outputs": [],
   "source": []
  },
  {
   "cell_type": "code",
   "execution_count": null,
   "id": "f2966a57-731d-48bf-ad89-f54f4b6d0727",
   "metadata": {},
   "outputs": [],
   "source": []
  },
  {
   "cell_type": "code",
   "execution_count": null,
   "id": "8999aa21-aa00-4ea3-a9c8-82b96d83627b",
   "metadata": {},
   "outputs": [],
   "source": []
  },
  {
   "cell_type": "code",
   "execution_count": null,
   "id": "e5fe168f-d66e-41a5-9b90-f186e65ccaff",
   "metadata": {},
   "outputs": [],
   "source": []
  },
  {
   "cell_type": "code",
   "execution_count": null,
   "id": "48827011-99d2-4870-9fae-b6e073ce8865",
   "metadata": {},
   "outputs": [],
   "source": []
  },
  {
   "cell_type": "code",
   "execution_count": null,
   "id": "41079a1d-85ae-4302-8a93-9a6d5ad4e8f9",
   "metadata": {},
   "outputs": [],
   "source": []
  },
  {
   "cell_type": "code",
   "execution_count": null,
   "id": "2fb9622e-add4-4dd0-b2a7-8645b7295244",
   "metadata": {},
   "outputs": [],
   "source": []
  },
  {
   "cell_type": "code",
   "execution_count": null,
   "id": "a2012b39-8e3f-411f-b66f-a9bb5930e1db",
   "metadata": {},
   "outputs": [],
   "source": []
  },
  {
   "cell_type": "code",
   "execution_count": null,
   "id": "d89857d1-8cf4-4db0-8ff0-0447ac599fc6",
   "metadata": {},
   "outputs": [],
   "source": []
  },
  {
   "cell_type": "code",
   "execution_count": null,
   "id": "03392b7b-84e1-41df-b972-2dffdb1a8a5e",
   "metadata": {},
   "outputs": [],
   "source": []
  },
  {
   "cell_type": "code",
   "execution_count": null,
   "id": "670beeaf-ab7f-469f-810b-7bfbb1ebbebe",
   "metadata": {},
   "outputs": [],
   "source": []
  },
  {
   "cell_type": "code",
   "execution_count": null,
   "id": "11c58683-a039-4253-b8ba-80d3df75330d",
   "metadata": {},
   "outputs": [],
   "source": []
  },
  {
   "cell_type": "code",
   "execution_count": null,
   "id": "5c7ecf08-1d86-45f2-86b5-e78e46eaf4ab",
   "metadata": {},
   "outputs": [],
   "source": []
  },
  {
   "cell_type": "code",
   "execution_count": null,
   "id": "8733024f-08cc-49ef-a283-00692a376b18",
   "metadata": {},
   "outputs": [],
   "source": []
  },
  {
   "cell_type": "code",
   "execution_count": null,
   "id": "17f73a11-c05d-4664-bd8f-3641942ebd2c",
   "metadata": {},
   "outputs": [],
   "source": []
  },
  {
   "cell_type": "code",
   "execution_count": null,
   "id": "3d214a4b-b3a1-4a60-92da-e7479183a0f0",
   "metadata": {},
   "outputs": [],
   "source": []
  }
 ],
 "metadata": {
  "kernelspec": {
   "display_name": "Python 3 (ipykernel)",
   "language": "python",
   "name": "python3"
  },
  "language_info": {
   "codemirror_mode": {
    "name": "ipython",
    "version": 3
   },
   "file_extension": ".py",
   "mimetype": "text/x-python",
   "name": "python",
   "nbconvert_exporter": "python",
   "pygments_lexer": "ipython3",
   "version": "3.9.21"
  }
 },
 "nbformat": 4,
 "nbformat_minor": 5
}
