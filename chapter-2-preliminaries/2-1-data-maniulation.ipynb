{
 "cells": [
  {
   "cell_type": "code",
   "execution_count": 1,
   "id": "3d3adfda-f31e-4669-81e9-c6b55a12161b",
   "metadata": {},
   "outputs": [],
   "source": [
    "import torch"
   ]
  },
  {
   "cell_type": "markdown",
   "id": "934dc125-67a0-4543-8505-d8f71d979ddd",
   "metadata": {},
   "source": [
    "## Fundamentals"
   ]
  },
  {
   "cell_type": "code",
   "execution_count": 2,
   "id": "0ebece86-1355-4f4e-b5ff-23245f4a9943",
   "metadata": {},
   "outputs": [
    {
     "data": {
      "text/plain": [
       "tensor([ 0.,  1.,  2.,  3.,  4.,  5.,  6.,  7.,  8.,  9., 10., 11.])"
      ]
     },
     "execution_count": 2,
     "metadata": {},
     "output_type": "execute_result"
    }
   ],
   "source": [
    "x = torch.arange(12, dtype=torch.float32)\n",
    "x"
   ]
  },
  {
   "cell_type": "markdown",
   "id": "0c7f716c-8a61-4ef1-9e48-9db8624be687",
   "metadata": {},
   "source": [
    "Each value in the tensor is called an element, we can check the number of elements, this tensor contains 12 elements."
   ]
  },
  {
   "cell_type": "code",
   "execution_count": 3,
   "id": "1e8b7ba9-83ec-4a68-a0be-58144f3b3515",
   "metadata": {},
   "outputs": [
    {
     "data": {
      "text/plain": [
       "12"
      ]
     },
     "execution_count": 3,
     "metadata": {},
     "output_type": "execute_result"
    }
   ],
   "source": [
    "x.numel()"
   ]
  },
  {
   "cell_type": "markdown",
   "id": "dfb4a191-af97-4e5e-b6ea-df815078cb1a",
   "metadata": {},
   "source": [
    "We can check the tensor's shape using x.shape, because this is a one-dimensional tensor (a vector) the shape is a scalar equivalent to its size"
   ]
  },
  {
   "cell_type": "code",
   "execution_count": 4,
   "id": "08cc555f-f211-4532-84f6-9330620edcd3",
   "metadata": {},
   "outputs": [
    {
     "data": {
      "text/plain": [
       "torch.Size([12])"
      ]
     },
     "execution_count": 4,
     "metadata": {},
     "output_type": "execute_result"
    }
   ],
   "source": [
    "x.shape"
   ]
  },
  {
   "cell_type": "markdown",
   "id": "b642adda-87d3-4dab-b10b-cfa24f2c0a59",
   "metadata": {},
   "source": [
    "We can change the shape of the tensor by invoking tensor.resize. Note that the elements are laid out in the tensor one row at a time...\n",
    "\n",
    "The first element in the reshape matrix is the number of rows, the second is the number of columns."
   ]
  },
  {
   "cell_type": "code",
   "execution_count": 5,
   "id": "573eb737-ec8f-4a23-9ab5-04a4d39c98a4",
   "metadata": {},
   "outputs": [
    {
     "data": {
      "text/plain": [
       "tensor([[ 0.,  1.,  2.,  3.],\n",
       "        [ 4.,  5.,  6.,  7.],\n",
       "        [ 8.,  9., 10., 11.]])"
      ]
     },
     "execution_count": 5,
     "metadata": {},
     "output_type": "execute_result"
    }
   ],
   "source": [
    "x.reshape([3, 4])"
   ]
  },
  {
   "cell_type": "markdown",
   "id": "fc05654b-1b09-47e8-abce-26848acabbc3",
   "metadata": {},
   "source": [
    "Because we already know the size of the tensor, we need not specify all elements of the size each time. If we have a tensor with n elements, we know that if we specify want a target shape (h, w) and specify a height h, the width must be n/w. In such cases we can specify -1, and the dimension will be automatically inferred. \n"
   ]
  },
  {
   "cell_type": "code",
   "execution_count": 6,
   "id": "19b44d4c-3d86-4104-9531-d26264d0fbad",
   "metadata": {},
   "outputs": [
    {
     "data": {
      "text/plain": [
       "tensor([[ 0.,  1.,  2.,  3.],\n",
       "        [ 4.,  5.,  6.,  7.],\n",
       "        [ 8.,  9., 10., 11.]])"
      ]
     },
     "execution_count": 6,
     "metadata": {},
     "output_type": "execute_result"
    }
   ],
   "source": [
    "X = x.reshape([3, -1])\n",
    "X"
   ]
  },
  {
   "cell_type": "markdown",
   "id": "df764448-3b7b-4e4a-a447-57e1b5b1e4bd",
   "metadata": {},
   "source": [
    "Often we have to work with tensors initialised to all zeros or all ones, this can be done with"
   ]
  },
  {
   "cell_type": "code",
   "execution_count": 7,
   "id": "eb16fa5d-16be-4781-9843-6c67f1926244",
   "metadata": {},
   "outputs": [
    {
     "data": {
      "text/plain": [
       "tensor([[[0., 0., 0., 0., 0.],\n",
       "         [0., 0., 0., 0., 0.],\n",
       "         [0., 0., 0., 0., 0.],\n",
       "         [0., 0., 0., 0., 0.]],\n",
       "\n",
       "        [[0., 0., 0., 0., 0.],\n",
       "         [0., 0., 0., 0., 0.],\n",
       "         [0., 0., 0., 0., 0.],\n",
       "         [0., 0., 0., 0., 0.]],\n",
       "\n",
       "        [[0., 0., 0., 0., 0.],\n",
       "         [0., 0., 0., 0., 0.],\n",
       "         [0., 0., 0., 0., 0.],\n",
       "         [0., 0., 0., 0., 0.]]])"
      ]
     },
     "execution_count": 7,
     "metadata": {},
     "output_type": "execute_result"
    }
   ],
   "source": [
    "torch.zeros((3, 4, 5))"
   ]
  },
  {
   "cell_type": "code",
   "execution_count": 8,
   "id": "23cbaa85-80bb-4e3e-8bba-672b773f973e",
   "metadata": {},
   "outputs": [
    {
     "data": {
      "text/plain": [
       "tensor([[[1., 1., 1., 1., 1.],\n",
       "         [1., 1., 1., 1., 1.],\n",
       "         [1., 1., 1., 1., 1.],\n",
       "         [1., 1., 1., 1., 1.]],\n",
       "\n",
       "        [[1., 1., 1., 1., 1.],\n",
       "         [1., 1., 1., 1., 1.],\n",
       "         [1., 1., 1., 1., 1.],\n",
       "         [1., 1., 1., 1., 1.]],\n",
       "\n",
       "        [[1., 1., 1., 1., 1.],\n",
       "         [1., 1., 1., 1., 1.],\n",
       "         [1., 1., 1., 1., 1.],\n",
       "         [1., 1., 1., 1., 1.]]])"
      ]
     },
     "execution_count": 8,
     "metadata": {},
     "output_type": "execute_result"
    }
   ],
   "source": [
    "# or\n",
    "\n",
    "torch.ones((3, 4, 5))"
   ]
  },
  {
   "cell_type": "code",
   "execution_count": 9,
   "id": "1810a74f-9d4a-4125-a712-1dd53b16b2b4",
   "metadata": {},
   "outputs": [
    {
     "data": {
      "text/plain": [
       "tensor([[[ 1.4726,  1.4745, -0.8641, -0.6169,  0.4956],\n",
       "         [-0.4338,  0.0645, -0.2120,  0.7657, -0.9440],\n",
       "         [-1.0031,  0.5411, -0.9688, -1.4313, -0.7929],\n",
       "         [ 0.5104, -0.9611,  0.9381, -1.2286,  1.6332]],\n",
       "\n",
       "        [[ 0.2107,  0.3354,  1.1813,  0.7999,  0.8196],\n",
       "         [-0.3744, -0.3644,  0.6149, -0.7330,  0.9215],\n",
       "         [-0.3507,  0.5770,  0.9074, -0.0858, -0.2050],\n",
       "         [-1.3414, -1.2425, -0.9302,  0.3931, -0.5215]],\n",
       "\n",
       "        [[-0.1440, -1.2337, -1.2541,  1.0042,  0.0727],\n",
       "         [-1.0027,  2.1128, -0.2231,  1.5941, -0.9108],\n",
       "         [-1.5446,  1.3276, -1.0298,  0.1263, -0.2840],\n",
       "         [-1.1713,  0.4048,  0.1794,  0.3975, -1.1816]]])"
      ]
     },
     "execution_count": 9,
     "metadata": {},
     "output_type": "execute_result"
    }
   ],
   "source": [
    "# we often want to sample randomly and independently from a probability distribution function, which can be done with\n",
    "\n",
    "torch.randn((3, 4, 5))"
   ]
  },
  {
   "cell_type": "code",
   "execution_count": 10,
   "id": "f97b35d3-fdae-470b-8712-f2978a03ae81",
   "metadata": {},
   "outputs": [
    {
     "data": {
      "text/plain": [
       "tensor([[1, 2, 3],\n",
       "        [4, 5, 6],\n",
       "        [7, 8, 9]])"
      ]
     },
     "execution_count": 10,
     "metadata": {},
     "output_type": "execute_result"
    }
   ],
   "source": [
    "# We may also want to specify the elements manually, which can be done by providing a list of lists (nested) presumably this can also be done from a text file or numpy.ndarray\n",
    "\n",
    "torch.tensor([[1, 2, 3], [4, 5, 6], [7, 8, 9]])"
   ]
  },
  {
   "cell_type": "markdown",
   "id": "3afce0fa-8c9e-4cda-985b-93a63611eaa7",
   "metadata": {},
   "source": [
    "## Slicing"
   ]
  },
  {
   "cell_type": "markdown",
   "id": "af8c23c6-c81a-4884-a986-bcb11fd2018b",
   "metadata": {},
   "source": [
    "As with python lists, we can access the elements of a tensor by indexing (beginning at zero) and slicing, with X[start:stop] which will return values from start (included) to stop (NOT included)."
   ]
  },
  {
   "cell_type": "code",
   "execution_count": 11,
   "id": "580a0322-df3e-4b88-b36c-3a04094d68ba",
   "metadata": {},
   "outputs": [
    {
     "data": {
      "text/plain": [
       "tensor([[ 0.,  1.,  2.,  3.],\n",
       "        [ 4.,  5.,  6.,  7.],\n",
       "        [ 8.,  9., 10., 11.]])"
      ]
     },
     "execution_count": 11,
     "metadata": {},
     "output_type": "execute_result"
    }
   ],
   "source": [
    "X"
   ]
  },
  {
   "cell_type": "code",
   "execution_count": 12,
   "id": "c7bc79ee-ed57-4092-9971-0e69e849e7ca",
   "metadata": {},
   "outputs": [
    {
     "data": {
      "text/plain": [
       "tensor([0., 1., 2., 3.])"
      ]
     },
     "execution_count": 12,
     "metadata": {},
     "output_type": "execute_result"
    }
   ],
   "source": [
    "X[0]"
   ]
  },
  {
   "cell_type": "code",
   "execution_count": 13,
   "id": "7334d5f7-a1ae-467a-bda4-12c4ce1d9fa0",
   "metadata": {},
   "outputs": [
    {
     "data": {
      "text/plain": [
       "tensor([[ 4.,  5.,  6.,  7.],\n",
       "        [ 8.,  9., 10., 11.]])"
      ]
     },
     "execution_count": 13,
     "metadata": {},
     "output_type": "execute_result"
    }
   ],
   "source": [
    "X[1:4]"
   ]
  },
  {
   "cell_type": "markdown",
   "id": "e5b847ef-7a48-4e01-9e69-0a67b170f3e7",
   "metadata": {},
   "source": [
    "Beyond reading them, we can also write to them"
   ]
  },
  {
   "cell_type": "code",
   "execution_count": 14,
   "id": "82ddd5e2-cbb7-4874-9b3a-003b66b10f75",
   "metadata": {},
   "outputs": [],
   "source": [
    "X[1, 2] = 17\n",
    "\n",
    "#X [row, column]!"
   ]
  },
  {
   "cell_type": "code",
   "execution_count": 15,
   "id": "4f0485f4-6b9c-4c3c-9509-0fa53e20cfa9",
   "metadata": {},
   "outputs": [
    {
     "data": {
      "text/plain": [
       "tensor([[ 0.,  1.,  2.,  3.],\n",
       "        [ 4.,  5., 17.,  7.],\n",
       "        [ 8.,  9., 10., 11.]])"
      ]
     },
     "execution_count": 15,
     "metadata": {},
     "output_type": "execute_result"
    }
   ],
   "source": [
    "X"
   ]
  },
  {
   "cell_type": "markdown",
   "id": "4b4f3068-ef9c-4345-b54c-9fbd8fade471",
   "metadata": {},
   "source": [
    "Values can also be set for many elements at once by using slicing on the left hand side of the assignmment operator\n"
   ]
  },
  {
   "cell_type": "code",
   "execution_count": 16,
   "id": "3ebb4bce-64be-4bd0-8203-e7eb8ca2e884",
   "metadata": {},
   "outputs": [
    {
     "data": {
      "text/plain": [
       "tensor([[12., 12., 12., 12.],\n",
       "        [12., 12., 12., 12.],\n",
       "        [ 8.,  9., 10., 11.]])"
      ]
     },
     "execution_count": 16,
     "metadata": {},
     "output_type": "execute_result"
    }
   ],
   "source": [
    "X[:2, :] = 12\n",
    "X"
   ]
  },
  {
   "cell_type": "markdown",
   "id": "e6a91e89-98eb-4b89-b8f3-73670c7b1a4e",
   "metadata": {},
   "source": [
    "## Operations"
   ]
  },
  {
   "attachments": {
    "1bec3684-76b1-4c17-80e4-ad226c051426.png": {
     "image/png": "[encoded data removed]"
    }
   },
   "cell_type": "markdown",
   "id": "b9e831af-7114-484b-9b45-70d5fcd89c11",
   "metadata": {},
   "source": [
    "Among the most useful operations which can be performed are element-wise operations. These apply scalar operations individually to each element of a tensor. When a function takes two tensors as an input, element wise operations apply a binary operator on each pair of corresponding inputs. Any function that maps a scalar to a scalar can be broadcast to be applied as an element-wise operation on a tensor. \n",
    "\n",
    "We denote a unary scalar operator (one which takes a single tensor as an input) as f: R -> R  ![Screenshot 2025-02-06 at 20.54.30.png](attachment:1bec3684-76b1-4c17-80e4-ad226c051426.png) "
   ]
  },
  {
   "cell_type": "code",
   "execution_count": 17,
   "id": "c667e604-3cad-4e0b-9a5c-99fe012cb03d",
   "metadata": {},
   "outputs": [
    {
     "data": {
      "text/plain": [
       "tensor([162754.7969, 162754.7969, 162754.7969, 162754.7969, 162754.7969,\n",
       "        162754.7969, 162754.7969, 162754.7969,   2980.9580,   8103.0840,\n",
       "         22026.4648,  59874.1406])"
      ]
     },
     "execution_count": 17,
     "metadata": {},
     "output_type": "execute_result"
    }
   ],
   "source": [
    "torch.exp(x)"
   ]
  },
  {
   "attachments": {
    "05cd8e78-b32e-4905-b089-623903b9f1e5.png": {
     "image/png": "[encoded data removed]"
    }
   },
   "cell_type": "markdown",
   "id": "5cef5fe7-f76e-48c6-9001-c315e04bc9cf",
   "metadata": {},
   "source": [
    "a binary scalar operator takes two tensors as input. f: R, R -> R ![Screenshot 2025-02-06 at 20.55.23.png](attachment:05cd8e78-b32e-4905-b089-623903b9f1e5.png)"
   ]
  },
  {
   "cell_type": "markdown",
   "id": "246c326f-3f4d-46f8-a296-27a910dba389",
   "metadata": {},
   "source": [
    "In the example below, the common standard arithmetic operators +, -, *, /, ** have been \"lifted\" to binary scalar operators for identically shaped tensors of arbitrary shape. \n",
    "\n",
    "$f : \\mathbb{R}, \\mathbb{R} \\rightarrow \\mathbb{R}$"
   ]
  },
  {
   "cell_type": "code",
   "execution_count": 19,
   "id": "cdd8401d-2fc5-491d-ac63-5722f1ca9c06",
   "metadata": {},
   "outputs": [
    {
     "data": {
      "text/plain": [
       "(tensor([ 3.,  4.,  6., 10.]),\n",
       " tensor([-1.,  0.,  2.,  6.]),\n",
       " tensor([ 2.,  4.,  8., 16.]),\n",
       " tensor([0.5000, 1.0000, 2.0000, 4.0000]),\n",
       " tensor([ 1.,  4., 16., 64.]))"
      ]
     },
     "execution_count": 19,
     "metadata": {},
     "output_type": "execute_result"
    }
   ],
   "source": [
    "x = torch.tensor([1.0, 2, 4, 8])\n",
    "y = torch.tensor([2, 2, 2, 2])\n",
    "\n",
    "x + y, x - y, x * y, x / y, x ** y"
   ]
  },
  {
   "cell_type": "markdown",
   "id": "56746948-3f61-4eaa-8525-545fe11e7161",
   "metadata": {},
   "source": [
    "It is also possible to concatenate tensors together:"
   ]
  },
  {
   "cell_type": "code",
   "execution_count": 24,
   "id": "cb60448b-6b02-4abb-b092-48e4a888bc59",
   "metadata": {},
   "outputs": [
    {
     "data": {
      "text/plain": [
       "(tensor([[ 0.,  1.,  2.,  3.],\n",
       "         [ 4.,  5.,  6.,  7.],\n",
       "         [ 8.,  9., 10., 11.],\n",
       "         [ 2.,  1.,  4.,  3.],\n",
       "         [ 1.,  2.,  3.,  4.],\n",
       "         [ 4.,  3.,  2.,  1.]]),\n",
       " tensor([[ 0.,  1.,  2.,  3.,  2.,  1.,  4.,  3.],\n",
       "         [ 4.,  5.,  6.,  7.,  1.,  2.,  3.,  4.],\n",
       "         [ 8.,  9., 10., 11.,  4.,  3.,  2.,  1.]]))"
      ]
     },
     "execution_count": 24,
     "metadata": {},
     "output_type": "execute_result"
    }
   ],
   "source": [
    "X = torch.arange(12, dtype=torch.float32).reshape(3, 4)\n",
    "Y = torch.tensor([[2.0, 1, 4, 3], [1, 2, 3, 4], [4, 3, 2, 1]])\n",
    "\n",
    "torch.cat((X, Y), dim=0), torch.cat((X, Y), dim=1)"
   ]
  },
  {
   "cell_type": "code",
   "execution_count": 25,
   "id": "22e19150-dcb0-4c29-82ff-e3f0cc0120c6",
   "metadata": {},
   "outputs": [
    {
     "data": {
      "text/plain": [
       "tensor([[False,  True, False,  True],\n",
       "        [False, False, False, False],\n",
       "        [False, False, False, False]])"
      ]
     },
     "execution_count": 25,
     "metadata": {},
     "output_type": "execute_result"
    }
   ],
   "source": [
    "# We can also create a binary tensor via logical statements, for example\n",
    "\n",
    "X == Y"
   ]
  },
  {
   "cell_type": "code",
   "execution_count": 27,
   "id": "768bae5d-56f1-4d09-991e-7deff6717726",
   "metadata": {},
   "outputs": [
    {
     "data": {
      "text/plain": [
       "tensor(66.)"
      ]
     },
     "execution_count": 27,
     "metadata": {},
     "output_type": "execute_result"
    }
   ],
   "source": [
    "# Summing all the elements of a tensor results in a one-element tensor\n",
    "\n",
    "X.sum()"
   ]
  },
  {
   "cell_type": "markdown",
   "id": "1b9ecca9-276d-492f-9752-502b0ccc56ac",
   "metadata": {},
   "source": [
    "## Broadcasting"
   ]
  },
  {
   "cell_type": "code",
   "execution_count": 29,
   "id": "fa20e9d7-68ef-4ae4-bd22-a4d8055fc131",
   "metadata": {},
   "outputs": [],
   "source": [
    "# Under certain conditions, even when shapes differ, binary operations may be carried out on tensors by invoking the broadcasting mechanism. This is done in two steps;\n",
    "# 1. The elements of one or both arrays are expanded along axes with length 1 so that both arrays have the same shape\n",
    "# 2. the element-wise binary operation is then carried out."
   ]
  },
  {
   "cell_type": "code",
   "execution_count": 32,
   "id": "bae03831-e571-465c-a54e-7a6d39843919",
   "metadata": {},
   "outputs": [
    {
     "data": {
      "text/plain": [
       "(tensor([[0],\n",
       "         [1],\n",
       "         [2]]),\n",
       " tensor([[0, 1]]))"
      ]
     },
     "execution_count": 32,
     "metadata": {},
     "output_type": "execute_result"
    }
   ],
   "source": [
    "a = torch.arange(3).reshape((3, 1))\n",
    "b = torch.arange(2).reshape((1, 2))\n",
    "\n",
    "a, b"
   ]
  },
  {
   "cell_type": "code",
   "execution_count": 33,
   "id": "7294f97c-2027-4bcd-82cc-c2a4e64a5f43",
   "metadata": {},
   "outputs": [],
   "source": [
    "# Since a and b are matrices of different sizes and shapes, the binary operation cannot be carried out without broadcasting. \n",
    "# the broadcasting mechanism copies the elements of a and b along both axes to produce two 3x2 arrays, the elements of which are then added element-wise."
   ]
  },
  {
   "cell_type": "code",
   "execution_count": 38,
   "id": "101e6233-8b0e-430e-8a57-e2213bc7d129",
   "metadata": {},
   "outputs": [
    {
     "data": {
      "text/plain": [
       "tensor([[0, 1],\n",
       "        [1, 2],\n",
       "        [2, 3]])"
      ]
     },
     "execution_count": 38,
     "metadata": {},
     "output_type": "execute_result"
    }
   ],
   "source": [
    "a + b"
   ]
  },
  {
   "cell_type": "markdown",
   "id": "18c20497-74fc-492f-9eda-9b4daacfcf03",
   "metadata": {},
   "source": [
    "## Saving Memory\n",
    "\n",
    "An expression like Y = X + Y is memory inefficient, because memory is deallocated from the first Y variable and reallocated to the tensor on the LHS of the asignment operator. This can be avoided by exlicitly setting the _content_ of the original tensor to be that of the new tensor, using slicing notation Y[:] = X + Y"
   ]
  },
  {
   "cell_type": "code",
   "execution_count": 41,
   "id": "8d23aebe-88ba-41d9-a37f-159f9050d673",
   "metadata": {},
   "outputs": [
    {
     "name": "stdout",
     "output_type": "stream",
     "text": [
      "4708973520\n",
      "4708974480\n",
      "False\n"
     ]
    }
   ],
   "source": [
    "# In the below example, we use python's .id() method to see that the two memory locations are not the same\n",
    "original_id = id(Y)\n",
    "Y = Y + X\n",
    "new_id = id(Y)\n",
    "\n",
    "print(original_id)\n",
    "print(new_id)\n",
    "print(original_id == new_id)"
   ]
  },
  {
   "cell_type": "code",
   "execution_count": 44,
   "id": "25ca5e1a-adbf-4e5b-855c-1d84233f98c2",
   "metadata": {},
   "outputs": [
    {
     "name": "stdout",
     "output_type": "stream",
     "text": [
      "4708974480\n",
      "4708974480\n",
      "True\n"
     ]
    }
   ],
   "source": [
    "# However, by using the slicing notation this operation can be performed in-place. Saving memory and preventing accidentally referencing the memory location of stale parameters.\n",
    "original_id = id(Y)\n",
    "Y[:] = Y + X\n",
    "new_id = id(Y)\n",
    "\n",
    "print(original_id)\n",
    "print(new_id)\n",
    "print(original_id == new_id)"
   ]
  },
  {
   "cell_type": "code",
   "execution_count": 47,
   "id": "74e38e75-8b60-48c8-9bfd-9582f4584298",
   "metadata": {},
   "outputs": [
    {
     "name": "stdout",
     "output_type": "stream",
     "text": [
      "4708974480\n",
      "4708974480\n"
     ]
    }
   ],
   "source": [
    "# The plus-equal operator can also be used for simple addition operations, as this performs the operation in-place in memory.\n",
    "print(id(Y))\n",
    "\n",
    "Y += X\n",
    "\n",
    "print(id(Y))"
   ]
  },
  {
   "cell_type": "markdown",
   "id": "99e1ed57-9a99-49da-9730-83ca813d58b4",
   "metadata": {},
   "source": [
    "## Conversion to other python objects\n",
    "\n",
    "Converting back and forth from numpy arrays to torch tensors is easy, and the resulting arrays will share their locations in memory to avoid duplication. "
   ]
  },
  {
   "cell_type": "code",
   "execution_count": 50,
   "id": "d00e42df-e46a-48c7-aa46-34ac0fc5f530",
   "metadata": {},
   "outputs": [
    {
     "data": {
      "text/plain": [
       "(numpy.ndarray, torch.Tensor)"
      ]
     },
     "execution_count": 50,
     "metadata": {},
     "output_type": "execute_result"
    }
   ],
   "source": [
    "A = X.numpy()\n",
    "B = torch.from_numpy(A)\n",
    "\n",
    "type(A), type(B)"
   ]
  },
  {
   "cell_type": "code",
   "execution_count": 58,
   "id": "0c3c6d80-3943-4e03-b82d-9e0fe72bdf6d",
   "metadata": {},
   "outputs": [
    {
     "data": {
      "text/plain": [
       "(tensor([3.5000]), 3.5, 3.5, 3)"
      ]
     },
     "execution_count": 58,
     "metadata": {},
     "output_type": "execute_result"
    }
   ],
   "source": [
    "# To convert a one-size tensor to a python scalar, we can invoke the torch.tensor.item() function or one of python's builtin functions\n",
    "\n",
    "a = torch.tensor([3.5])\n",
    "\n",
    "a, a.item(), float(a), int(a)"
   ]
  },
  {
   "cell_type": "markdown",
   "id": "df77f679-ffa8-4c57-a287-461ee0e7f440",
   "metadata": {},
   "source": [
    "## Experimentation"
   ]
  },
  {
   "cell_type": "code",
   "execution_count": 66,
   "id": "d61113cc-a1fd-4730-8a86-9ffb0b500bb1",
   "metadata": {},
   "outputs": [],
   "source": [
    "X2 = torch.arange(9, dtype=torch.float32).reshape((3, 3))"
   ]
  },
  {
   "cell_type": "code",
   "execution_count": 67,
   "id": "fbb4cb37-35f9-4b70-a125-73812c8c300a",
   "metadata": {},
   "outputs": [
    {
     "data": {
      "text/plain": [
       "tensor([[0., 1., 2.],\n",
       "        [3., 4., 5.],\n",
       "        [6., 7., 8.]])"
      ]
     },
     "execution_count": 67,
     "metadata": {},
     "output_type": "execute_result"
    }
   ],
   "source": [
    "X2"
   ]
  },
  {
   "cell_type": "code",
   "execution_count": 64,
   "id": "4a2b777a-7afb-4db8-9d20-7944f21adb4c",
   "metadata": {},
   "outputs": [],
   "source": [
    "X3 = torch.arange(27, dtype=torch.float32).reshape((3, 3, 3))"
   ]
  },
  {
   "cell_type": "code",
   "execution_count": 65,
   "id": "77725e9a-410d-4026-9e94-28a2230eadd2",
   "metadata": {},
   "outputs": [
    {
     "data": {
      "text/plain": [
       "tensor([[[ 0.,  1.,  2.],\n",
       "         [ 3.,  4.,  5.],\n",
       "         [ 6.,  7.,  8.]],\n",
       "\n",
       "        [[ 9., 10., 11.],\n",
       "         [12., 13., 14.],\n",
       "         [15., 16., 17.]],\n",
       "\n",
       "        [[18., 19., 20.],\n",
       "         [21., 22., 23.],\n",
       "         [24., 25., 26.]]])"
      ]
     },
     "execution_count": 65,
     "metadata": {},
     "output_type": "execute_result"
    }
   ],
   "source": [
    "X3"
   ]
  },
  {
   "cell_type": "code",
   "execution_count": 73,
   "id": "b2161b58-e7d7-4338-8fa2-86943a79a171",
   "metadata": {},
   "outputs": [
    {
     "name": "stdout",
     "output_type": "stream",
     "text": [
      "tensor(23.)\n",
      "tensor(11.)\n"
     ]
    }
   ],
   "source": [
    "# Aiming for 23\n",
    "print(X3[2, 1, 2])\n",
    "\n",
    "# So indexing in 3D is like \"layer, row, column\"\n",
    "\n",
    "# Aiming for 11\n",
    "print(X3[1, 0, 2])"
   ]
  },
  {
   "cell_type": "code",
   "execution_count": null,
   "id": "30c3790b-2500-4a27-82c5-6d9581685fa7",
   "metadata": {},
   "outputs": [],
   "source": []
  },
  {
   "cell_type": "code",
   "execution_count": null,
   "id": "03a38c65-bcd6-4a39-9bf9-21eb64f79284",
   "metadata": {},
   "outputs": [],
   "source": []
  },
  {
   "cell_type": "code",
   "execution_count": null,
   "id": "58aabfcf-4b98-4860-8307-970422f53748",
   "metadata": {},
   "outputs": [],
   "source": []
  },
  {
   "cell_type": "code",
   "execution_count": null,
   "id": "2b9311af-1866-4f04-8dd0-8372bda9211a",
   "metadata": {},
   "outputs": [],
   "source": []
  },
  {
   "cell_type": "code",
   "execution_count": null,
   "id": "407ac9a0-36f4-4b6c-a6c8-ce6f0fdc0506",
   "metadata": {},
   "outputs": [],
   "source": []
  }
 ],
 "metadata": {
  "kernelspec": {
   "display_name": "Python 3 (ipykernel)",
   "language": "python",
   "name": "python3"
  },
  "language_info": {
   "codemirror_mode": {
    "name": "ipython",
    "version": 3
   },
   "file_extension": ".py",
   "mimetype": "text/x-python",
   "name": "python",
   "nbconvert_exporter": "python",
   "pygments_lexer": "ipython3",
   "version": "3.9.21"
  }
 },
 "nbformat": 4,
 "nbformat_minor": 5
}
