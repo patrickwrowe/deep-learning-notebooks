{
 "cells": [
  {
   "cell_type": "code",
   "execution_count": 3,
   "id": "3d3adfda-f31e-4669-81e9-c6b55a12161b",
   "metadata": {},
   "outputs": [],
   "source": [
    "import torch"
   ]
  },
  {
   "cell_type": "markdown",
   "id": "934dc125-67a0-4543-8505-d8f71d979ddd",
   "metadata": {},
   "source": [
    "## Fundamentals"
   ]
  },
  {
   "cell_type": "code",
   "execution_count": 5,
   "id": "0ebece86-1355-4f4e-b5ff-23245f4a9943",
   "metadata": {},
   "outputs": [
    {
     "data": {
      "text/plain": [
       "tensor([ 0.,  1.,  2.,  3.,  4.,  5.,  6.,  7.,  8.,  9., 10., 11.])"
      ]
     },
     "execution_count": 5,
     "metadata": {},
     "output_type": "execute_result"
    }
   ],
   "source": [
    "x = torch.arange(12, dtype=torch.float32)\n",
    "x"
   ]
  },
  {
   "cell_type": "markdown",
   "id": "0c7f716c-8a61-4ef1-9e48-9db8624be687",
   "metadata": {},
   "source": [
    "Each value in the tensor is called an element, we can check the number of elements, this tensor contains 12 elements."
   ]
  },
  {
   "cell_type": "code",
   "execution_count": 6,
   "id": "1e8b7ba9-83ec-4a68-a0be-58144f3b3515",
   "metadata": {},
   "outputs": [
    {
     "data": {
      "text/plain": [
       "12"
      ]
     },
     "execution_count": 6,
     "metadata": {},
     "output_type": "execute_result"
    }
   ],
   "source": [
    "x.numel()"
   ]
  },
  {
   "cell_type": "markdown",
   "id": "dfb4a191-af97-4e5e-b6ea-df815078cb1a",
   "metadata": {},
   "source": [
    "We can check the tensor's shape using x.shape, because this is a one-dimensional tensor (a vector) the shape is a scalar equivalent to its size"
   ]
  },
  {
   "cell_type": "code",
   "execution_count": 8,
   "id": "08cc555f-f211-4532-84f6-9330620edcd3",
   "metadata": {},
   "outputs": [
    {
     "data": {
      "text/plain": [
       "torch.Size([12])"
      ]
     },
     "execution_count": 8,
     "metadata": {},
     "output_type": "execute_result"
    }
   ],
   "source": [
    "x.shape"
   ]
  },
  {
   "cell_type": "markdown",
   "id": "b642adda-87d3-4dab-b10b-cfa24f2c0a59",
   "metadata": {},
   "source": [
    "We can change the shape of the tensor by invoking tensor.resize. Note that the elements are laid out in the tensor one row at a time...\n",
    "\n",
    "The first element in the reshape matrix is the number of rows, the second is the number of columns."
   ]
  },
  {
   "cell_type": "code",
   "execution_count": 9,
   "id": "573eb737-ec8f-4a23-9ab5-04a4d39c98a4",
   "metadata": {},
   "outputs": [
    {
     "data": {
      "text/plain": [
       "tensor([[ 0.,  1.,  2.,  3.],\n",
       "        [ 4.,  5.,  6.,  7.],\n",
       "        [ 8.,  9., 10., 11.]])"
      ]
     },
     "execution_count": 9,
     "metadata": {},
     "output_type": "execute_result"
    }
   ],
   "source": [
    "x.reshape([3, 4])"
   ]
  },
  {
   "cell_type": "markdown",
   "id": "fc05654b-1b09-47e8-abce-26848acabbc3",
   "metadata": {},
   "source": [
    "Because we already know the size of the tensor, we need not specify all elements of the size each time. If we have a tensor with n elements, we know that if we specify want a target shape (h, w) and specify a height h, the width must be n/w. In such cases we can specify -1, and the dimension will be automatically inferred. \n"
   ]
  },
  {
   "cell_type": "code",
   "execution_count": 19,
   "id": "19b44d4c-3d86-4104-9531-d26264d0fbad",
   "metadata": {},
   "outputs": [
    {
     "data": {
      "text/plain": [
       "tensor([[ 0.,  1.,  2.,  3.],\n",
       "        [ 4.,  5.,  6.,  7.],\n",
       "        [ 8.,  9., 10., 11.]])"
      ]
     },
     "execution_count": 19,
     "metadata": {},
     "output_type": "execute_result"
    }
   ],
   "source": [
    "X = x.reshape([3, -1])\n",
    "X"
   ]
  },
  {
   "cell_type": "markdown",
   "id": "df764448-3b7b-4e4a-a447-57e1b5b1e4bd",
   "metadata": {},
   "source": [
    "Often we have to work with tensors initialised to all zeros or all ones, this can be done with"
   ]
  },
  {
   "cell_type": "code",
   "execution_count": 11,
   "id": "eb16fa5d-16be-4781-9843-6c67f1926244",
   "metadata": {},
   "outputs": [
    {
     "data": {
      "text/plain": [
       "tensor([[[0., 0., 0., 0., 0.],\n",
       "         [0., 0., 0., 0., 0.],\n",
       "         [0., 0., 0., 0., 0.],\n",
       "         [0., 0., 0., 0., 0.]],\n",
       "\n",
       "        [[0., 0., 0., 0., 0.],\n",
       "         [0., 0., 0., 0., 0.],\n",
       "         [0., 0., 0., 0., 0.],\n",
       "         [0., 0., 0., 0., 0.]],\n",
       "\n",
       "        [[0., 0., 0., 0., 0.],\n",
       "         [0., 0., 0., 0., 0.],\n",
       "         [0., 0., 0., 0., 0.],\n",
       "         [0., 0., 0., 0., 0.]]])"
      ]
     },
     "execution_count": 11,
     "metadata": {},
     "output_type": "execute_result"
    }
   ],
   "source": [
    "torch.zeros((3, 4, 5))"
   ]
  },
  {
   "cell_type": "code",
   "execution_count": 12,
   "id": "23cbaa85-80bb-4e3e-8bba-672b773f973e",
   "metadata": {},
   "outputs": [
    {
     "data": {
      "text/plain": [
       "tensor([[[1., 1., 1., 1., 1.],\n",
       "         [1., 1., 1., 1., 1.],\n",
       "         [1., 1., 1., 1., 1.],\n",
       "         [1., 1., 1., 1., 1.]],\n",
       "\n",
       "        [[1., 1., 1., 1., 1.],\n",
       "         [1., 1., 1., 1., 1.],\n",
       "         [1., 1., 1., 1., 1.],\n",
       "         [1., 1., 1., 1., 1.]],\n",
       "\n",
       "        [[1., 1., 1., 1., 1.],\n",
       "         [1., 1., 1., 1., 1.],\n",
       "         [1., 1., 1., 1., 1.],\n",
       "         [1., 1., 1., 1., 1.]]])"
      ]
     },
     "execution_count": 12,
     "metadata": {},
     "output_type": "execute_result"
    }
   ],
   "source": [
    "# or\n",
    "\n",
    "torch.ones((3, 4, 5))"
   ]
  },
  {
   "cell_type": "code",
   "execution_count": 14,
   "id": "1810a74f-9d4a-4125-a712-1dd53b16b2b4",
   "metadata": {},
   "outputs": [
    {
     "data": {
      "text/plain": [
       "tensor([[[-8.8964e-01, -8.7597e-01,  2.6816e-01,  2.4338e+00, -2.5303e-01],\n",
       "         [ 1.6838e+00, -2.6752e-01, -1.1219e+00,  8.7520e-01,  6.3621e-01],\n",
       "         [ 2.7588e-01,  9.9307e-01,  1.4364e+00, -3.4072e+00,  6.2142e-01],\n",
       "         [ 1.4483e+00,  4.4107e-01,  8.0103e-01,  2.3146e-02, -1.0697e+00]],\n",
       "\n",
       "        [[ 2.5464e+00,  8.5022e-01,  4.5246e-01,  8.3171e-01,  3.8697e-01],\n",
       "         [ 6.0358e-01,  1.0341e+00,  2.3750e+00,  1.0787e+00, -6.0307e-01],\n",
       "         [ 6.9007e-01,  5.6327e-01,  7.0523e-03, -4.9434e-01,  9.1962e-03],\n",
       "         [-1.2410e+00, -9.8368e-01,  4.6736e-02,  4.7661e-01,  8.9424e-02]],\n",
       "\n",
       "        [[-5.3632e-01, -5.2646e-01,  6.7998e-01,  1.7140e-01,  1.2365e+00],\n",
       "         [-1.0682e+00, -5.2055e-01,  3.4670e-01, -3.3354e-01, -8.5613e-01],\n",
       "         [ 6.0269e-01,  3.6539e-01,  2.3622e+00,  6.7190e-01,  6.8408e-02],\n",
       "         [-1.0046e+00,  7.2385e-01,  3.8795e-01,  1.4594e-03,  2.2299e-01]]])"
      ]
     },
     "execution_count": 14,
     "metadata": {},
     "output_type": "execute_result"
    }
   ],
   "source": [
    "# we often want to sample randomly and independently from a probability distribution function, which can be done with\n",
    "\n",
    "torch.randn((3, 4, 5))"
   ]
  },
  {
   "cell_type": "code",
   "execution_count": 15,
   "id": "f97b35d3-fdae-470b-8712-f2978a03ae81",
   "metadata": {},
   "outputs": [
    {
     "data": {
      "text/plain": [
       "tensor([[1, 2, 3],\n",
       "        [4, 5, 6],\n",
       "        [7, 8, 9]])"
      ]
     },
     "execution_count": 15,
     "metadata": {},
     "output_type": "execute_result"
    }
   ],
   "source": [
    "# We may also want to specify the elements manually, which can be done by providing a list of lists (nested) presumably this can also be done from a text file or numpy.ndarray\n",
    "\n",
    "torch.tensor([[1, 2, 3], [4, 5, 6], [7, 8, 9]])"
   ]
  },
  {
   "cell_type": "markdown",
   "id": "3afce0fa-8c9e-4cda-985b-93a63611eaa7",
   "metadata": {},
   "source": [
    "## Slicing"
   ]
  },
  {
   "cell_type": "markdown",
   "id": "af8c23c6-c81a-4884-a986-bcb11fd2018b",
   "metadata": {},
   "source": [
    "As with python lists, we can access the elements of a tensor by indexing (beginning at zero) and slicing, with X[start:stop] which will return values from start (included) to stop (NOT included)."
   ]
  },
  {
   "cell_type": "code",
   "execution_count": 22,
   "id": "580a0322-df3e-4b88-b36c-3a04094d68ba",
   "metadata": {},
   "outputs": [
    {
     "data": {
      "text/plain": [
       "tensor([[ 0.,  1.,  2.,  3.],\n",
       "        [ 4.,  5.,  6.,  7.],\n",
       "        [ 8.,  9., 10., 11.]])"
      ]
     },
     "execution_count": 22,
     "metadata": {},
     "output_type": "execute_result"
    }
   ],
   "source": [
    "X"
   ]
  },
  {
   "cell_type": "code",
   "execution_count": 20,
   "id": "c7bc79ee-ed57-4092-9971-0e69e849e7ca",
   "metadata": {},
   "outputs": [
    {
     "data": {
      "text/plain": [
       "tensor([0., 1., 2., 3.])"
      ]
     },
     "execution_count": 20,
     "metadata": {},
     "output_type": "execute_result"
    }
   ],
   "source": [
    "X[0]"
   ]
  },
  {
   "cell_type": "code",
   "execution_count": 27,
   "id": "7334d5f7-a1ae-467a-bda4-12c4ce1d9fa0",
   "metadata": {},
   "outputs": [
    {
     "data": {
      "text/plain": [
       "tensor([[ 4.,  5.,  6.,  7.],\n",
       "        [ 8.,  9., 10., 11.]])"
      ]
     },
     "execution_count": 27,
     "metadata": {},
     "output_type": "execute_result"
    }
   ],
   "source": [
    "X[1:4]"
   ]
  },
  {
   "cell_type": "markdown",
   "id": "e5b847ef-7a48-4e01-9e69-0a67b170f3e7",
   "metadata": {},
   "source": [
    "Beyond reading them, we can also write to them"
   ]
  },
  {
   "cell_type": "code",
   "execution_count": 34,
   "id": "82ddd5e2-cbb7-4874-9b3a-003b66b10f75",
   "metadata": {},
   "outputs": [],
   "source": [
    "X[1, 2] = 17\n",
    "\n",
    "#X [row, column]!"
   ]
  },
  {
   "cell_type": "code",
   "execution_count": 35,
   "id": "4f0485f4-6b9c-4c3c-9509-0fa53e20cfa9",
   "metadata": {},
   "outputs": [
    {
     "data": {
      "text/plain": [
       "tensor([[ 0.,  1.,  2.,  3.],\n",
       "        [ 4.,  5., 17.,  7.],\n",
       "        [ 8.,  9., 10., 11.]])"
      ]
     },
     "execution_count": 35,
     "metadata": {},
     "output_type": "execute_result"
    }
   ],
   "source": [
    "X"
   ]
  },
  {
   "cell_type": "markdown",
   "id": "4b4f3068-ef9c-4345-b54c-9fbd8fade471",
   "metadata": {},
   "source": [
    "Values can also be set for many elements at once by using slicing on the left hand side of the assignmment operator\n"
   ]
  },
  {
   "cell_type": "code",
   "execution_count": 38,
   "id": "3ebb4bce-64be-4bd0-8203-e7eb8ca2e884",
   "metadata": {},
   "outputs": [
    {
     "data": {
      "text/plain": [
       "tensor([[12., 12., 12., 12.],\n",
       "        [12., 12., 12., 12.],\n",
       "        [ 8.,  9., 10., 11.]])"
      ]
     },
     "execution_count": 38,
     "metadata": {},
     "output_type": "execute_result"
    }
   ],
   "source": [
    "X[:2, :] = 12\n",
    "X"
   ]
  },
  {
   "cell_type": "code",
   "execution_count": null,
   "id": "638392b8-a739-4542-bef8-c0a4dddcee3f",
   "metadata": {},
   "outputs": [],
   "source": []
  },
  {
   "cell_type": "code",
   "execution_count": null,
   "id": "fa17cfa3-afa1-44f5-9f77-64b2293f2ef4",
   "metadata": {},
   "outputs": [],
   "source": []
  },
  {
   "cell_type": "code",
   "execution_count": null,
   "id": "c667e604-3cad-4e0b-9a5c-99fe012cb03d",
   "metadata": {},
   "outputs": [],
   "source": []
  },
  {
   "cell_type": "code",
   "execution_count": null,
   "id": "dd7e1c3b-fb6d-4de4-9a91-39378371eb00",
   "metadata": {},
   "outputs": [],
   "source": []
  },
  {
   "cell_type": "code",
   "execution_count": null,
   "id": "84543869-fd24-4144-8a51-520270cf66e7",
   "metadata": {},
   "outputs": [],
   "source": []
  },
  {
   "cell_type": "code",
   "execution_count": null,
   "id": "cdd8401d-2fc5-491d-ac63-5722f1ca9c06",
   "metadata": {},
   "outputs": [],
   "source": []
  },
  {
   "cell_type": "code",
   "execution_count": null,
   "id": "3fc738a3-348d-4a6c-9200-01b5640f2488",
   "metadata": {},
   "outputs": [],
   "source": []
  },
  {
   "cell_type": "code",
   "execution_count": null,
   "id": "cb60448b-6b02-4abb-b092-48e4a888bc59",
   "metadata": {},
   "outputs": [],
   "source": []
  }
 ],
 "metadata": {
  "kernelspec": {
   "display_name": "Python 3 (ipykernel)",
   "language": "python",
   "name": "python3"
  },
  "language_info": {
   "codemirror_mode": {
    "name": "ipython",
    "version": 3
   },
   "file_extension": ".py",
   "mimetype": "text/x-python",
   "name": "python",
   "nbconvert_exporter": "python",
   "pygments_lexer": "ipython3",
   "version": "3.9.21"
  }
 },
 "nbformat": 4,
 "nbformat_minor": 5
}
