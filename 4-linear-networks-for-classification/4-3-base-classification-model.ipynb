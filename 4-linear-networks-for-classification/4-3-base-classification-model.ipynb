{
 "cells": [
  {
   "cell_type": "markdown",
   "id": "4cd953aa-feca-4323-a6a0-1b8289b9e7bf",
   "metadata": {},
   "source": [
    "# The Base Classification Model"
   ]
  },
  {
   "cell_type": "code",
   "execution_count": 1,
   "id": "43a5d10d-b76b-4410-a891-8f8da1a468e9",
   "metadata": {},
   "outputs": [],
   "source": [
    "import torch\n",
    "from d2l import torch as d2l"
   ]
  },
  {
   "cell_type": "code",
   "execution_count": 4,
   "id": "2c0b6b0e-2bc3-4e21-84c9-68d2f81544a3",
   "metadata": {},
   "outputs": [],
   "source": [
    "class Classifier(d2l.Module):\n",
    "    \"\"\"The base class of classification models\"\"\"\n",
    "\n",
    "    def validation_step(self, batch):\n",
    "        Y_hat = self(*batch[:-1])\n",
    "        self.plot('loss', self.loss(Y_hat, batch[-1]), train=False)\n",
    "        self.plot('accuracy', self.accuracy(Y_hat, batch[-1]), train=False)\n",
    "\n",
    "    def configure_optimisers(self):\n",
    "        return torch.optim.SGD(self.parameters(), lr=self.lr)\n",
    "\n",
    "    def accuracy(self, Y_hat, Y, averaged=True):\n",
    "        # Does this just flatten it? Or ensure that it has the right dimensionality?\n",
    "        Y_hat = Y_hat.reshape(-1, Y_hat.shape([-1]))\n",
    "        # Get the index with the maximum probability and set this to have the same datatype as y\n",
    "        preds = Y_hat.argmax(axis=1).type(Y.dtype)\n",
    "        compare = (preds == Y.reshape(-1)).type(torch.float32)\n",
    "        return compare.mean() if averaged else compare\n",
    "        "
   ]
  },
  {
   "cell_type": "markdown",
   "id": "6dd47f19-9f9e-4c0a-b474-85e5864c6e1a",
   "metadata": {},
   "source": [
    "## Accuracy\n",
    "\n",
    "Although a model may estiamte probabilities of classes internally, the final prediction must be a hard category, the _accuracy_ of the model is simply the fraction of classifications that the model gets correct. This is pretty challenging to actually optimize against, as it is non-differentiable, but it is often _the_ metric that we care deeply about for assessing the success of a model."
   ]
  },
  {
   "cell_type": "code",
   "execution_count": null,
   "id": "95595e8f-fb6d-4670-a1bb-949a77ea02d9",
   "metadata": {},
   "outputs": [],
   "source": []
  }
 ],
 "metadata": {
  "kernelspec": {
   "display_name": "Python 3 (ipykernel)",
   "language": "python",
   "name": "python3"
  },
  "language_info": {
   "codemirror_mode": {
    "name": "ipython",
    "version": 3
   },
   "file_extension": ".py",
   "mimetype": "text/x-python",
   "name": "python",
   "nbconvert_exporter": "python",
   "pygments_lexer": "ipython3",
   "version": "3.9.21"
  }
 },
 "nbformat": 4,
 "nbformat_minor": 5
}
